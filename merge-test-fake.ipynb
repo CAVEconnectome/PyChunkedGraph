{
 "cells": [
  {
   "cell_type": "code",
   "execution_count": null,
   "metadata": {},
   "outputs": [],
   "source": [
    "from collections import defaultdict\n",
    "import numpy as np\n",
    "from pychunkedgraph.graph import ChunkedGraph\n",
    "from pychunkedgraph.graph.utils.inspect import dfs_print_node\n",
    "\n",
    "from pychunkedgraph.graph.edits import add_edges, remove_edges\n",
    "from pychunkedgraph.graph.utils.context_managers import TimeIt\n",
    "from pychunkedgraph.graph.operation import MergeOperation\n",
    "\n",
    "cg = ChunkedGraph(graph_id=\"akhilesh-minnie65-1\")"
   ]
  },
  {
   "cell_type": "code",
   "execution_count": null,
   "metadata": {},
   "outputs": [],
   "source": [
    "data = [\n",
    "    [\"94595040390827505\",909404.9375,930447.875,784063.25],\n",
    "    [\"94524671646636264\",909251.0625,930452.1875,784063.25]\n",
    "]\n",
    "data = {\n",
    "    \"sources\": [data[0]],\n",
    "    \"sinks\": [data[1]]\n",
    "}\n",
    "data"
   ]
  },
  {
   "cell_type": "code",
   "execution_count": null,
   "metadata": {},
   "outputs": [],
   "source": [
    "# data = {\n",
    "#     \"sources\":[[\"94525358841391819\",909299.25,950458.1875,783103.25]],\n",
    "#     \"sinks\":[[\"94595727585563012\",909363.3125,950430.3125,783103.25]]\n",
    "# }\n",
    "\n",
    "# data = {\n",
    "#     \"sources\":[[\"94525358841391819\",909299.25,950458.1875,783103.25]],\n",
    "#     \"sinks\":[[\"94595727585563012\",909363.3125,950430.3125,783103.25]]\n",
    "# }"
   ]
  },
  {
   "cell_type": "code",
   "execution_count": null,
   "metadata": {},
   "outputs": [],
   "source": [
    "data_dict = {}\n",
    "for k in [\"sources\", \"sinks\"]:\n",
    "    data_dict[k] = defaultdict(list)\n",
    "    for node in data[k]:\n",
    "        node_id = node[0]\n",
    "        x, y, z = node[1:]\n",
    "        coordinate = np.array([x, y, z]) / cg.meta.resolution\n",
    "        atomic_id = cg.get_atomic_id_from_coord(\n",
    "            coordinate[0],\n",
    "            coordinate[1],\n",
    "            coordinate[2],\n",
    "            parent_id=np.uint64(node_id),\n",
    "        )\n",
    "\n",
    "        if atomic_id is None:\n",
    "            raise ValueError(\"aha\")\n",
    "        data_dict[k][\"id\"].append(atomic_id)\n",
    "        data_dict[k][\"coord\"].append(coordinate)\n",
    "\n",
    "edges = [\n",
    "    [data_dict[\"sources\"][\"id\"][0], data_dict[\"sinks\"][\"id\"][0]],\n",
    "]\n",
    "roots_old = cg.get_roots(edges[0])\n",
    "parents_old = cg.get_parents(edges[0])\n",
    "print(cg.get_cross_chunk_edges_layer(edges))\n",
    "print(edges[0])\n",
    "print(parents_old)\n",
    "print(roots_old)\n",
    "dfs_print_node(cg, roots_old[0], limit=2, sep=\"    \", count_only=True)\n",
    "dfs_print_node(cg, roots_old[1], limit=2, sep=\"    \", count_only=True)"
   ]
  },
  {
   "cell_type": "code",
   "execution_count": null,
   "metadata": {
    "scrolled": false
   },
   "outputs": [],
   "source": [
    "with TimeIt(\"add_edges\"):\n",
    "    result = cg.add_edges(\n",
    "        user_id=\"hi\",\n",
    "        atomic_edges=edges,\n",
    "        source_coords=data_dict[\"sources\"][\"coord\"],\n",
    "        sink_coords=data_dict[\"sinks\"][\"coord\"],\n",
    "    )"
   ]
  },
  {
   "cell_type": "code",
   "execution_count": null,
   "metadata": {},
   "outputs": [],
   "source": [
    "print(result)\n",
    "roots = result.new_root_ids\n",
    "dfs_print_node(cg, roots[0], limit=2, sep=\"    \", count_only=True)"
   ]
  }
 ],
 "metadata": {
  "kernelspec": {
   "display_name": "Python 3",
   "language": "python",
   "name": "python3"
  },
  "language_info": {
   "codemirror_mode": {
    "name": "ipython",
    "version": 3
   },
   "file_extension": ".py",
   "mimetype": "text/x-python",
   "name": "python",
   "nbconvert_exporter": "python",
   "pygments_lexer": "ipython3",
   "version": "3.7.4"
  }
 },
 "nbformat": 4,
 "nbformat_minor": 2
}

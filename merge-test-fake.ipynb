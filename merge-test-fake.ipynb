{
 "cells": [
  {
   "cell_type": "code",
   "execution_count": null,
   "metadata": {},
   "outputs": [],
   "source": [
    "from collections import defaultdict\n",
    "import numpy as np\n",
    "from pychunkedgraph.graph import ChunkedGraph\n",
    "from pychunkedgraph.graph.utils.inspect import dfs_print_node\n",
    "from pychunkedgraph.graph import cache\n",
    "\n",
    "from pychunkedgraph.graph.edits import add_edges, remove_edges\n",
    "from pychunkedgraph.graph.utils.context_managers import TimeIt\n",
    "from pychunkedgraph.graph.operation import MergeOperation\n",
    "\n",
    "cg = ChunkedGraph(graph_id=\"akhilesh-minnie65-1\")"
   ]
  },
  {
   "cell_type": "code",
   "execution_count": null,
   "metadata": {},
   "outputs": [],
   "source": [
    "data = {\n",
    "    \"sources\": [[\"94803466563722624\",916778,851942.625,783023.25]], # 354\n",
    "    \"sinks\": [[\"94803535283198313\",916697.1875,852031.75,783023.25]], # 832 = 1186\n",
    "}\n",
    "data_dict = {}\n",
    "for k in [\"sources\", \"sinks\"]:\n",
    "    data_dict[k] = defaultdict(list)\n",
    "    for node in data[k]:\n",
    "        node_id = node[0]\n",
    "        x, y, z = node[1:]\n",
    "        coordinate = np.array([x, y, z]) / cg.meta._ws_cv.resolution\n",
    "        atomic_id = cg.get_atomic_id_from_coord(\n",
    "            coordinate[0],\n",
    "            coordinate[1],\n",
    "            coordinate[2],\n",
    "            parent_id=np.uint64(node_id),\n",
    "        )\n",
    "\n",
    "        if atomic_id is None:\n",
    "            raise ValueError(\"aha\")\n",
    "        data_dict[k][\"id\"].append(atomic_id)\n",
    "        data_dict[k][\"coord\"].append(coordinate)\n",
    "data_dict"
   ]
  },
  {
   "cell_type": "code",
   "execution_count": null,
   "metadata": {},
   "outputs": [],
   "source": [
    "edges = [\n",
    "    [data_dict[\"sources\"][\"id\"][0], data_dict[\"sinks\"][\"id\"][0]],\n",
    "]\n",
    "roots_old = cg.get_roots(edges[0])\n",
    "print(edges[0], roots_old)\n",
    "print(cg.get_cross_chunk_edges_layer(edges))\n",
    "\n",
    "# dfs_print_node(cg, roots_old[0], limit=2, sep=\"    \", count_only=True)\n",
    "# dfs_print_node(cg, roots_old[1], limit=2, sep=\"    \", count_only=True)"
   ]
  },
  {
   "cell_type": "code",
   "execution_count": null,
   "metadata": {
    "scrolled": false
   },
   "outputs": [],
   "source": [
    "cache.clear()\n",
    "cg.cache = cache.CacheService(cg)\n",
    "\n",
    "op = MergeOperation(\n",
    "    cg,\n",
    "    user_id=\"test\",\n",
    "    added_edges=edges,\n",
    "    source_coords=data_dict[\"sources\"][\"coord\"],\n",
    "    sink_coords=data_dict[\"sinks\"][\"coord\"],\n",
    ")\n",
    "\n",
    "with TimeIt(\"add_edges\"):\n",
    "    new_ids = op._apply(operation_id=\"\",timestamp=None)"
   ]
  },
  {
   "cell_type": "code",
   "execution_count": null,
   "metadata": {},
   "outputs": [],
   "source": [
    "print()\n",
    "roots = new_ids[12]\n",
    "for i in range(2, 13):\n",
    "    print(i, new_ids[i])\n",
    "\n",
    "dfs_print_node(cg, roots[0], limit=2, sep=\"    \", count_only=True)"
   ]
  }
 ],
 "metadata": {
  "kernelspec": {
   "display_name": "Python 3",
   "language": "python",
   "name": "python3"
  },
  "language_info": {
   "codemirror_mode": {
    "name": "ipython",
    "version": 3
   },
   "file_extension": ".py",
   "mimetype": "text/x-python",
   "name": "python",
   "nbconvert_exporter": "python",
   "pygments_lexer": "ipython3",
   "version": "3.7.4"
  }
 },
 "nbformat": 4,
 "nbformat_minor": 2
}

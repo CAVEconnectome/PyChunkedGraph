{
 "cells": [
  {
   "cell_type": "code",
   "execution_count": 10,
   "metadata": {},
   "outputs": [
    {
     "name": "stdout",
     "output_type": "stream",
     "text": [
      "[[1 2]\n",
      " [3 4]]\n",
      "[[1 2]\n",
      " [3 4]\n",
      " [2 1]\n",
      " [4 3]]\n",
      "[[(1, 2)]\n",
      " [(3, 4)]\n",
      " [(2, 1)]\n",
      " [(4, 3)]]\n",
      "[(1, 2) (3, 4) (2, 1) (4, 3)]\n"
     ]
    }
   ],
   "source": [
    "import numpy as np\n",
    "\n",
    "a = np.array([[1,2],[3,4]])\n",
    "b = np.concatenate([a, a[:, ::-1]], axis=0)\n",
    "print(a.view(dtype='u8'))\n",
    "print(b)\n",
    "\n",
    "v = b.view(dtype='u8,u8')\n",
    "print(v)\n",
    "\n",
    "n = b.shape[0]\n",
    "v = v.reshape(n)\n",
    "\n",
    "print(v)"
   ]
  }
 ],
 "metadata": {
  "kernelspec": {
   "display_name": "Python 3",
   "language": "python",
   "name": "python3"
  },
  "language_info": {
   "codemirror_mode": {
    "name": "ipython",
    "version": 3
   },
   "file_extension": ".py",
   "mimetype": "text/x-python",
   "name": "python",
   "nbconvert_exporter": "python",
   "pygments_lexer": "ipython3",
   "version": "3.7.4"
  }
 },
 "nbformat": 4,
 "nbformat_minor": 2
}

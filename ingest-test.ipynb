{
 "cells": [
  {
   "cell_type": "code",
   "execution_count": null,
   "metadata": {
    "scrolled": false
   },
   "outputs": [],
   "source": [
    "import numpy as np\n",
    "from pychunkedgraph.ingest import IngestConfig\n",
    "from pychunkedgraph.ingest.manager import IngestionManager\n",
    "from pychunkedgraph.ingest.main import start_ingest\n",
    "from pychunkedgraph.ingest.ingestion_utils import initialize_chunkedgraph\n",
    "from pychunkedgraph.backend import DataSource\n",
    "from pychunkedgraph.backend import GraphConfig\n",
    "from pychunkedgraph.backend import BigTableConfig\n",
    "from pychunkedgraph.backend import ChunkedGraphMeta\n",
    "\n",
    "ingest_config = IngestConfig()\n",
    "bigtable_config = BigTableConfig(table_id_prefix=\"akhilesh-test-small-2\")\n",
    "\n",
    "graph_config = GraphConfig(\n",
    "    graph_id=f\"{bigtable_config.table_id_prefix}1\",\n",
    "    chunk_size=np.array([512, 512, 128], dtype=int),\n",
    "    overwrite=True\n",
    ")\n",
    "\n",
    "data_source = DataSource(\n",
    "    agglomeration=\"gs://ranl/scratch/pinky100_ca_com/agg\",\n",
    "    watershed=\"gs://neuroglancer/pinky100_v0/ws/pinky100_ca_com\",\n",
    "    edges=\"gs://akhilesh-pcg/chunkedgraph/pinky100_sven/edges\",\n",
    "    components=\"gs://akhilesh-pcg/chunkedgraph/pinky100_sven/components\",\n",
    "    use_raw_edges=False,\n",
    "    use_raw_components=False\n",
    ")\n",
    "\n",
    "meta = ChunkedGraphMeta(data_source, graph_config, bigtable_config)\n",
    "initialize_chunkedgraph(meta)\n",
    "start_ingest(IngestionManager(ingest_config, meta), 8)"
   ]
  },
  {
   "cell_type": "code",
   "execution_count": null,
   "metadata": {},
   "outputs": [],
   "source": [
    "meta.layer_chunk_bounds"
   ]
  },
  {
   "cell_type": "code",
   "execution_count": null,
   "metadata": {},
   "outputs": [],
   "source": [
    "from pychunkedgraph.ingest.types import ChunkTask\n",
    "\n",
    "task = ChunkTask(meta, np.array([21,12,5]), 3)\n",
    "task.children_coords"
   ]
  }
 ],
 "metadata": {
  "kernelspec": {
   "display_name": "Python 3",
   "language": "python",
   "name": "python3"
  },
  "language_info": {
   "codemirror_mode": {
    "name": "ipython",
    "version": 3
   },
   "file_extension": ".py",
   "mimetype": "text/x-python",
   "name": "python",
   "nbconvert_exporter": "python",
   "pygments_lexer": "ipython3",
   "version": "3.7.4"
  }
 },
 "nbformat": 4,
 "nbformat_minor": 2
}

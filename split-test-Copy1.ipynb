{
 "cells": [
  {
   "cell_type": "code",
   "execution_count": 1,
   "metadata": {},
   "outputs": [
    {
     "name": "stderr",
     "output_type": "stream",
     "text": [
      "/usr/local/lib/python3.7/site-packages/python_jsonschema_objects/__init__.py:53: UserWarning: Schema version http://json-schema.org/draft-04/schema not recognized. Some keywords and features may not be supported.\n",
      "  self.schema[\"$schema\"]\n"
     ]
    }
   ],
   "source": [
    "from collections import defaultdict\n",
    "import numpy as np\n",
    "from pychunkedgraph.graph import ChunkedGraph\n",
    "from pychunkedgraph.graph.utils.inspect import dfs_print_node\n",
    "from pychunkedgraph.graph import cache\n",
    "\n",
    "from pychunkedgraph.graph.edits import add_edges, remove_edges\n",
    "from pychunkedgraph.graph.utils.context_managers import TimeIt\n",
    "from pychunkedgraph.graph.operation import MulticutOperation\n",
    "cg = ChunkedGraph(graph_id=\"akhilesh-minnie65-1\")"
   ]
  },
  {
   "cell_type": "code",
   "execution_count": 6,
   "metadata": {},
   "outputs": [
    {
     "name": "stdout",
     "output_type": "stream",
     "text": [
      "\n",
      "231972489327021020\n",
      "{3: array([[231972489327021020, 232113226815373677]], dtype=uint64)}\n",
      "\n",
      "231972489327021473\n",
      "{3: array([[231972489327021473, 232113226815373677]], dtype=uint64)}\n",
      "\n",
      "232112951937467910\n",
      "{3: array([[232112951937467910, 232113226815373677]], dtype=uint64)}\n",
      "\n",
      "232113226815373677\n",
      "{3: array([[232113226815373677, 231972489327021020],\n",
      "       [232113226815373677, 231972489327021473],\n",
      "       [232113226815373677, 232112951937467910]], dtype=uint64)}\n"
     ]
    }
   ],
   "source": [
    "nodes = np.array([231972489327021020, 231972489327021473, 232112951937467910, 232113226815373677], dtype=np.uint64)\n",
    "for k,v in cg.get_cross_chunk_edges(nodes).items():\n",
    "    print()\n",
    "    print(k)\n",
    "    print(v)"
   ]
  },
  {
   "cell_type": "code",
   "execution_count": 9,
   "metadata": {},
   "outputs": [
    {
     "data": {
      "text/plain": [
       "array([160107241104474716], dtype=uint64)"
      ]
     },
     "execution_count": 9,
     "metadata": {},
     "output_type": "execute_result"
    }
   ],
   "source": [
    "cg.get_children(304065542614945552)"
   ]
  }
 ],
 "metadata": {
  "kernelspec": {
   "display_name": "Python 3",
   "language": "python",
   "name": "python3"
  },
  "language_info": {
   "codemirror_mode": {
    "name": "ipython",
    "version": 3
   },
   "file_extension": ".py",
   "mimetype": "text/x-python",
   "name": "python",
   "nbconvert_exporter": "python",
   "pygments_lexer": "ipython3",
   "version": "3.7.4"
  }
 },
 "nbformat": 4,
 "nbformat_minor": 2
}

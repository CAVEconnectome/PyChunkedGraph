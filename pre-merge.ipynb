{
 "cells": [
  {
   "cell_type": "code",
   "execution_count": null,
   "metadata": {},
   "outputs": [],
   "source": [
    "import numpy as np\n",
    "from pychunkedgraph.graph import ChunkedGraph, ChunkedGraphMeta\n",
    "from pychunkedgraph.graph.meta import ChunkedGraphMeta, GraphConfig, DataSource\n",
    "\n",
    "ds = DataSource(\n",
    "  EDGES= \"gs://chunkedgraph/minnie65_0/edges\",\n",
    "  COMPONENTS= \"gs://chunkedgraph/minnie65_0/components\",\n",
    "  WATERSHED= \"gs://microns-seunglab/minnie65/ws_minnie65_0\"\n",
    ")\n",
    "gc = GraphConfig(\n",
    "  CHUNK_SIZE= [256, 256, 512]\n",
    ")\n",
    "cg = ChunkedGraph(graph_id=\"akhilesh-minnie65-1\")"
   ]
  },
  {
   "cell_type": "code",
   "execution_count": null,
   "metadata": {},
   "outputs": [],
   "source": [
    "# edges = np.array([[94803535283198313, 94803466563722624]],dtype=np.uint64)\n",
    "# between 8\n",
    "edges = np.array([[94524946524577880, 94595315268752176]],dtype=np.uint64)\n",
    "\n",
    "print(cg.get_cross_chunk_edges_layer(edges))\n",
    "roots = cg.get_roots(edges[0])\n",
    "print(roots)\n",
    "print(cg.get_parents(edges[0]))"
   ]
  },
  {
   "cell_type": "code",
   "execution_count": null,
   "metadata": {},
   "outputs": [],
   "source": [
    "from json import dumps\n",
    "print(cg.get_all_parents_dict(edges[0][0]))\n",
    "children_flat = np.array([roots[0]], dtype=np.uint64)\n",
    "while children_flat.size:\n",
    "    mask = cg.get_chunk_layers(children_flat) > 2\n",
    "    children = cg.get_children(children_flat[mask])\n",
    "    for k,v in children.items():\n",
    "        print(k)\n",
    "        print(list(v))\n",
    "        print()\n",
    "    print()\n",
    "    print(\"*\"*50)\n",
    "    children_flat = cg.get_children(children_flat, flatten=True)"
   ]
  },
  {
   "cell_type": "code",
   "execution_count": null,
   "metadata": {
    "scrolled": false
   },
   "outputs": [],
   "source": [
    "from json import dumps\n",
    "print(cg.get_all_parents_dict(edges[0][1]))\n",
    "children_flat = np.array([roots[1]], dtype=np.uint64)\n",
    "while children_flat.size:\n",
    "    mask = cg.get_chunk_layers(children_flat) > 2\n",
    "    children = cg.get_children(children_flat[mask])\n",
    "    for k,v in children.items():\n",
    "        print(k)\n",
    "        print(list(v))\n",
    "        print()\n",
    "    print()\n",
    "    print(\"*\"*50)\n",
    "    children_flat = cg.get_children(children_flat, flatten=True)"
   ]
  },
  {
   "cell_type": "code",
   "execution_count": null,
   "metadata": {},
   "outputs": [],
   "source": [
    "children=cg.get_children(310826448204081777)\n",
    "cg.get_children(children)"
   ]
  },
  {
   "cell_type": "code",
   "execution_count": null,
   "metadata": {},
   "outputs": [],
   "source": [
    "nodes = cg._get_bounding_l2_children([310826448204081777])\n",
    "print(nodes)\n",
    "edges = cg.get_atomic_cross_edges(nodes[310826448204081777])\n",
    "for k,v in edges.items():\n",
    "    print(k)\n",
    "    for a,b in v.items():\n",
    "        print(a, len(b))\n",
    "    print()"
   ]
  }
 ],
 "metadata": {
  "kernelspec": {
   "display_name": "Python 3",
   "language": "python",
   "name": "python3"
  },
  "language_info": {
   "codemirror_mode": {
    "name": "ipython",
    "version": 3
   },
   "file_extension": ".py",
   "mimetype": "text/x-python",
   "name": "python",
   "nbconvert_exporter": "python",
   "pygments_lexer": "ipython3",
   "version": "3.7.4"
  }
 },
 "nbformat": 4,
 "nbformat_minor": 2
}

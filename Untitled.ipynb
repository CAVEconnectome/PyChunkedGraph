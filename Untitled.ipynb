{
 "cells": [
  {
   "cell_type": "code",
   "execution_count": 2,
   "metadata": {},
   "outputs": [
    {
     "name": "stdout",
     "output_type": "stream",
     "text": [
      "[[1 2]\n",
      " [5 3]\n",
      " [2 1]\n",
      " [3 5]]\n",
      "[(1, 2) (5, 3) (2, 1) (3, 5)]\n"
     ]
    }
   ],
   "source": [
    "import numpy as np\n",
    "\n",
    "a = np.array([[1,2],[5,3]])\n",
    "\n",
    "atomic_edges_mirrored = np.concatenate(\n",
    "    [a, a[:, ::-1]], axis=0\n",
    ")\n",
    "\n",
    "print(atomic_edges_mirrored)\n",
    "\n",
    "n_edges = atomic_edges_mirrored.shape[0]  # pylint: disable=E1136\n",
    "atomic_edges_mirrored = atomic_edges_mirrored.view(dtype=\"u8,u8\").reshape(n_edges)\n",
    "\n",
    "print(atomic_edges_mirrored)"
   ]
  },
  {
   "cell_type": "code",
   "execution_count": 4,
   "metadata": {},
   "outputs": [
    {
     "data": {
      "text/plain": [
       "array([ True, False])"
      ]
     },
     "execution_count": 4,
     "metadata": {},
     "output_type": "execute_result"
    }
   ],
   "source": [
    "a = np.array([[1,4],[5,3]])\n",
    "b = np.array([1,2])\n",
    "\n",
    "np.in1d(b,a)"
   ]
  }
 ],
 "metadata": {
  "kernelspec": {
   "display_name": "Python 3",
   "language": "python",
   "name": "python3"
  },
  "language_info": {
   "codemirror_mode": {
    "name": "ipython",
    "version": 3
   },
   "file_extension": ".py",
   "mimetype": "text/x-python",
   "name": "python",
   "nbconvert_exporter": "python",
   "pygments_lexer": "ipython3",
   "version": "3.7.4"
  }
 },
 "nbformat": 4,
 "nbformat_minor": 2
}

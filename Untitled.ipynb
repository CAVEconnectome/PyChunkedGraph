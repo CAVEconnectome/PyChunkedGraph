{
 "cells": [
  {
   "cell_type": "code",
   "execution_count": 6,
   "metadata": {},
   "outputs": [
    {
     "name": "stdout",
     "output_type": "stream",
     "text": [
      "149.0\n"
     ]
    }
   ],
   "source": [
    "from multiprocessing import Manager,Pool, Lock\n",
    "\n",
    "lock = Lock()\n",
    "\n",
    "def modify_dictionary(dictionary):\n",
    "    if((3,3) not in dictionary):\n",
    "        dictionary[(3,3)]=0.\n",
    "    for i in range(100):\n",
    "#         with lock:\n",
    "#             dictionary[(3,3)] = dictionary[(3,3)]+1\n",
    "        dictionary[(3,3)] = dictionary[(3,3)]+1\n",
    "    return 0\n",
    "\n",
    "if __name__ == \"__main__\":\n",
    "\n",
    "    manager = Manager()\n",
    "\n",
    "    dictionary = manager.dict(lock=True)\n",
    "    jobargs = [(dictionary) for i in range(6)]\n",
    "\n",
    "    p = Pool(6)\n",
    "    t = p.map(modify_dictionary,jobargs)\n",
    "    p.close()\n",
    "    p.join()\n",
    "\n",
    "    print(dictionary[(3,3)])"
   ]
  }
 ],
 "metadata": {
  "kernelspec": {
   "display_name": "Python 3",
   "language": "python",
   "name": "python3"
  },
  "language_info": {
   "codemirror_mode": {
    "name": "ipython",
    "version": 3
   },
   "file_extension": ".py",
   "mimetype": "text/x-python",
   "name": "python",
   "nbconvert_exporter": "python",
   "pygments_lexer": "ipython3",
   "version": "3.7.4"
  }
 },
 "nbformat": 4,
 "nbformat_minor": 2
}

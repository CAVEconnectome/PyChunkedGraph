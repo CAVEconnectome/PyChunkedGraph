{
 "cells": [
  {
   "cell_type": "code",
   "execution_count": null,
   "metadata": {},
   "outputs": [],
   "source": [
    "from collections import defaultdict\n",
    "import numpy as np\n",
    "from pychunkedgraph.graph import ChunkedGraph\n",
    "from pychunkedgraph.graph.utils.inspect import dfs_print_node\n",
    "\n",
    "from pychunkedgraph.graph.edits import add_edges, remove_edges\n",
    "from pychunkedgraph.graph.utils.context_managers import TimeIt\n",
    "from pychunkedgraph.graph.operation import MergeOperation\n",
    "\n",
    "cg = ChunkedGraph(graph_id=\"akhilesh-minnie65-1\")"
   ]
  },
  {
   "cell_type": "code",
   "execution_count": null,
   "metadata": {},
   "outputs": [],
   "source": [
    "nodes = np.array([864691139443276013], dtype=np.uint64)\n",
    "cg._get_subgraph_higher_layer_nodes(\n",
    "    node_id=864691139443276013, bounding_box=None, return_layers=[2,3],\n",
    ")"
   ]
  },
  {
   "cell_type": "code",
   "execution_count": null,
   "metadata": {},
   "outputs": [],
   "source": [
    "cg._get_subgraph_higher_layer_nodes(\n",
    "    node_id=864691139493060077, bounding_box=None, return_layers=[2,3],\n",
    ")"
   ]
  },
  {
   "cell_type": "code",
   "execution_count": null,
   "metadata": {},
   "outputs": [],
   "source": [
    "children = np.array([864691139493060077], dtype=np.uint64)"
   ]
  },
  {
   "cell_type": "code",
   "execution_count": null,
   "metadata": {},
   "outputs": [],
   "source": [
    "children = cg.get_children(children, flatten=True)\n",
    "children"
   ]
  }
 ],
 "metadata": {
  "kernelspec": {
   "display_name": "Python 3",
   "language": "python",
   "name": "python3"
  },
  "language_info": {
   "codemirror_mode": {
    "name": "ipython",
    "version": 3
   },
   "file_extension": ".py",
   "mimetype": "text/x-python",
   "name": "python",
   "nbconvert_exporter": "python",
   "pygments_lexer": "ipython3",
   "version": "3.7.4"
  }
 },
 "nbformat": 4,
 "nbformat_minor": 4
}

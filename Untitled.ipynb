{
 "cells": [
  {
   "cell_type": "code",
   "execution_count": null,
   "metadata": {},
   "outputs": [],
   "source": [
    "import time\n",
    "import numpy as np\n",
    "from pychunkedgraph.backend.chunkedgraph import ChunkedGraph\n",
    "from pychunkedgraph.backend import history as cg_history\n",
    "\n",
    "# cg_history.SegmentHistory(cg, int(root_id))\n",
    "\n",
    "cg = ChunkedGraph(\"fly_v31\")\n",
    "table = cg.table"
   ]
  },
  {
   "cell_type": "code",
   "execution_count": null,
   "metadata": {},
   "outputs": [],
   "source": [
    "op_id = 1\n",
    "row_key = (\"%.20d\" % op_id).encode(\"utf-8\")\n",
    "row = table.read_row(row_key)\n",
    "row.cells['2'].keys()"
   ]
  },
  {
   "cell_type": "code",
   "execution_count": null,
   "metadata": {
    "scrolled": false
   },
   "outputs": [],
   "source": [
    "for op_id in range(20000):\n",
    "    row_key = (\"%.20d\" % op_id).encode(\"utf-8\")\n",
    "    row = table.read_row(row_key)\n",
    "    if not row:continue\n",
    "    print(op_id, row.cells['2'].keys())"
   ]
  },
  {
   "cell_type": "code",
   "execution_count": null,
   "metadata": {},
   "outputs": [],
   "source": [
    "for k in row.cells['2'].keys():\n",
    "    print(k)\n",
    "    print(row.cells['2'][k])\n",
    "    print()"
   ]
  },
  {
   "cell_type": "code",
   "execution_count": null,
   "metadata": {},
   "outputs": [],
   "source": [
    "user = row.cells['2'][b'user'][0].value\n",
    "roots = np.frombuffer(row.cells['2'][b'roots'][0].value, dtype=np.uint64)\n",
    "\n",
    "print(op_id, user, roots)"
   ]
  }
 ],
 "metadata": {
  "kernelspec": {
   "display_name": "Python 3",
   "language": "python",
   "name": "python3"
  },
  "language_info": {
   "codemirror_mode": {
    "name": "ipython",
    "version": 3
   },
   "file_extension": ".py",
   "mimetype": "text/x-python",
   "name": "python",
   "nbconvert_exporter": "python",
   "pygments_lexer": "ipython3",
   "version": "3.7.4"
  }
 },
 "nbformat": 4,
 "nbformat_minor": 2
}

{
 "cells": [
  {
   "cell_type": "code",
   "execution_count": 1,
   "metadata": {},
   "outputs": [],
   "source": [
    "import time\n",
    "import numpy as np\n",
    "from pychunkedgraph.backend.chunkedgraph import ChunkedGraph\n",
    "from pychunkedgraph.backend import history as cg_history\n",
    "\n",
    "# cg_history.SegmentHistory(cg, int(root_id))\n",
    "\n",
    "cg = ChunkedGraph(\"fly_v31\")\n",
    "table = cg.table"
   ]
  },
  {
   "cell_type": "code",
   "execution_count": 8,
   "metadata": {},
   "outputs": [],
   "source": [
    "op_id = 1\n",
    "row_key = (\"%.20d\" % op_id).encode(\"utf-8\")\n",
    "row = table.read_row(row_key)"
   ]
  },
  {
   "cell_type": "code",
   "execution_count": 9,
   "metadata": {},
   "outputs": [
    {
     "name": "stdout",
     "output_type": "stream",
     "text": [
      "1 b'2' [720575940605938780]\n"
     ]
    }
   ],
   "source": [
    "user = row.cells['2'][b'user'][0].value\n",
    "roots = np.frombuffer(row.cells['2'][b'roots'][0].value, dtype=np.uint64)\n",
    "\n",
    "print(op_id, user, roots)"
   ]
  }
 ],
 "metadata": {
  "kernelspec": {
   "display_name": "Python 3",
   "language": "python",
   "name": "python3"
  },
  "language_info": {
   "codemirror_mode": {
    "name": "ipython",
    "version": 3
   },
   "file_extension": ".py",
   "mimetype": "text/x-python",
   "name": "python",
   "nbconvert_exporter": "python",
   "pygments_lexer": "ipython3",
   "version": "3.7.4"
  }
 },
 "nbformat": 4,
 "nbformat_minor": 2
}

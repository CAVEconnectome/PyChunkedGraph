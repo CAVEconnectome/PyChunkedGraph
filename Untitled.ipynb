{
 "cells": [
  {
   "cell_type": "code",
   "execution_count": 1,
   "metadata": {},
   "outputs": [],
   "source": [
    "import time\n",
    "import numpy as np\n",
    "from pychunkedgraph.backend.chunkedgraph import ChunkedGraph\n",
    "from pychunkedgraph.backend import history as cg_history\n",
    "\n",
    "# cg_history.SegmentHistory(cg, int(root_id))\n",
    "\n",
    "cg = ChunkedGraph(\"fly_v31\")\n",
    "table = cg.table"
   ]
  },
  {
   "cell_type": "code",
   "execution_count": 13,
   "metadata": {},
   "outputs": [
    {
     "data": {
      "text/plain": [
       "dict_keys([b'added_edges', b'affinities', b'roots', b'sink_coords', b'sink_ids', b'source_coords', b'source_ids', b'user'])"
      ]
     },
     "execution_count": 13,
     "metadata": {},
     "output_type": "execute_result"
    }
   ],
   "source": [
    "op_id = 1\n",
    "row_key = (\"%.20d\" % op_id).encode(\"utf-8\")\n",
    "row = table.read_row(row_key)\n",
    "row.cells['2'].keys()"
   ]
  },
  {
   "cell_type": "code",
   "execution_count": 16,
   "metadata": {},
   "outputs": [
    {
     "name": "stdout",
     "output_type": "stream",
     "text": [
      "b'added_edges'\n",
      "[<Cell value=b'\\xb9\\x94\\x00\\x00\\x10\\xc3\\x17\\x010\\xf4\\x00\\x00 \\xc3\\x17\\x01' timestamp=2019-07-02 20:50:38.934000+00:00>]\n",
      "\n",
      "b'affinities'\n",
      "[<Cell value=b'' timestamp=2019-07-02 20:50:38.934000+00:00>]\n",
      "\n",
      "b'roots'\n",
      "[<Cell value=b'\\\\\\x8c\\x82\\r\\x00\\x00\\x00\\n' timestamp=2019-07-02 20:50:38.934000+00:00>]\n",
      "\n",
      "b'sink_coords'\n",
      "[<Cell value=b'\\x00\\x00\\x00\\xc0\\xb4\\xca\\xdc@\\x00\\x00\\x00 \\xe9\\xd8\\xcb@\\x9a\\x99\\x99\\x99d\\xf7{@' timestamp=2019-07-02 20:50:38.934000+00:00>]\n",
      "\n",
      "b'sink_ids'\n",
      "[<Cell value=b'0\\xf4\\x00\\x00 \\xc3\\x17\\x01' timestamp=2019-07-02 20:50:38.934000+00:00>]\n",
      "\n",
      "b'source_coords'\n",
      "[<Cell value=b'\\x00\\x00\\x00\\xe0\\xc6\\xd7\\xdc@\\x00\\x00\\x00\\xe0\\n\\xc3\\xcb@\\x9a\\x99\\x99\\x99d\\xf7{@' timestamp=2019-07-02 20:50:38.934000+00:00>]\n",
      "\n",
      "b'source_ids'\n",
      "[<Cell value=b'\\xb9\\x94\\x00\\x00\\x10\\xc3\\x17\\x01' timestamp=2019-07-02 20:50:38.934000+00:00>]\n",
      "\n",
      "b'user'\n",
      "[<Cell value=b'2' timestamp=2019-07-02 20:50:38.934000+00:00>]\n",
      "\n"
     ]
    }
   ],
   "source": [
    "for k in row.cells['2'].keys():\n",
    "    print(k)\n",
    "    print(row.cells['2'][k])\n",
    "    print()"
   ]
  },
  {
   "cell_type": "code",
   "execution_count": 9,
   "metadata": {},
   "outputs": [
    {
     "name": "stdout",
     "output_type": "stream",
     "text": [
      "1 b'2' [720575940605938780]\n"
     ]
    }
   ],
   "source": [
    "user = row.cells['2'][b'user'][0].value\n",
    "roots = np.frombuffer(row.cells['2'][b'roots'][0].value, dtype=np.uint64)\n",
    "\n",
    "print(op_id, user, roots)"
   ]
  }
 ],
 "metadata": {
  "kernelspec": {
   "display_name": "Python 3",
   "language": "python",
   "name": "python3"
  },
  "language_info": {
   "codemirror_mode": {
    "name": "ipython",
    "version": 3
   },
   "file_extension": ".py",
   "mimetype": "text/x-python",
   "name": "python",
   "nbconvert_exporter": "python",
   "pygments_lexer": "ipython3",
   "version": "3.7.4"
  }
 },
 "nbformat": 4,
 "nbformat_minor": 2
}

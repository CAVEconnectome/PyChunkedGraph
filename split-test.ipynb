{
 "cells": [
  {
   "cell_type": "code",
   "execution_count": null,
   "metadata": {},
   "outputs": [],
   "source": [
    "import numpy as np\n",
    "from pychunkedgraph.graph import ChunkedGraph, ChunkedGraphMeta\n",
    "from pychunkedgraph.graph.meta import ChunkedGraphMeta, GraphConfig, DataSource\n",
    "\n",
    "ds = DataSource(\n",
    "  EDGES= \"gs://chunkedgraph/minnie65_0/edges\",\n",
    "  COMPONENTS= \"gs://chunkedgraph/minnie65_0/components\",\n",
    "  WATERSHED= \"gs://microns-seunglab/minnie65/ws_minnie65_0\"\n",
    ")\n",
    "gc = GraphConfig(\n",
    "  CHUNK_SIZE= [256, 256, 512]\n",
    ")\n",
    "cg = ChunkedGraph(graph_id=\"akhilesh-minnie65-1\")"
   ]
  },
  {
   "cell_type": "code",
   "execution_count": null,
   "metadata": {},
   "outputs": [],
   "source": [
    "d = {\n",
    "  \"sources\": [\n",
    "    [\n",
    "      \"91356497812394262\",\n",
    "      815458.9375,\n",
    "      884707.6875,\n",
    "      859720\n",
    "    ]\n",
    "  ],\n",
    "  \"sinks\": [\n",
    "    [\n",
    "      \"91356497812401228\",\n",
    "      816143.625,\n",
    "      884547.3125,\n",
    "      859720\n",
    "    ]\n",
    "  ]\n",
    "}"
   ]
  },
  {
   "cell_type": "code",
   "execution_count": null,
   "metadata": {
    "scrolled": false
   },
   "outputs": [],
   "source": [
    "from pychunkedgraph.graph.operation import MulticutOperation\n",
    "\n",
    "op = MulticutOperation(\n",
    "    cg,\n",
    "    user_id=\"test\",\n",
    "    source_ids=[91356497812394262],\n",
    "    sink_ids=[91356497812401228],\n",
    "    source_coords=[\n",
    "        [\n",
    "            815458.9375,\n",
    "            884707.6875,\n",
    "            859720\n",
    "        ]\n",
    "    ],\n",
    "    sink_coords=[\n",
    "        [\n",
    "            816143.625,\n",
    "            884547.3125,\n",
    "            859720\n",
    "        ]\n",
    "    ],    \n",
    "    bbox_offset=[240,240,24]\n",
    ")\n",
    "\n",
    "op._apply(operation_id=\"\",timestamp=None)"
   ]
  }
 ],
 "metadata": {
  "kernelspec": {
   "display_name": "Python 3",
   "language": "python",
   "name": "python3"
  },
  "language_info": {
   "codemirror_mode": {
    "name": "ipython",
    "version": 3
   },
   "file_extension": ".py",
   "mimetype": "text/x-python",
   "name": "python",
   "nbconvert_exporter": "python",
   "pygments_lexer": "ipython3",
   "version": "3.7.4"
  }
 },
 "nbformat": 4,
 "nbformat_minor": 2
}

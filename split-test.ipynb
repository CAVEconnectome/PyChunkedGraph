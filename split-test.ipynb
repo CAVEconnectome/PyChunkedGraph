{
 "cells": [
  {
   "cell_type": "code",
   "execution_count": 1,
   "metadata": {},
   "outputs": [],
   "source": [
    "import numpy as np\n",
    "from pychunkedgraph.graph import ChunkedGraph, ChunkedGraphMeta\n",
    "from pychunkedgraph.graph.meta import ChunkedGraphMeta, GraphConfig, DataSource\n",
    "\n",
    "ds = DataSource(\n",
    "  EDGES= \"gs://chunkedgraph/minnie65_0/edges\",\n",
    "  COMPONENTS= \"gs://chunkedgraph/minnie65_0/components\",\n",
    "  WATERSHED= \"gs://microns-seunglab/minnie65/ws_minnie65_0\"\n",
    ")\n",
    "gc = GraphConfig(\n",
    "  CHUNK_SIZE= [256, 256, 512]\n",
    ")\n",
    "cg = ChunkedGraph(graph_id=\"akhilesh-minnie65-1\")"
   ]
  },
  {
   "cell_type": "code",
   "execution_count": 2,
   "metadata": {},
   "outputs": [],
   "source": [
    "data = {\n",
    "  \"sources\": [\n",
    "    [\n",
    "      \"91356497812394262\",\n",
    "      815458.9375,\n",
    "      884707.6875,\n",
    "      859720\n",
    "    ]\n",
    "  ],\n",
    "  \"sinks\": [\n",
    "    [\n",
    "      \"91356497812401228\",\n",
    "      816143.625,\n",
    "      884547.3125,\n",
    "      859720\n",
    "    ]\n",
    "  ]\n",
    "}"
   ]
  },
  {
   "cell_type": "code",
   "execution_count": 3,
   "metadata": {},
   "outputs": [
    {
     "data": {
      "text/plain": [
       "{'sources': defaultdict(list,\n",
       "             {'id': [91356497812394262],\n",
       "              'coord': [Vec(101932.3671875,110588.4609375,21493.0, dtype=float64)]}),\n",
       " 'sinks': defaultdict(list,\n",
       "             {'id': [91356497812401228],\n",
       "              'coord': [Vec(102017.953125,110568.4140625,21493.0, dtype=float64)]})}"
      ]
     },
     "execution_count": 3,
     "metadata": {},
     "output_type": "execute_result"
    }
   ],
   "source": [
    "from collections import defaultdict\n",
    "data_dict = {}\n",
    "for k in [\"sources\", \"sinks\"]:\n",
    "    data_dict[k] = defaultdict(list)\n",
    "    for node in data[k]:\n",
    "        node_id = node[0]\n",
    "        x, y, z = node[1:]\n",
    "        coordinate = np.array([x, y, z]) / cg.meta._ws_cv.resolution\n",
    "\n",
    "        atomic_id = cg.get_atomic_id_from_coord(\n",
    "            coordinate[0],\n",
    "            coordinate[1],\n",
    "            coordinate[2],\n",
    "            parent_id=np.uint64(node_id),\n",
    "        )\n",
    "\n",
    "        if atomic_id is None:\n",
    "            raise ValueError(\"aha\")\n",
    "\n",
    "        data_dict[k][\"id\"].append(atomic_id)\n",
    "        data_dict[k][\"coord\"].append(coordinate)\n",
    "data_dict"
   ]
  },
  {
   "cell_type": "code",
   "execution_count": 4,
   "metadata": {
    "scrolled": false
   },
   "outputs": [
    {
     "name": "stdout",
     "output_type": "stream",
     "text": [
      "Start get_subgraph\n",
      "   hi\n",
      "   len(edges) 15404\n",
      "   5.040315389633179\n",
      "Start run_multicut\n",
      "   0.2800619602203369\n",
      "Start get_parents edges\n",
      "   8.630752563476562e-05\n",
      "24\n",
      "(48, 2)\n",
      "\n",
      "(2302, 2)\n",
      "(368, 2)\n",
      "(2295, 2)\n",
      "(368, 2)\n"
     ]
    },
    {
     "ename": "KeyError",
     "evalue": "163414091849796021",
     "output_type": "error",
     "traceback": [
      "\u001b[0;31m---------------------------------------------------------------------------\u001b[0m",
      "\u001b[0;31mKeyError\u001b[0m                                  Traceback (most recent call last)",
      "\u001b[0;32m<ipython-input-4-5f852df9e610>\u001b[0m in \u001b[0;36m<module>\u001b[0;34m\u001b[0m\n\u001b[1;32m     11\u001b[0m )\n\u001b[1;32m     12\u001b[0m \u001b[0;34m\u001b[0m\u001b[0m\n\u001b[0;32m---> 13\u001b[0;31m \u001b[0mop\u001b[0m\u001b[0;34m.\u001b[0m\u001b[0m_apply\u001b[0m\u001b[0;34m(\u001b[0m\u001b[0moperation_id\u001b[0m\u001b[0;34m=\u001b[0m\u001b[0;34m\"\"\u001b[0m\u001b[0;34m,\u001b[0m\u001b[0mtimestamp\u001b[0m\u001b[0;34m=\u001b[0m\u001b[0;32mNone\u001b[0m\u001b[0;34m)\u001b[0m\u001b[0;34m\u001b[0m\u001b[0;34m\u001b[0m\u001b[0m\n\u001b[0m",
      "\u001b[0;32m/workspaces/sl-pychunkedgraph/pychunkedgraph/graph/operation.py\u001b[0m in \u001b[0;36m_apply\u001b[0;34m(self, operation_id, timestamp)\u001b[0m\n\u001b[1;32m    682\u001b[0m             \u001b[0ml2id_agglomeration_d\u001b[0m\u001b[0;34m=\u001b[0m\u001b[0ml2id_agglomeration_d\u001b[0m\u001b[0;34m,\u001b[0m\u001b[0;34m\u001b[0m\u001b[0;34m\u001b[0m\u001b[0m\n\u001b[1;32m    683\u001b[0m             \u001b[0mtime_stamp\u001b[0m\u001b[0;34m=\u001b[0m\u001b[0mtimestamp\u001b[0m\u001b[0;34m,\u001b[0m\u001b[0;34m\u001b[0m\u001b[0;34m\u001b[0m\u001b[0m\n\u001b[0;32m--> 684\u001b[0;31m         )\n\u001b[0m\u001b[1;32m    685\u001b[0m \u001b[0;34m\u001b[0m\u001b[0m\n\u001b[1;32m    686\u001b[0m     def _create_log_record(\n",
      "\u001b[0;32m/workspaces/sl-pychunkedgraph/pychunkedgraph/graph/edits.py\u001b[0m in \u001b[0;36mremove_edges\u001b[0;34m(cg, operation_id, atomic_edges, l2id_agglomeration_d, time_stamp)\u001b[0m\n\u001b[1;32m    199\u001b[0m     \u001b[0mnew_hierarchy_d\u001b[0m \u001b[0;34m=\u001b[0m \u001b[0;34m{\u001b[0m\u001b[0;34m}\u001b[0m\u001b[0;34m\u001b[0m\u001b[0;34m\u001b[0m\u001b[0m\n\u001b[1;32m    200\u001b[0m     \u001b[0;32mfor\u001b[0m \u001b[0mid_\u001b[0m \u001b[0;32min\u001b[0m \u001b[0ml2ids\u001b[0m\u001b[0;34m:\u001b[0m\u001b[0;34m\u001b[0m\u001b[0;34m\u001b[0m\u001b[0m\n\u001b[0;32m--> 201\u001b[0;31m         \u001b[0ml2_agg\u001b[0m \u001b[0;34m=\u001b[0m \u001b[0ml2id_agglomeration_d\u001b[0m\u001b[0;34m[\u001b[0m\u001b[0mid_\u001b[0m\u001b[0;34m]\u001b[0m\u001b[0;34m\u001b[0m\u001b[0;34m\u001b[0m\u001b[0m\n\u001b[0m\u001b[1;32m    202\u001b[0m         ccs, unique_graph_ids, cross_edges = _process_l2_agglomeration(\n\u001b[1;32m    203\u001b[0m             \u001b[0ml2_agg\u001b[0m\u001b[0;34m,\u001b[0m \u001b[0mremoved_edges\u001b[0m\u001b[0;34m\u001b[0m\u001b[0;34m\u001b[0m\u001b[0m\n",
      "\u001b[0;31mKeyError\u001b[0m: 163414091849796021"
     ]
    }
   ],
   "source": [
    "from pychunkedgraph.graph.operation import MulticutOperation\n",
    "\n",
    "op = MulticutOperation(\n",
    "    cg,\n",
    "    user_id=\"test\",\n",
    "    source_ids=data_dict[\"sources\"][\"id\"],\n",
    "    sink_ids=data_dict[\"sinks\"][\"id\"],\n",
    "    source_coords=data_dict[\"sources\"][\"coord\"],\n",
    "    sink_coords=data_dict[\"sinks\"][\"coord\"],    \n",
    "    bbox_offset=(240,240,24)\n",
    ")\n",
    "\n",
    "op._apply(operation_id=\"\",timestamp=None)"
   ]
  }
 ],
 "metadata": {
  "kernelspec": {
   "display_name": "Python 3",
   "language": "python",
   "name": "python3"
  },
  "language_info": {
   "codemirror_mode": {
    "name": "ipython",
    "version": 3
   },
   "file_extension": ".py",
   "mimetype": "text/x-python",
   "name": "python",
   "nbconvert_exporter": "python",
   "pygments_lexer": "ipython3",
   "version": "3.7.4"
  }
 },
 "nbformat": 4,
 "nbformat_minor": 2
}

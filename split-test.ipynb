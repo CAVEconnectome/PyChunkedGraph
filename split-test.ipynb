{
 "cells": [
  {
   "cell_type": "code",
   "execution_count": null,
   "metadata": {
    "scrolled": false
   },
   "outputs": [],
   "source": [
    "from collections import defaultdict\n",
    "import numpy as np\n",
    "from pychunkedgraph.graph import ChunkedGraph\n",
    "from pychunkedgraph.graph.utils.inspect import dfs_print_node\n",
    "from pychunkedgraph.graph import cache\n",
    "\n",
    "from pychunkedgraph.graph.edits import add_edges, remove_edges\n",
    "from pychunkedgraph.graph.utils.context_managers import TimeIt\n",
    "from pychunkedgraph.graph.operation import MulticutOperation\n",
    "cg = ChunkedGraph(graph_id=\"akhilesh-minnie65-1\")"
   ]
  },
  {
   "cell_type": "code",
   "execution_count": null,
   "metadata": {},
   "outputs": [],
   "source": [
    "data = {\n",
    "    \"sources\": [[\"88399772800622120\", 729368.5, 847633.8125, 599680]],\n",
    "    \"sinks\": [[\"88329404056440986\", 728994.5, 847396.625, 599680]],\n",
    "}\n",
    "data = {\n",
    "    \"sources\": [[\"94803466563722624\",916778,851942.625,783023.25]], # 354\n",
    "    \"sinks\": [[\"94803535283198313\",916697.1875,852031.75,783023.25]], # 832 = 1186\n",
    "}\n",
    "data = {\n",
    "    \"sources\": [[\"87979484480978348\", 717418.8125, 905186.875, 602200]],\n",
    "    \"sinks\": [[\"87979553200440097\", 717687.6875, 905449.25, 602200]],\n",
    "}\n",
    "data_dict = {}\n",
    "for k in [\"sources\", \"sinks\"]:\n",
    "    data_dict[k] = defaultdict(list)\n",
    "    for node in data[k]:\n",
    "        node_id = node[0]\n",
    "        x, y, z = node[1:]\n",
    "        coordinate = np.array([x, y, z]) / cg.meta._ws_cv.resolution\n",
    "        atomic_id = cg.get_atomic_id_from_coord(\n",
    "            coordinate[0],\n",
    "            coordinate[1],\n",
    "            coordinate[2],\n",
    "            parent_id=np.uint64(node_id),\n",
    "        )\n",
    "\n",
    "        if atomic_id is None:\n",
    "            raise ValueError(\"aha\")\n",
    "        data_dict[k][\"id\"].append(atomic_id)\n",
    "        data_dict[k][\"coord\"].append(coordinate)\n",
    "data_dict        "
   ]
  },
  {
   "cell_type": "code",
   "execution_count": null,
   "metadata": {},
   "outputs": [],
   "source": [
    "root = cg.get_root(data_dict[\"sources\"][\"id\"][0])\n",
    "print(root, cg.get_segment_id(root))\n",
    "dfs_print_node(cg, root, limit=2, sep=\"    \", count_only=True)\n",
    "cg.get_cross_chunk_edges_layer(\n",
    "    [\n",
    "        [data_dict[\"sources\"][\"id\"][0], data_dict[\"sinks\"][\"id\"][0]],\n",
    "    ]\n",
    ")"
   ]
  },
  {
   "cell_type": "code",
   "execution_count": null,
   "metadata": {
    "scrolled": false
   },
   "outputs": [],
   "source": [
    "with TimeIt(\"remove edges\"):\n",
    "    result = cg.remove_edges(\n",
    "        user_id=\"hi\",\n",
    "        atomic_edges=None,\n",
    "        source_coords=data_dict[\"sources\"][\"coord\"],\n",
    "        sink_coords=data_dict[\"sinks\"][\"coord\"],\n",
    "        source_ids=data_dict[\"sources\"][\"id\"],\n",
    "        sink_ids=data_dict[\"sinks\"][\"id\"],        \n",
    "    )"
   ]
  },
  {
   "cell_type": "code",
   "execution_count": null,
   "metadata": {},
   "outputs": [],
   "source": [
    "print(result)\n",
    "roots = result.new_root_ids\n",
    "dfs_print_node(cg, roots[0], limit=2, sep=\"    \", count_only=True)\n",
    "dfs_print_node(cg, roots[1], limit=2, sep=\"    \", count_only=True)"
   ]
  }
 ],
 "metadata": {
  "kernelspec": {
   "display_name": "Python 3",
   "language": "python",
   "name": "python3"
  },
  "language_info": {
   "codemirror_mode": {
    "name": "ipython",
    "version": 3
   },
   "file_extension": ".py",
   "mimetype": "text/x-python",
   "name": "python",
   "nbconvert_exporter": "python",
   "pygments_lexer": "ipython3",
   "version": "3.7.4"
  }
 },
 "nbformat": 4,
 "nbformat_minor": 2
}

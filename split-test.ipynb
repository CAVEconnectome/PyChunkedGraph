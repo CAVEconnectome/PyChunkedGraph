{
 "cells": [
  {
   "cell_type": "code",
   "execution_count": null,
   "metadata": {},
   "outputs": [],
   "source": [
    "import numpy as np\n",
    "from pychunkedgraph.graph import ChunkedGraph, ChunkedGraphMeta\n",
    "from pychunkedgraph.graph.meta import ChunkedGraphMeta, GraphConfig, DataSource\n",
    "\n",
    "ds = DataSource(\n",
    "  EDGES= \"gs://chunkedgraph/minnie65_0/edges\",\n",
    "  COMPONENTS= \"gs://chunkedgraph/minnie65_0/components\",\n",
    "  WATERSHED= \"gs://microns-seunglab/minnie65/ws_minnie65_0\"\n",
    ")\n",
    "gc = GraphConfig(\n",
    "  CHUNK_SIZE= [256, 256, 512]\n",
    ")\n",
    "cg = ChunkedGraph(graph_id=\"akhilesh-minnie65-1\")"
   ]
  },
  {
   "cell_type": "code",
   "execution_count": null,
   "metadata": {},
   "outputs": [],
   "source": [
    "data = {\n",
    "  \"sources\": [\n",
    "    [\n",
    "      \"91356497812394262\",\n",
    "      815458.9375,\n",
    "      884707.6875,\n",
    "      859720\n",
    "    ]\n",
    "  ],\n",
    "  \"sinks\": [\n",
    "    [\n",
    "      \"91356497812401228\",\n",
    "      816143.625,\n",
    "      884547.3125,\n",
    "      859720\n",
    "    ]\n",
    "  ]\n",
    "}"
   ]
  },
  {
   "cell_type": "code",
   "execution_count": null,
   "metadata": {},
   "outputs": [],
   "source": [
    "from collections import defaultdict\n",
    "data_dict = {}\n",
    "for k in [\"sources\", \"sinks\"]:\n",
    "    data_dict[k] = defaultdict(list)\n",
    "    for node in data[k]:\n",
    "        node_id = node[0]\n",
    "        x, y, z = node[1:]\n",
    "        coordinate = np.array([x, y, z]) / cg.meta._ws_cv.resolution\n",
    "\n",
    "        atomic_id = cg.get_atomic_id_from_coord(\n",
    "            coordinate[0],\n",
    "            coordinate[1],\n",
    "            coordinate[2],\n",
    "            parent_id=np.uint64(node_id),\n",
    "        )\n",
    "\n",
    "        if atomic_id is None:\n",
    "            raise ValueError(\"aha\")\n",
    "\n",
    "        data_dict[k][\"id\"].append(atomic_id)\n",
    "        data_dict[k][\"coord\"].append(coordinate)\n",
    "data_dict"
   ]
  },
  {
   "cell_type": "code",
   "execution_count": null,
   "metadata": {},
   "outputs": [],
   "source": [
    "from pychunkedgraph.graph.operation import MulticutOperation\n",
    "\n",
    "op = MulticutOperation(\n",
    "    cg,\n",
    "    user_id=\"test\",\n",
    "    source_ids=data_dict[\"sources\"][\"id\"],\n",
    "    sink_ids=data_dict[\"sinks\"][\"id\"],\n",
    "    source_coords=data_dict[\"sources\"][\"coord\"],\n",
    "    sink_coords=data_dict[\"sinks\"][\"coord\"],    \n",
    "    bbox_offset=(240,240,24)\n",
    ")\n",
    "\n",
    "op._apply(operation_id=\"\",timestamp=None)"
   ]
  }
 ],
 "metadata": {
  "kernelspec": {
   "display_name": "Python 3",
   "language": "python",
   "name": "python3"
  },
  "language_info": {
   "codemirror_mode": {
    "name": "ipython",
    "version": 3
   },
   "file_extension": ".py",
   "mimetype": "text/x-python",
   "name": "python",
   "nbconvert_exporter": "python",
   "pygments_lexer": "ipython3",
   "version": "3.7.4"
  }
 },
 "nbformat": 4,
 "nbformat_minor": 2
}

{
 "cells": [
  {
   "cell_type": "code",
   "execution_count": null,
   "metadata": {},
   "outputs": [],
   "source": [
    "import numpy as np\n",
    "from pychunkedgraph.graph import ChunkedGraph\n",
    "from pychunkedgraph.graph.utils.inspect import dfs_print_node\n",
    "from pychunkedgraph.graph import cache\n",
    "\n",
    "from pychunkedgraph.graph.edits import add_edges, remove_edges\n",
    "from pychunkedgraph.graph.utils.context_managers import TimeIt\n",
    "from pychunkedgraph.graph.operation import MulticutOperation\n",
    "cg = ChunkedGraph(graph_id=\"akhilesh-minnie65-1\")"
   ]
  },
  {
   "cell_type": "code",
   "execution_count": null,
   "metadata": {},
   "outputs": [],
   "source": [
    "# dfs_print_node(cg, 864691138915823844, limit=2, sep=\"    \")"
   ]
  },
  {
   "cell_type": "code",
   "execution_count": null,
   "metadata": {},
   "outputs": [],
   "source": [
    "from collections import defaultdict\n",
    "\n",
    "data = {\n",
    "    \"sources\":[[\"88961898120241790\",746048.8125,822299.6875,596280]],\n",
    "    \"sinks\":[[\"88961898120239439\",746356.5625,822256.9375,596280]]\n",
    "}\n",
    "data_dict = {}\n",
    "for k in [\"sources\", \"sinks\"]:\n",
    "    data_dict[k] = defaultdict(list)\n",
    "    for node in data[k]:\n",
    "        node_id = node[0]\n",
    "        x, y, z = node[1:]\n",
    "        coordinate = np.array([x, y, z]) / cg.meta._ws_cv.resolution\n",
    "\n",
    "        atomic_id = cg.get_atomic_id_from_coord(\n",
    "            coordinate[0],\n",
    "            coordinate[1],\n",
    "            coordinate[2],\n",
    "            parent_id=np.uint64(node_id),\n",
    "        )\n",
    "\n",
    "        if atomic_id is None:\n",
    "            raise ValueError(\"aha\")\n",
    "\n",
    "        data_dict[k][\"id\"].append(atomic_id)\n",
    "        data_dict[k][\"coord\"].append(coordinate)"
   ]
  },
  {
   "cell_type": "code",
   "execution_count": null,
   "metadata": {},
   "outputs": [],
   "source": [
    "cache.clear()\n",
    "cg.cache = cache.CacheService(cg)\n",
    "\n",
    "op = MulticutOperation(\n",
    "    cg,\n",
    "    user_id=\"test\",\n",
    "    source_ids=data_dict[\"sources\"][\"id\"],\n",
    "    sink_ids=data_dict[\"sinks\"][\"id\"],\n",
    "    source_coords=data_dict[\"sources\"][\"coord\"],\n",
    "    sink_coords=data_dict[\"sinks\"][\"coord\"],\n",
    "    bbox_offset=(240,240,24)\n",
    ")\n",
    "\n",
    "with TimeIt(\"remove edges\"):\n",
    "    done, new_ids = op._apply(operation_id=\"\",timestamp=None)  \n",
    "print()\n",
    "print(new_ids[12])\n",
    "roots = new_ids[12]\n",
    "\n",
    "for i in range(2, 13):\n",
    "    print(i, new_ids[i])"
   ]
  },
  {
   "cell_type": "code",
   "execution_count": null,
   "metadata": {
    "scrolled": false
   },
   "outputs": [],
   "source": [
    "dfs_print_node(cg, roots[1], limit=2, sep=\"    \")"
   ]
  }
 ],
 "metadata": {
  "kernelspec": {
   "display_name": "Python 3",
   "language": "python",
   "name": "python3"
  },
  "language_info": {
   "codemirror_mode": {
    "name": "ipython",
    "version": 3
   },
   "file_extension": ".py",
   "mimetype": "text/x-python",
   "name": "python",
   "nbconvert_exporter": "python",
   "pygments_lexer": "ipython3",
   "version": "3.7.4"
  }
 },
 "nbformat": 4,
 "nbformat_minor": 2
}

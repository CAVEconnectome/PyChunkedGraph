{
 "cells": [
  {
   "cell_type": "code",
   "execution_count": 1,
   "metadata": {},
   "outputs": [],
   "source": [
    "import numpy as np\n",
    "from pychunkedgraph.graph import ChunkedGraph, ChunkedGraphMeta\n",
    "from pychunkedgraph.graph.meta import ChunkedGraphMeta, GraphConfig, DataSource\n",
    "\n",
    "ds = DataSource(\n",
    "  EDGES= \"gs://chunkedgraph/minnie65_0/edges\",\n",
    "  COMPONENTS= \"gs://chunkedgraph/minnie65_0/components\",\n",
    "  WATERSHED= \"gs://microns-seunglab/minnie65/ws_minnie65_0\"\n",
    ")\n",
    "gc = GraphConfig(\n",
    "  CHUNK_SIZE= [256, 256, 512]\n",
    ")\n",
    "cg = ChunkedGraph(graph_id=\"akhilesh-minnie65-1\")"
   ]
  },
  {
   "cell_type": "code",
   "execution_count": 2,
   "metadata": {},
   "outputs": [
    {
     "name": "stdout",
     "output_type": "stream",
     "text": [
      "1\n",
      "9\n",
      "9\n",
      "49\n",
      "28\n",
      "238\n",
      "544\n",
      "9615\n",
      "787\n",
      "2106\n",
      "39215\n"
     ]
    }
   ],
   "source": [
    "children = cg.get_children(864691139914732638)\n",
    "while children.size:\n",
    "    print(children.size)\n",
    "    children = cg.get_children(children, flatten=True)"
   ]
  },
  {
   "cell_type": "code",
   "execution_count": 3,
   "metadata": {},
   "outputs": [],
   "source": [
    "data = {\n",
    "  \"sources\": [\n",
    "    [\n",
    "      \"91356497812394262\",\n",
    "      815458.9375,\n",
    "      884707.6875,\n",
    "      859720\n",
    "    ]\n",
    "  ],\n",
    "  \"sinks\": [\n",
    "    [\n",
    "      \"91356497812401228\",\n",
    "      816143.625,\n",
    "      884547.3125,\n",
    "      859720\n",
    "    ]\n",
    "  ]\n",
    "}"
   ]
  },
  {
   "cell_type": "code",
   "execution_count": 4,
   "metadata": {},
   "outputs": [
    {
     "data": {
      "text/plain": [
       "{'sources': defaultdict(list,\n",
       "             {'id': [91356497812394262],\n",
       "              'coord': [Vec(101932.3671875,110588.4609375,21493.0, dtype=float64)]}),\n",
       " 'sinks': defaultdict(list,\n",
       "             {'id': [91356497812401228],\n",
       "              'coord': [Vec(102017.953125,110568.4140625,21493.0, dtype=float64)]})}"
      ]
     },
     "execution_count": 4,
     "metadata": {},
     "output_type": "execute_result"
    }
   ],
   "source": [
    "from collections import defaultdict\n",
    "data_dict = {}\n",
    "for k in [\"sources\", \"sinks\"]:\n",
    "    data_dict[k] = defaultdict(list)\n",
    "    for node in data[k]:\n",
    "        node_id = node[0]\n",
    "        x, y, z = node[1:]\n",
    "        coordinate = np.array([x, y, z]) / cg.meta._ws_cv.resolution\n",
    "\n",
    "        atomic_id = cg.get_atomic_id_from_coord(\n",
    "            coordinate[0],\n",
    "            coordinate[1],\n",
    "            coordinate[2],\n",
    "            parent_id=np.uint64(node_id),\n",
    "        )\n",
    "\n",
    "        if atomic_id is None:\n",
    "            raise ValueError(\"aha\")\n",
    "\n",
    "        data_dict[k][\"id\"].append(atomic_id)\n",
    "        data_dict[k][\"coord\"].append(coordinate)\n",
    "data_dict"
   ]
  },
  {
   "cell_type": "code",
   "execution_count": 5,
   "metadata": {},
   "outputs": [
    {
     "name": "stdout",
     "output_type": "stream",
     "text": [
      "Start get_subgraph\n",
      "   len(edges) 11926\n",
      "   4.640780687332153\n",
      "Start run_multicut\n",
      "   0.11127448081970215\n",
      "Start get_parents edges\n",
      "   7.033348083496094e-05\n",
      "Cannot find root id 522980506728398854, 10, 2020-02-04 19:22:00.593000+00:00\n",
      "Cannot find root id 595601050719748099, 10, 2020-02-04 19:22:05.204000+00:00\n",
      "Cannot find root id 743093938516131845, 12, 2020-02-04 19:22:17.309000+00:00\n",
      "Cannot find root id 743093938516131846, 12, 2020-02-04 19:22:17.912000+00:00\n"
     ]
    },
    {
     "data": {
      "text/plain": [
       "[864691128455135283, 864691128455135284]"
      ]
     },
     "execution_count": 5,
     "metadata": {},
     "output_type": "execute_result"
    }
   ],
   "source": [
    "from pychunkedgraph.graph.operation import MulticutOperation\n",
    "\n",
    "op = MulticutOperation(\n",
    "    cg,\n",
    "    user_id=\"test\",\n",
    "    source_ids=data_dict[\"sources\"][\"id\"],\n",
    "    sink_ids=data_dict[\"sinks\"][\"id\"],\n",
    "    source_coords=data_dict[\"sources\"][\"coord\"],\n",
    "    sink_coords=data_dict[\"sinks\"][\"coord\"],    \n",
    "    bbox_offset=(240,240,24)\n",
    ")\n",
    "\n",
    "op._apply(operation_id=\"\",timestamp=None)"
   ]
  },
  {
   "cell_type": "code",
   "execution_count": 8,
   "metadata": {
    "scrolled": false
   },
   "outputs": [
    {
     "name": "stdout",
     "output_type": "stream",
     "text": [
      "1\n",
      "1\n",
      "4\n",
      "6\n",
      "43\n",
      "66\n",
      "270\n",
      "11373\n"
     ]
    }
   ],
   "source": [
    "# 91356497812394262\n",
    "# 91356497812401228\n",
    "\n",
    "children = cg.get_children(864691128455135283)\n",
    "while children.size:\n",
    "    print(children.size)\n",
    "    children = cg.get_children(children, flatten=True)"
   ]
  },
  {
   "cell_type": "code",
   "execution_count": 9,
   "metadata": {},
   "outputs": [
    {
     "name": "stdout",
     "output_type": "stream",
     "text": [
      "1\n",
      "1\n",
      "197\n",
      "2967\n",
      "4612\n",
      "16623\n",
      "43381\n",
      "116447\n",
      "2674542\n"
     ]
    }
   ],
   "source": [
    "# 91356497812394262\n",
    "# 91356497812401228\n",
    "\n",
    "children = cg.get_children(864691128455135284)\n",
    "while children.size:\n",
    "    print(children.size)\n",
    "    children = cg.get_children(children, flatten=True)"
   ]
  }
 ],
 "metadata": {
  "kernelspec": {
   "display_name": "Python 3",
   "language": "python",
   "name": "python3"
  },
  "language_info": {
   "codemirror_mode": {
    "name": "ipython",
    "version": 3
   },
   "file_extension": ".py",
   "mimetype": "text/x-python",
   "name": "python",
   "nbconvert_exporter": "python",
   "pygments_lexer": "ipython3",
   "version": "3.7.4"
  }
 },
 "nbformat": 4,
 "nbformat_minor": 2
}

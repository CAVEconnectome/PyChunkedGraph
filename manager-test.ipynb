{
 "cells": [
  {
   "cell_type": "code",
   "execution_count": 4,
   "metadata": {},
   "outputs": [
    {
     "name": "stdout",
     "output_type": "stream",
     "text": [
      "True\n",
      "True\n",
      "True\n",
      "True\n",
      "True\n",
      "True\n"
     ]
    },
    {
     "name": "stderr",
     "output_type": "stream",
     "text": [
      "Process Process-11:\n",
      "Process Process-12:\n",
      "Traceback (most recent call last):\n",
      "Traceback (most recent call last):\n",
      "  File \"/usr/local/lib/python3.7/multiprocessing/process.py\", line 297, in _bootstrap\n",
      "    self.run()\n",
      "  File \"/usr/local/lib/python3.7/multiprocessing/process.py\", line 297, in _bootstrap\n",
      "    self.run()\n",
      "  File \"/usr/local/lib/python3.7/multiprocessing/process.py\", line 99, in run\n",
      "    self._target(*self._args, **self._kwargs)\n",
      "  File \"/usr/local/lib/python3.7/multiprocessing/process.py\", line 99, in run\n",
      "    self._target(*self._args, **self._kwargs)\n",
      "  File \"<ipython-input-4-2a3eb6651266>\", line 8, in foo\n",
      "    time.sleep(10)\n",
      "  File \"<ipython-input-4-2a3eb6651266>\", line 8, in foo\n",
      "    time.sleep(10)\n",
      "KeyboardInterrupt\n",
      "KeyboardInterrupt\n"
     ]
    }
   ],
   "source": [
    "import time\n",
    "from multiprocessing import Manager, Process\n",
    "\n",
    "def foo(locks_d, l):\n",
    "    while True:\n",
    "        print(locks_d[l].acquire())\n",
    "        locks_d[l].release()\n",
    "        time.sleep(10)\n",
    "\n",
    "\n",
    "mgr = Manager()\n",
    "locks_d = mgr.dict()\n",
    "locks_d[1] = mgr.Lock()\n",
    "locks_d[2] = mgr.Lock()\n",
    "\n",
    "p1 = Process(target=foo, args=(locks_d,1,))\n",
    "p2 = Process(target=foo, args=(locks_d,2,))\n",
    "\n",
    "p1.start()\n",
    "p2.start()"
   ]
  }
 ],
 "metadata": {
  "kernelspec": {
   "display_name": "Python 3",
   "language": "python",
   "name": "python3"
  },
  "language_info": {
   "codemirror_mode": {
    "name": "ipython",
    "version": 3
   },
   "file_extension": ".py",
   "mimetype": "text/x-python",
   "name": "python",
   "nbconvert_exporter": "python",
   "pygments_lexer": "ipython3",
   "version": "3.7.4"
  }
 },
 "nbformat": 4,
 "nbformat_minor": 2
}

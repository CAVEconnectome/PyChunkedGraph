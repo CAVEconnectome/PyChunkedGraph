{
 "cells": [
  {
   "cell_type": "code",
   "execution_count": 1,
   "metadata": {},
   "outputs": [],
   "source": [
    "import numpy as np\n",
    "from pychunkedgraph.graph import ChunkedGraph, ChunkedGraphMeta\n",
    "from pychunkedgraph.graph.meta import ChunkedGraphMeta, GraphConfig, DataSource"
   ]
  },
  {
   "cell_type": "code",
   "execution_count": 2,
   "metadata": {},
   "outputs": [],
   "source": [
    "ds = DataSource(\n",
    "  EDGES= \"gs://chunkedgraph/minnie65_0/edges\",\n",
    "  COMPONENTS= \"gs://chunkedgraph/minnie65_0/components\",\n",
    "  WATERSHED= \"gs://microns-seunglab/minnie65/ws_minnie65_0\"\n",
    ")\n",
    "gc = GraphConfig(\n",
    "  CHUNK_SIZE= [256, 256, 512]\n",
    ")"
   ]
  },
  {
   "cell_type": "code",
   "execution_count": 3,
   "metadata": {},
   "outputs": [],
   "source": [
    "cg = ChunkedGraph(graph_id=\"akhilesh-minnie65-1\")"
   ]
  },
  {
   "cell_type": "code",
   "execution_count": 4,
   "metadata": {},
   "outputs": [],
   "source": [
    "edges = cg.read_chunk_edges([cg.get_chunk_id(layer=2,x=50,y=100,z=0)])"
   ]
  },
  {
   "cell_type": "code",
   "execution_count": 5,
   "metadata": {},
   "outputs": [],
   "source": [
    "# edges[\"in\"].get_pairs()"
   ]
  },
  {
   "cell_type": "code",
   "execution_count": 6,
   "metadata": {},
   "outputs": [],
   "source": [
    "from pychunkedgraph.graph.edits_v2 import add_edge_v2"
   ]
  },
  {
   "cell_type": "code",
   "execution_count": 9,
   "metadata": {},
   "outputs": [
    {
     "name": "stdout",
     "output_type": "stream",
     "text": [
      "120\n"
     ]
    }
   ],
   "source": [
    "from collections import defaultdict\n",
    "from pychunkedgraph.graph.utils.generic import get_bounding_box\n",
    "edge=np.array([75582903194484746, 75582903194484873])\n",
    "l2id_agg_d = cg.get_subgraph(\n",
    "    agglomeration_ids=np.unique(cg.get_roots(edge.ravel())),\n",
    "    bbox=get_bounding_box(None, None),\n",
    "    bbox_is_coordinate=True,\n",
    "    timestamp=None,\n",
    ")\n",
    "print(len(l2id_agg_d))\n",
    "l2ids = np.fromiter(l2id_agg_d.keys(), dtype=np.uint64)\n",
    "chunk_ids = cg.get_chunk_ids_from_node_ids(l2ids)\n",
    "\n",
    "chunk_l2ids_d = defaultdict(list)\n",
    "for idx, l2id in enumerate(l2ids):\n",
    "    chunk_l2ids_d[chunk_ids[idx]].append(l2id)"
   ]
  },
  {
   "cell_type": "code",
   "execution_count": 11,
   "metadata": {},
   "outputs": [
    {
     "data": {
      "text/plain": [
       "Agglomeration(node_id=146725222521765890, supervoxels=array([74667628483839074, 74667628483839134, 74667628483839135,\n",
       "       74667628483839145, 74667628483839149, 74667628483839156,\n",
       "       74667628483839163], dtype=uint64), in_edges=<pychunkedgraph.graph.edges.Edges object at 0x7f7abc9c3990>, out_edges=<pychunkedgraph.graph.edges.Edges object at 0x7f7abe68ff90>, cross_edges_d={2: array([], shape=(0, 2), dtype=uint64), 3: array([[74667628483839135, 74737997228016934],\n",
       "       [74667628483839149, 74667697203314819],\n",
       "       [74667628483839134, 74667697203314819],\n",
       "       [74667628483839135, 74667697203314784],\n",
       "       [74667628483839135, 74737997228016956],\n",
       "       [74667628483839145, 74667697203314776],\n",
       "       [74667628483839149, 74667697203314744],\n",
       "       [74667628483839156, 74667697203314728]], dtype=uint64), 4: array([], shape=(0, 2), dtype=uint64), 5: array([], shape=(0, 2), dtype=uint64), 6: array([], shape=(0, 2), dtype=uint64), 7: array([], shape=(0, 2), dtype=uint64), 8: array([], shape=(0, 2), dtype=uint64), 9: array([], shape=(0, 2), dtype=uint64), 10: array([], shape=(0, 2), dtype=uint64), 11: array([], shape=(0, 2), dtype=uint64)})"
      ]
     },
     "execution_count": 11,
     "metadata": {},
     "output_type": "execute_result"
    }
   ],
   "source": [
    "l2id_agg_d[146725222521765890]"
   ]
  }
 ],
 "metadata": {
  "kernelspec": {
   "display_name": "Python 3",
   "language": "python",
   "name": "python3"
  },
  "language_info": {
   "codemirror_mode": {
    "name": "ipython",
    "version": 3
   },
   "file_extension": ".py",
   "mimetype": "text/x-python",
   "name": "python",
   "nbconvert_exporter": "python",
   "pygments_lexer": "ipython3",
   "version": "3.7.4"
  }
 },
 "nbformat": 4,
 "nbformat_minor": 2
}

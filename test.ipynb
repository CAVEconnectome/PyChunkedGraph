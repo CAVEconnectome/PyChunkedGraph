{
 "cells": [
  {
   "cell_type": "code",
   "execution_count": 1,
   "metadata": {},
   "outputs": [],
   "source": [
    "import numpy as np\n",
    "from pychunkedgraph.graph import ChunkedGraph, ChunkedGraphMeta\n",
    "from pychunkedgraph.graph.meta import ChunkedGraphMeta, GraphConfig, DataSource\n",
    "\n",
    "ds = DataSource(\n",
    "  EDGES= \"gs://chunkedgraph/minnie65_0/edges\",\n",
    "  COMPONENTS= \"gs://chunkedgraph/minnie65_0/components\",\n",
    "  WATERSHED= \"gs://microns-seunglab/minnie65/ws_minnie65_0\"\n",
    ")\n",
    "gc = GraphConfig(\n",
    "  CHUNK_SIZE= [256, 256, 512]\n",
    ")\n",
    "cg = ChunkedGraph(graph_id=\"akhilesh-minnie65-1\")"
   ]
  },
  {
   "cell_type": "code",
   "execution_count": 2,
   "metadata": {},
   "outputs": [
    {
     "data": {
      "text/plain": [
       "GraphConfig(ID=None, ID_PREFIX=None, CHUNK_SIZE=[256, 256, 512], FANOUT=2, LAYER_ID_BITS=8, SPATIAL_BITS=10, OVERWRITE=False, ROOT_LOCK_EXPIRY=datetime.timedelta(seconds=180))"
      ]
     },
     "execution_count": 2,
     "metadata": {},
     "output_type": "execute_result"
    }
   ],
   "source": [
    "cg.meta.graph_config"
   ]
  },
  {
   "cell_type": "code",
   "execution_count": 14,
   "metadata": {
    "collapsed": true
   },
   "outputs": [
    {
     "data": {
      "text/plain": [
       "array([[75582903194484746, 75582834475009094],\n",
       "       [75582903194484755, 75582834475009193],\n",
       "       [75582903194484757, 75582834475009060],\n",
       "       [75582903194484766, 75582834475009207],\n",
       "       [75582903194484774, 75582834475009300],\n",
       "       [75582903194484777, 75582834475008913],\n",
       "       [75582903194484798, 75582834475009027],\n",
       "       [75582903194484812, 75582834475009168],\n",
       "       [75582903194484819, 75582834475009018],\n",
       "       [75582903194484829, 75582834475009044],\n",
       "       [75582903194484834, 75582834475009136],\n",
       "       [75582903194484834, 75653271938662401],\n",
       "       [75582903194484849, 75582834475009105],\n",
       "       [75582903194484873, 75582834475009191],\n",
       "       [75582903194484877, 75653271938662605],\n",
       "       [75582903194484912, 75582834475009316],\n",
       "       [75582903194484963, 75582834475009179],\n",
       "       [75582903194485062, 75653271938663178],\n",
       "       [75582903194485077, 75512534450307285],\n",
       "       [75582903194485109, 75512534450307419],\n",
       "       [75582903194485150, 75653271938663312],\n",
       "       [75582903194485163, 75512534450307435],\n",
       "       [75582903194485170, 75653271938663229],\n",
       "       [75582903194485200, 75512534450307545],\n",
       "       [75582903194485277, 75653271938663395],\n",
       "       [75582903194485329, 75653271938663527],\n",
       "       [75582903194485330, 75512534450307653],\n",
       "       [75582903194485355, 75512534450307707],\n",
       "       [75582903194485373, 75653271938663573],\n",
       "       [75582903194485399, 75653271938663745],\n",
       "       [75582903194485481, 75512534450307737],\n",
       "       [75582903194485490, 75512534450307910],\n",
       "       [75582903194485499, 75653271938663900],\n",
       "       [75582903194485506, 75582971913961522],\n",
       "       [75582903194485507, 75582971913961527],\n",
       "       [75582903194485520, 75582971913961557],\n",
       "       [75582903194485520, 75653271938663921],\n",
       "       [75582903194485528, 75512534450307957],\n",
       "       [75582903194485544, 75582971913961488],\n",
       "       [75582903194485545, 75582971913961542],\n",
       "       [75582903194485562, 75582971913961555],\n",
       "       [75582903194485586, 75582971913961513],\n",
       "       [75582903194485666, 75582971913961509],\n",
       "       [75582903194485708, 75582971913961503],\n",
       "       [75582903194485720, 75512534450308044],\n",
       "       [75582903194485720, 75582971913961473],\n",
       "       [75582903194485753, 75582971913961501],\n",
       "       [75582903194485767, 75582971913961693]], dtype=uint64)"
      ]
     },
     "execution_count": 14,
     "metadata": {},
     "output_type": "execute_result"
    }
   ],
   "source": [
    "edges = cg.read_chunk_edges([cg.get_chunk_id(layer=2,x=50,y=100,z=0)])\n",
    "# edges[\"cross\"].get_pairs()"
   ]
  },
  {
   "cell_type": "code",
   "execution_count": 5,
   "metadata": {},
   "outputs": [],
   "source": [
    "# from collections import defaultdict\n",
    "# from pychunkedgraph.graph.utils.generic import get_bounding_box\n",
    "# edge=np.array([75582903194484746, 75582834475009094])\n",
    "# l2id_agg_d = cg.get_subgraph(\n",
    "#     agglomeration_ids=np.unique(cg.get_roots(edge.ravel())),\n",
    "#     bbox=get_bounding_box(None, None),\n",
    "#     bbox_is_coordinate=True,\n",
    "#     timestamp=None,\n",
    "# )\n",
    "# l2id_agg_d[146725222521765890]"
   ]
  },
  {
   "cell_type": "code",
   "execution_count": 4,
   "metadata": {},
   "outputs": [
    {
     "data": {
      "text/plain": [
       "219564225729658884"
      ]
     },
     "execution_count": 4,
     "metadata": {},
     "output_type": "execute_result"
    }
   ],
   "source": [
    "cg.get_parent(147570128488235009)"
   ]
  },
  {
   "cell_type": "code",
   "execution_count": 7,
   "metadata": {},
   "outputs": [
    {
     "data": {
      "text/plain": [
       "{_Attribute(key=b'children', family_id='0', serializer=<pychunkedgraph.graph.utils.serializers.NumPyArray object at 0x7fb294f53bd0>): [<Cell value=array([75582903194484812], dtype=uint64) timestamp=2019-11-02 03:59:56.223000+00:00>],\n",
       " _Attribute(key=b'parents', family_id='0', serializer=<pychunkedgraph.graph.utils.serializers.NumPyValue object at 0x7fb294f53fd0>): [<Cell value=291635563662934656 timestamp=2019-11-02 18:15:35.986000+00:00>],\n",
       " _Attribute(key=b'atomic_cross_edges_4', family_id='3', serializer=<pychunkedgraph.graph.utils.serializers.NumPyArray object at 0x7fb294f53410>): [<Cell value=array([[75582903194484812, 75582834475009168]], dtype=uint64) timestamp=2019-11-02 03:59:56.223000+00:00>]}"
      ]
     },
     "execution_count": 7,
     "metadata": {},
     "output_type": "execute_result"
    }
   ],
   "source": [
    "node = cg.client.read_node(147640497232412674)\n",
    "node"
   ]
  },
  {
   "cell_type": "code",
   "execution_count": 30,
   "metadata": {},
   "outputs": [
    {
     "name": "stdout",
     "output_type": "stream",
     "text": [
      "147640497232412674\n",
      "147640428512935937\n"
     ]
    }
   ],
   "source": [
    "print(cg.get_parent(75582903194484812))\n",
    "print(cg.get_parent(75582834475009168))"
   ]
  },
  {
   "cell_type": "code",
   "execution_count": 33,
   "metadata": {},
   "outputs": [
    {
     "name": "stdout",
     "output_type": "stream",
     "text": [
      "[291635563662934656 291634464151307295]\n"
     ]
    }
   ],
   "source": [
    "print(cg.get_roots([75582903194484812, 75582834475009168], stop_layer=4))"
   ]
  },
  {
   "cell_type": "code",
   "execution_count": 11,
   "metadata": {},
   "outputs": [
    {
     "name": "stdout",
     "output_type": "stream",
     "text": [
      "363718446468361184\n",
      "4\n",
      "[[291634464151307295 291635563662934656]\n",
      " [291634464151307295 291635563662936192]]\n"
     ]
    }
   ],
   "source": [
    "print(cg.get_parent(291634464151307295))\n",
    "print(cg.get_chunk_layer(291634464151307295))\n",
    "print(cg.get_cross_chunk_edges(291634464151307295))"
   ]
  },
  {
   "cell_type": "code",
   "execution_count": 2,
   "metadata": {},
   "outputs": [
    {
     "name": "stdout",
     "output_type": "stream",
     "text": [
      "576742227280767262\n",
      "[435828817064694903 434702917157630643 434702917157524103]\n",
      "7\n",
      "[[506866064312035921 506795695567722869]]\n"
     ]
    }
   ],
   "source": [
    "print(cg.get_parent(506866064312035921))\n",
    "print(cg.get_children(506866064312035921))\n",
    "print(cg.get_chunk_layer(506866064312035921))\n",
    "print(cg.get_cross_chunk_edges(506866064312035921))"
   ]
  },
  {
   "cell_type": "code",
   "execution_count": 3,
   "metadata": {},
   "outputs": [
    {
     "data": {
      "text/plain": [
       "array([506795695567722869, 506866064312035921], dtype=uint64)"
      ]
     },
     "execution_count": 3,
     "metadata": {},
     "output_type": "execute_result"
    }
   ],
   "source": [
    "cg.get_children(576742227280767262)"
   ]
  },
  {
   "cell_type": "code",
   "execution_count": 9,
   "metadata": {},
   "outputs": [
    {
     "name": "stdout",
     "output_type": "stream",
     "text": [
      "147640497232412674 2\n",
      "291635563662934656 4\n",
      "363718446468361184 5\n",
      "435828817064694903 6\n",
      "506866064312035921 7\n",
      "576742227280767262 8\n",
      "864691138338302132 12\n"
     ]
    }
   ],
   "source": [
    "parent = cg.get_parent(75582903194484812)\n",
    "while parent:\n",
    "    print(parent, cg.get_chunk_layer(parent))\n",
    "    parent = cg.get_parent(parent)"
   ]
  },
  {
   "cell_type": "code",
   "execution_count": 10,
   "metadata": {},
   "outputs": [
    {
     "name": "stdout",
     "output_type": "stream",
     "text": [
      "147640428512935937 2\n",
      "219704688340107265 3\n",
      "291634464151307295 4\n",
      "363718446468361184 5\n",
      "435828817064694903 6\n",
      "506866064312035921 7\n",
      "576742227280767262 8\n",
      "864691138338302132 12\n"
     ]
    }
   ],
   "source": [
    "parent = cg.get_parent(75582834475009168)\n",
    "while parent:\n",
    "    print(parent, cg.get_chunk_layer(parent))\n",
    "    parent = cg.get_parent(parent)"
   ]
  }
 ],
 "metadata": {
  "kernelspec": {
   "display_name": "Python 3",
   "language": "python",
   "name": "python3"
  },
  "language_info": {
   "codemirror_mode": {
    "name": "ipython",
    "version": 3
   },
   "file_extension": ".py",
   "mimetype": "text/x-python",
   "name": "python",
   "nbconvert_exporter": "python",
   "pygments_lexer": "ipython3",
   "version": "3.7.4"
  }
 },
 "nbformat": 4,
 "nbformat_minor": 2
}

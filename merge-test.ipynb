{
 "cells": [
  {
   "cell_type": "code",
   "execution_count": null,
   "metadata": {},
   "outputs": [],
   "source": [
    "import numpy as np\n",
    "from pychunkedgraph.graph import ChunkedGraph\n",
    "from pychunkedgraph.graph.utils.inspect import dfs_print_node\n",
    "from pychunkedgraph.graph import cache\n",
    "\n",
    "from pychunkedgraph.graph.edits import add_edges, remove_edges\n",
    "from pychunkedgraph.graph.utils.context_managers import TimeIt"
   ]
  },
  {
   "cell_type": "code",
   "execution_count": null,
   "metadata": {},
   "outputs": [],
   "source": [
    "cg = ChunkedGraph(graph_id=\"akhilesh-minnie65-1\")"
   ]
  },
  {
   "cell_type": "code",
   "execution_count": null,
   "metadata": {},
   "outputs": [],
   "source": [
    "# between 8, 239 + 2965 = 3204\n",
    "# edges = np.array([[94524946524577880, 94595315268752176]],dtype=np.uint64)\n",
    "# # between 2, 832 + 354 = 1186\n",
    "edges = np.array([[94803535283198313, 94803466563722624]],dtype=np.uint64)\n",
    "# #\n",
    "# edges = np.array([[87979553200436575, 87979553200437530]],dtype=np.uint64)\n",
    "\n",
    "print(cg.get_cross_chunk_edges_layer(edges))\n",
    "print(cg.get_parents(edges[0]))\n",
    "roots_old = cg.get_roots(edges[0])\n",
    "print(roots_old)"
   ]
  },
  {
   "cell_type": "code",
   "execution_count": null,
   "metadata": {},
   "outputs": [],
   "source": [
    "dfs_print_node(cg, roots_old[0], limit=2, sep=\"    \", count_only=True)\n",
    "dfs_print_node(cg, roots_old[1], limit=2, sep=\"    \", count_only=True)"
   ]
  },
  {
   "cell_type": "code",
   "execution_count": null,
   "metadata": {},
   "outputs": [],
   "source": [
    "cache.clear()\n",
    "cg.cache = cache.CacheService(cg)\n",
    "\n",
    "with TimeIt(\"add_edges\"):\n",
    "    new_ids = add_edges(cg, atomic_edges=edges)    \n",
    "\n",
    "print()\n",
    "roots = new_ids[12]\n",
    "for i in range(2, 13):\n",
    "    print(i, new_ids[i])"
   ]
  },
  {
   "cell_type": "code",
   "execution_count": null,
   "metadata": {},
   "outputs": [],
   "source": [
    "dfs_print_node(cg, roots[0], limit=2, sep=\"    \", count_only=True)"
   ]
  },
  {
   "cell_type": "code",
   "execution_count": null,
   "metadata": {},
   "outputs": [],
   "source": [
    "# limit = 1\n",
    "# leaves = []\n",
    "# for root in [*roots_old, roots[1]]:\n",
    "#     print(root)\n",
    "#     leaves.append([])\n",
    "#     children = np.array([root], dtype=np.uint64)\n",
    "#     mask = cg.get_chunk_layers(children) > limit\n",
    "#     while np.any(mask):\n",
    "#         children = cg.get_children(children[mask], flatten=True)\n",
    "#         mask = cg.get_chunk_layers(children) > limit\n",
    "#         leaves[-1].append(children[~mask])\n",
    "#     leaves[-1] = np.concatenate(leaves[-1])\n",
    "#     print(len(leaves[-1]))\n",
    "    \n",
    "# print()    \n",
    "# print([len(x) for x in leaves])\n",
    "    \n",
    "# old = np.unique(np.concatenate([leaves[0], leaves[1]]))\n",
    "# new = np.unique(leaves[2])\n",
    "# print(len(old), len(new))"
   ]
  }
 ],
 "metadata": {
  "kernelspec": {
   "display_name": "Python 3",
   "language": "python",
   "name": "python3"
  },
  "language_info": {
   "codemirror_mode": {
    "name": "ipython",
    "version": 3
   },
   "file_extension": ".py",
   "mimetype": "text/x-python",
   "name": "python",
   "nbconvert_exporter": "python",
   "pygments_lexer": "ipython3",
   "version": "3.7.4"
  }
 },
 "nbformat": 4,
 "nbformat_minor": 2
}

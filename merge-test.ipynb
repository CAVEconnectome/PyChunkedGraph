{
 "cells": [
  {
   "cell_type": "code",
   "execution_count": 1,
   "metadata": {},
   "outputs": [
    {
     "name": "stderr",
     "output_type": "stream",
     "text": [
      "/usr/local/lib/python3.7/site-packages/python_jsonschema_objects/__init__.py:53: UserWarning: Schema version http://json-schema.org/draft-04/schema not recognized. Some keywords and features may not be supported.\n",
      "  self.schema[\"$schema\"]\n"
     ]
    }
   ],
   "source": [
    "import numpy as np\n",
    "from pychunkedgraph.graph import ChunkedGraph, ChunkedGraphMeta\n",
    "from pychunkedgraph.graph.meta import ChunkedGraphMeta, GraphConfig, DataSource\n",
    "\n",
    "ds = DataSource(\n",
    "  EDGES= \"gs://chunkedgraph/minnie65_0/edges\",\n",
    "  COMPONENTS= \"gs://chunkedgraph/minnie65_0/components\",\n",
    "  WATERSHED= \"gs://microns-seunglab/minnie65/ws_minnie65_0\"\n",
    ")\n",
    "gc = GraphConfig(\n",
    "  CHUNK_SIZE= [256, 256, 512]\n",
    ")\n",
    "cg = ChunkedGraph(graph_id=\"akhilesh-minnie65-1\")"
   ]
  },
  {
   "cell_type": "code",
   "execution_count": 2,
   "metadata": {},
   "outputs": [
    {
     "name": "stdout",
     "output_type": "stream",
     "text": [
      "{864691138338302132: 75582971913961693, 864691137629078617: 75512534450307707, 864691137995403800: 75582903194484819, 864691137995404568: 75582834475009044, 864691138741942725: 75582971913961542, 864691137995404824: 75582903194484963, 864691136334203586: 75582971913961503}\n"
     ]
    }
   ],
   "source": [
    "edges = cg.read_chunk_edges([cg.get_chunk_id(layer=2,x=50,y=100,z=0)])\n",
    "edges = edges[\"between\"].get_pairs()\n",
    "nodes = np.unique(edges)\n",
    "parents = cg.get_roots(nodes)\n",
    "d = dict(zip(parents, nodes))\n",
    "print(d)"
   ]
  },
  {
   "cell_type": "code",
   "execution_count": 3,
   "metadata": {},
   "outputs": [
    {
     "name": "stdout",
     "output_type": "stream",
     "text": [
      "[8]\n",
      "[864691139327226349 864691139527061485]\n"
     ]
    }
   ],
   "source": [
    "# edges = np.array([[94803535283198313, 94803466563722624]],dtype=np.uint64)\n",
    "# between\n",
    "edges = np.array([[94524946524577880, 94595315268752176]],dtype=np.uint64)\n",
    "\n",
    "print(cg.get_cross_chunk_edges_layer(edges))\n",
    "print(cg.get_roots(edges[0]))"
   ]
  },
  {
   "cell_type": "code",
   "execution_count": 4,
   "metadata": {},
   "outputs": [],
   "source": [
    "# parents = np.uint64(edges[0][0])\n",
    "# while parents and parents.size:\n",
    "#     parents = cg.get_parent(parents)\n",
    "#     print(parents)"
   ]
  },
  {
   "cell_type": "code",
   "execution_count": 5,
   "metadata": {
    "scrolled": false
   },
   "outputs": [
    {
     "name": "stdout",
     "output_type": "stream",
     "text": [
      "Start add_edge\n",
      "   Start get_parents edges\n",
      "   4.1484832763671875e-05\n",
      "\n",
      "2 2 [166512171818156502]\n",
      "2 2 [166512171818156502]\n",
      "\n",
      "2 2 [166652840587035216 166723278050689566]\n",
      "2 2 [166652840587035216 166723278050689566]\n",
      "Cannot find root id 238589352450457642, 7, 2020-02-13 04:12:57.933000+00:00\n",
      "\n",
      "3 3 [238870827427170695]\n",
      "3 3 [238870827427170695]\n",
      "\n",
      "4 4 [311107923180792595]\n",
      "4 4 [311107923180792595]\n",
      "\n",
      "5 5 [383522884267609136]\n",
      "5 5 [383522884267609136]\n",
      "Cannot find root id 455162629527175203, 7, 2020-02-13 04:13:02.569000+00:00\n",
      "Cannot find root id 525232306542084131, 12, 2020-02-13 04:13:04.891000+00:00\n",
      "\n",
      "7 7 [527554475100710789]\n",
      "7 7 [527554475100710789]\n",
      "\n",
      "8 8 [525232306542084131 595601050720271701]\n",
      "8 8 [595601050719748112 595601050720271701]\n",
      "Cannot find root id 668784544664518691, 12, 2020-02-13 04:13:10.682000+00:00\n",
      "   [864691128455135360, 864691128455135361]\n",
      "15.873968839645386\n"
     ]
    }
   ],
   "source": [
    "from pychunkedgraph.graph.edits import add_edges\n",
    "from pychunkedgraph.graph.utils.context_managers import TimeIt\n",
    "\n",
    "edges = np.array(edges, dtype=np.uint64)\n",
    "with TimeIt(\"add_edge\"):\n",
    "    print(add_edges(cg, atomic_edges=edges))"
   ]
  },
  {
   "cell_type": "code",
   "execution_count": 9,
   "metadata": {},
   "outputs": [
    {
     "data": {
      "text/plain": [
       "array([595601050719748112], dtype=uint64)"
      ]
     },
     "execution_count": 9,
     "metadata": {},
     "output_type": "execute_result"
    }
   ],
   "source": [
    "cg.get_children(864691128455135360)"
   ]
  },
  {
   "cell_type": "code",
   "execution_count": 16,
   "metadata": {},
   "outputs": [
    {
     "data": {
      "text/plain": [
       "array([668784544664518691], dtype=uint64)"
      ]
     },
     "execution_count": 16,
     "metadata": {},
     "output_type": "execute_result"
    }
   ],
   "source": [
    "cg.get_children(864691128455135361)"
   ]
  },
  {
   "cell_type": "code",
   "execution_count": 13,
   "metadata": {},
   "outputs": [
    {
     "data": {
      "text/plain": [
       "864691139527061485"
      ]
     },
     "execution_count": 13,
     "metadata": {},
     "output_type": "execute_result"
    }
   ],
   "source": [
    "cg.get_parent(668784544668828344)"
   ]
  },
  {
   "cell_type": "code",
   "execution_count": 12,
   "metadata": {},
   "outputs": [
    {
     "data": {
      "text/plain": [
       "array([864691128455135360, 668784544668828344], dtype=uint64)"
      ]
     },
     "execution_count": 12,
     "metadata": {},
     "output_type": "execute_result"
    }
   ],
   "source": [
    "cg.get_parents(np.array([595601050719748112, 668784544664518691], dtype=np.uint64))\n",
    "cg.get_parents(np.array([595601050719748112, 595601050720271701], dtype=np.uint64))"
   ]
  }
 ],
 "metadata": {
  "kernelspec": {
   "display_name": "Python 3",
   "language": "python",
   "name": "python3"
  },
  "language_info": {
   "codemirror_mode": {
    "name": "ipython",
    "version": 3
   },
   "file_extension": ".py",
   "mimetype": "text/x-python",
   "name": "python",
   "nbconvert_exporter": "python",
   "pygments_lexer": "ipython3",
   "version": "3.7.4"
  }
 },
 "nbformat": 4,
 "nbformat_minor": 2
}

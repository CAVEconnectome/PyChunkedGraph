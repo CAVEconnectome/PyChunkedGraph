{
 "cells": [
  {
   "cell_type": "code",
   "execution_count": null,
   "metadata": {},
   "outputs": [],
   "source": [
    "import copy\n",
    "import numpy as np\n",
    "from pychunkedgraph.graph import ChunkedGraph, ChunkedGraphMeta\n",
    "from pychunkedgraph.graph.meta import ChunkedGraphMeta, GraphConfig, DataSource\n",
    "from pychunkedgraph.graph.utils.inspect import dfs_print_node"
   ]
  },
  {
   "cell_type": "code",
   "execution_count": null,
   "metadata": {},
   "outputs": [],
   "source": [
    "ds = DataSource(\n",
    "  EDGES= \"gs://chunkedgraph/minnie65_0/edges\",\n",
    "  COMPONENTS= \"gs://chunkedgraph/minnie65_0/components\",\n",
    "  WATERSHED= \"gs://microns-seunglab/minnie65/ws_minnie65_0\"\n",
    ")\n",
    "gc = GraphConfig(\n",
    "  CHUNK_SIZE= [256, 256, 512]\n",
    ")\n",
    "cg = ChunkedGraph(graph_id=\"akhilesh-minnie65-1\")\n",
    "\n",
    "# edges = np.array([[94803535283198313, 94803466563722624]],dtype=np.uint64)\n",
    "# between 8\n",
    "edges = np.array([[94524946524577880, 94595315268752176]],dtype=np.uint64)\n",
    "\n",
    "print(cg.get_cross_chunk_edges_layer(edges))\n",
    "print(cg.get_parents(edges[0]))\n",
    "roots_old = cg.get_roots(edges[0])\n",
    "print(roots_old)"
   ]
  },
  {
   "cell_type": "code",
   "execution_count": null,
   "metadata": {
    "scrolled": false
   },
   "outputs": [],
   "source": [
    "from pychunkedgraph.graph.edits import add_edges\n",
    "from pychunkedgraph.graph.utils.context_managers import TimeIt\n",
    "\n",
    "edges = np.array(edges, dtype=np.uint64)\n",
    "with TimeIt(\"add_edge\"):\n",
    "    done, new_ids = add_edges(cg, atomic_edges=edges)    \n",
    "print()\n",
    "print(new_ids[12])\n",
    "roots = new_ids[12]"
   ]
  },
  {
   "cell_type": "code",
   "execution_count": null,
   "metadata": {},
   "outputs": [],
   "source": [
    "for i in range(2, 12):\n",
    "    print(i, new_ids[i])"
   ]
  },
  {
   "cell_type": "code",
   "execution_count": null,
   "metadata": {},
   "outputs": [],
   "source": [
    "# dfs_print_node(cg, 595601050722147411, limit=2, sep=\"    \")\n",
    "cg.get_all_parents_dict(600104650348842218)"
   ]
  },
  {
   "cell_type": "code",
   "execution_count": null,
   "metadata": {},
   "outputs": [],
   "source": [
    "dfs_print_node(cg, 864691128455135396, limit=2, sep=\"    \")"
   ]
  },
  {
   "cell_type": "code",
   "execution_count": null,
   "metadata": {},
   "outputs": [],
   "source": [
    "limit = 1\n",
    "leaves = []\n",
    "for root in [*roots_old, roots[1]]:\n",
    "    print(root)\n",
    "    leaves.append([])\n",
    "    children = np.array([root], dtype=np.uint64)\n",
    "    mask = cg.get_chunk_layers(children) > limit\n",
    "    while np.any(mask):\n",
    "        children = cg.get_children(children[mask], flatten=True)\n",
    "        mask = cg.get_chunk_layers(children) > limit\n",
    "        leaves[-1].append(children[~mask])\n",
    "    leaves[-1] = np.concatenate(leaves[-1])\n",
    "    print(len(leaves[-1]))\n",
    "    \n",
    "print()    \n",
    "print([len(x) for x in leaves])\n",
    "    \n",
    "old = np.unique(np.concatenate([leaves[0], leaves[1]]))\n",
    "new = np.unique(leaves[2])\n",
    "print(len(old), len(new))"
   ]
  },
  {
   "cell_type": "code",
   "execution_count": null,
   "metadata": {},
   "outputs": [],
   "source": [
    "cg.get_children(np.array([238589352450461190, 238589627328365341, 238730089938813204,\n",
    "       238729815060909117, 455162629527435310, 382964332360706811],\n",
    "      dtype=np.uint64), flatten=True)"
   ]
  },
  {
   "cell_type": "code",
   "execution_count": null,
   "metadata": {},
   "outputs": [],
   "source": [
    "print(len(np.setdiff1d(old, new)))\n",
    "diff = np.setdiff1d(old, new)\n",
    "roots = cg.get_roots(diff)\n",
    "print(np.unique(roots, return_counts=True))"
   ]
  },
  {
   "cell_type": "code",
   "execution_count": null,
   "metadata": {},
   "outputs": [],
   "source": [
    "cg.get_parent(600104650349470359)"
   ]
  }
 ],
 "metadata": {
  "kernelspec": {
   "display_name": "Python 3",
   "language": "python",
   "name": "python3"
  },
  "language_info": {
   "codemirror_mode": {
    "name": "ipython",
    "version": 3
   },
   "file_extension": ".py",
   "mimetype": "text/x-python",
   "name": "python",
   "nbconvert_exporter": "python",
   "pygments_lexer": "ipython3",
   "version": "3.7.4"
  }
 },
 "nbformat": 4,
 "nbformat_minor": 2
}

{
 "cells": [
  {
   "cell_type": "code",
   "execution_count": 1,
   "metadata": {},
   "outputs": [],
   "source": [
    "import numpy as np\n",
    "from pychunkedgraph.graph import ChunkedGraph, ChunkedGraphMeta\n",
    "from pychunkedgraph.graph.meta import ChunkedGraphMeta, GraphConfig, DataSource\n",
    "\n",
    "ds = DataSource(\n",
    "  EDGES= \"gs://chunkedgraph/minnie65_0/edges\",\n",
    "  COMPONENTS= \"gs://chunkedgraph/minnie65_0/components\",\n",
    "  WATERSHED= \"gs://microns-seunglab/minnie65/ws_minnie65_0\"\n",
    ")\n",
    "gc = GraphConfig(\n",
    "  CHUNK_SIZE= [256, 256, 512]\n",
    ")\n",
    "cg = ChunkedGraph(graph_id=\"akhilesh-minnie65-1\")"
   ]
  },
  {
   "cell_type": "code",
   "execution_count": 4,
   "metadata": {
    "collapsed": true
   },
   "outputs": [
    {
     "data": {
      "text/plain": [
       "array([[75582903194484819, 75582834475009044],\n",
       "       [75582903194484867, 75582834475009018],\n",
       "       [75582903194484873, 75582834475009193],\n",
       "       [75582903194484912, 75512534450307165],\n",
       "       [75582903194484963, 75582834475009168],\n",
       "       [75582903194485200, 75512534450307435],\n",
       "       [75582903194485330, 75512534450307707],\n",
       "       [75582903194485481, 75512534450307707],\n",
       "       [75582903194485506, 75582971913961513],\n",
       "       [75582903194485507, 75582971913961542],\n",
       "       [75582903194485544, 75582971913961501],\n",
       "       [75582903194485666, 75582971913961503],\n",
       "       [75582903194485697, 75582971913961503],\n",
       "       [75582903194485720, 75512534450307957],\n",
       "       [75582903194485720, 75582971913961693],\n",
       "       [75582903194485753, 75582971913961503]], dtype=uint64)"
      ]
     },
     "execution_count": 4,
     "metadata": {},
     "output_type": "execute_result"
    }
   ],
   "source": [
    "edges = cg.read_chunk_edges([cg.get_chunk_id(layer=2,x=50,y=100,z=0)])\n",
    "edges = edges[\"between\"].get_pairs()\n",
    "edges"
   ]
  },
  {
   "cell_type": "code",
   "execution_count": 6,
   "metadata": {},
   "outputs": [
    {
     "data": {
      "text/plain": [
       "array([291635563662934657, 219704963218014230], dtype=uint64)"
      ]
     },
     "execution_count": 6,
     "metadata": {},
     "output_type": "execute_result"
    }
   ],
   "source": [
    "# cg.get_parents(np.unique(edges))\n",
    "cg.get_parents([75582903194484819, 75582903194485753])\n",
    "cg.get_parents([147640497232412675, 147640497232412673])\n",
    "# cg.get_parents([147640497232412673, 147710934696067076, 147640497232412683,\n",
    "#  147640565951889409])"
   ]
  },
  {
   "cell_type": "code",
   "execution_count": 7,
   "metadata": {},
   "outputs": [
    {
     "name": "stdout",
     "output_type": "stream",
     "text": [
      "3\n",
      "[147640497232412673 147710934696067076 147640497232412683\n",
      " 147640565951889409]\n"
     ]
    }
   ],
   "source": [
    "print(cg.get_chunk_layer(219704963218014230))\n",
    "print(cg.get_children(219704963218014230))\n",
    "# print(cg.get_chunk_coordinates(223237144322244610))"
   ]
  },
  {
   "cell_type": "code",
   "execution_count": 3,
   "metadata": {},
   "outputs": [
    {
     "name": "stdout",
     "output_type": "stream",
     "text": [
      "223237144322244608\n",
      "219704963218014208\n",
      "223237144322244608\n",
      "223237144322244608\n"
     ]
    }
   ],
   "source": [
    "print(cg.get_chunk_id(223237144322244626))\n",
    "print(cg.get_chunk_id(219704963218014230))\n",
    "print(cg.get_parent_chunk_id(147640497232412673, 3))\n",
    "print(cg.get_parent_chunk_id(147640497232412683, 3))"
   ]
  },
  {
   "cell_type": "code",
   "execution_count": 3,
   "metadata": {},
   "outputs": [
    {
     "name": "stdout",
     "output_type": "stream",
     "text": [
      "bounding_chunk_ids [151165806388969472 151165806456078336 151165875108446208\n",
      " 151165875175555072 151236175133147136 151236175200256000\n",
      " 151236243852623872 151236243919732736]\n",
      "node_id, children 223237144322244630 [147640497232412715 147640497232412673 147640497232412683]\n",
      "\n",
      "children_chunk_ids [147640497232412672 147640497232412672 147640497232412672]\n"
     ]
    },
    {
     "ename": "ValueError",
     "evalue": "Coordinate is out of range             layer: 12 bits/dim 1.             [50, 100, 0]; max = 2.",
     "output_type": "error",
     "traceback": [
      "\u001b[0;31m---------------------------------------------------------------------------\u001b[0m",
      "\u001b[0;31mValueError\u001b[0m                                Traceback (most recent call last)",
      "\u001b[0;32m<ipython-input-3-301a9c7d550a>\u001b[0m in \u001b[0;36m<module>\u001b[0;34m\u001b[0m\n\u001b[1;32m      1\u001b[0m \u001b[0;32mfrom\u001b[0m \u001b[0mpychunkedgraph\u001b[0m\u001b[0;34m.\u001b[0m\u001b[0mgraph\u001b[0m\u001b[0;34m.\u001b[0m\u001b[0medits_v2\u001b[0m \u001b[0;32mimport\u001b[0m \u001b[0madd_edge_v2\u001b[0m\u001b[0;34m\u001b[0m\u001b[0;34m\u001b[0m\u001b[0m\n\u001b[0;32m----> 2\u001b[0;31m \u001b[0madd_edge_v2\u001b[0m\u001b[0;34m(\u001b[0m\u001b[0mcg\u001b[0m\u001b[0;34m,\u001b[0m \u001b[0medge\u001b[0m\u001b[0;34m=\u001b[0m\u001b[0;34m[\u001b[0m\u001b[0;36m75582903194484819\u001b[0m\u001b[0;34m,\u001b[0m \u001b[0;36m75582903194485753\u001b[0m\u001b[0;34m]\u001b[0m\u001b[0;34m)\u001b[0m\u001b[0;34m\u001b[0m\u001b[0;34m\u001b[0m\u001b[0m\n\u001b[0m",
      "\u001b[0;32m/workspaces/pcg/pychunkedgraph/graph/edits_v2.py\u001b[0m in \u001b[0;36madd_edge_v2\u001b[0;34m(cg, edge, operation_id, source_coords, sink_coords, timestamp)\u001b[0m\n\u001b[1;32m    158\u001b[0m \u001b[0;34m\u001b[0m\u001b[0m\n\u001b[1;32m    159\u001b[0m     return _create_parents(\n\u001b[0;32m--> 160\u001b[0;31m         \u001b[0mcg\u001b[0m\u001b[0;34m,\u001b[0m \u001b[0mnew_cross_edges_d_d\u001b[0m\u001b[0;34m.\u001b[0m\u001b[0mcopy\u001b[0m\u001b[0;34m(\u001b[0m\u001b[0;34m)\u001b[0m\u001b[0;34m,\u001b[0m \u001b[0moperation_id\u001b[0m\u001b[0;34m=\u001b[0m\u001b[0moperation_id\u001b[0m\u001b[0;34m,\u001b[0m \u001b[0mtime_stamp\u001b[0m\u001b[0;34m=\u001b[0m\u001b[0mtimestamp\u001b[0m\u001b[0;34m,\u001b[0m\u001b[0;34m\u001b[0m\u001b[0;34m\u001b[0m\u001b[0m\n\u001b[0m\u001b[1;32m    161\u001b[0m     )\n",
      "\u001b[0;32m/workspaces/pcg/pychunkedgraph/graph/edits_v2.py\u001b[0m in \u001b[0;36m_create_parents\u001b[0;34m(cg, new_cross_edges_d_d, operation_id, time_stamp)\u001b[0m\n\u001b[1;32m     73\u001b[0m             \u001b[0mnew_id_ce_layer\u001b[0m \u001b[0;34m=\u001b[0m \u001b[0mlist\u001b[0m\u001b[0;34m(\u001b[0m\u001b[0mnew_id_ce_d\u001b[0m\u001b[0;34m.\u001b[0m\u001b[0mkeys\u001b[0m\u001b[0;34m(\u001b[0m\u001b[0;34m)\u001b[0m\u001b[0;34m)\u001b[0m\u001b[0;34m[\u001b[0m\u001b[0;36m0\u001b[0m\u001b[0;34m]\u001b[0m\u001b[0;34m\u001b[0m\u001b[0;34m\u001b[0m\u001b[0m\n\u001b[1;32m     74\u001b[0m             \u001b[0;32mif\u001b[0m \u001b[0;32mnot\u001b[0m \u001b[0mnew_id_ce_layer\u001b[0m \u001b[0;34m==\u001b[0m \u001b[0mcurrent_layer\u001b[0m\u001b[0;34m:\u001b[0m\u001b[0;34m\u001b[0m\u001b[0;34m\u001b[0m\u001b[0m\n\u001b[0;32m---> 75\u001b[0;31m                 \u001b[0mnew_parent_node\u001b[0m \u001b[0;34m=\u001b[0m \u001b[0m_create_parent_node\u001b[0m\u001b[0;34m(\u001b[0m\u001b[0mcg\u001b[0m\u001b[0;34m,\u001b[0m \u001b[0mnew_node\u001b[0m\u001b[0;34m,\u001b[0m \u001b[0mnew_id_ce_layer\u001b[0m\u001b[0;34m)\u001b[0m\u001b[0;34m\u001b[0m\u001b[0;34m\u001b[0m\u001b[0m\n\u001b[0m\u001b[1;32m     76\u001b[0m                 \u001b[0mnew_parent_node\u001b[0m\u001b[0;34m.\u001b[0m\u001b[0mchildren\u001b[0m \u001b[0;34m=\u001b[0m \u001b[0mnp\u001b[0m\u001b[0;34m.\u001b[0m\u001b[0marray\u001b[0m\u001b[0;34m(\u001b[0m\u001b[0;34m[\u001b[0m\u001b[0mnew_id\u001b[0m\u001b[0;34m]\u001b[0m\u001b[0;34m,\u001b[0m \u001b[0mdtype\u001b[0m\u001b[0;34m=\u001b[0m\u001b[0mbasetypes\u001b[0m\u001b[0;34m.\u001b[0m\u001b[0mNODE_ID\u001b[0m\u001b[0;34m)\u001b[0m\u001b[0;34m\u001b[0m\u001b[0;34m\u001b[0m\u001b[0m\n\u001b[1;32m     77\u001b[0m                 \u001b[0mlayer_new_ids_d\u001b[0m\u001b[0;34m[\u001b[0m\u001b[0mnew_id_ce_layer\u001b[0m\u001b[0;34m]\u001b[0m\u001b[0;34m.\u001b[0m\u001b[0mappend\u001b[0m\u001b[0;34m(\u001b[0m\u001b[0mnew_parent_node\u001b[0m\u001b[0;34m.\u001b[0m\u001b[0mnode_id\u001b[0m\u001b[0;34m)\u001b[0m\u001b[0;34m\u001b[0m\u001b[0;34m\u001b[0m\u001b[0m\n",
      "\u001b[0;32m/workspaces/pcg/pychunkedgraph/graph/edits_v2.py\u001b[0m in \u001b[0;36m_create_parent_node\u001b[0;34m(cg, new_node, parent_layer)\u001b[0m\n\u001b[1;32m     33\u001b[0m \u001b[0;32mdef\u001b[0m \u001b[0m_create_parent_node\u001b[0m\u001b[0;34m(\u001b[0m\u001b[0mcg\u001b[0m\u001b[0;34m,\u001b[0m \u001b[0mnew_node\u001b[0m\u001b[0;34m:\u001b[0m \u001b[0mNode\u001b[0m\u001b[0;34m,\u001b[0m \u001b[0mparent_layer\u001b[0m\u001b[0;34m:\u001b[0m \u001b[0mint\u001b[0m \u001b[0;34m=\u001b[0m \u001b[0;32mNone\u001b[0m\u001b[0;34m)\u001b[0m \u001b[0;34m->\u001b[0m \u001b[0mNode\u001b[0m\u001b[0;34m:\u001b[0m\u001b[0;34m\u001b[0m\u001b[0;34m\u001b[0m\u001b[0m\n\u001b[1;32m     34\u001b[0m     \u001b[0mnew_id\u001b[0m \u001b[0;34m=\u001b[0m \u001b[0mnew_node\u001b[0m\u001b[0;34m.\u001b[0m\u001b[0mnode_id\u001b[0m\u001b[0;34m\u001b[0m\u001b[0;34m\u001b[0m\u001b[0m\n\u001b[0;32m---> 35\u001b[0;31m     \u001b[0mparent_chunk_id\u001b[0m \u001b[0;34m=\u001b[0m \u001b[0mcg\u001b[0m\u001b[0;34m.\u001b[0m\u001b[0mget_parent_chunk_id\u001b[0m\u001b[0;34m(\u001b[0m\u001b[0mnew_id\u001b[0m\u001b[0;34m,\u001b[0m \u001b[0mparent_layer\u001b[0m\u001b[0;34m)\u001b[0m\u001b[0;34m\u001b[0m\u001b[0;34m\u001b[0m\u001b[0m\n\u001b[0m\u001b[1;32m     36\u001b[0m     \u001b[0mnew_parent_seg_id\u001b[0m \u001b[0;34m=\u001b[0m \u001b[0mcg\u001b[0m\u001b[0;34m.\u001b[0m\u001b[0mid_client\u001b[0m\u001b[0;34m.\u001b[0m\u001b[0mcreate_segment_id\u001b[0m\u001b[0;34m(\u001b[0m\u001b[0mparent_chunk_id\u001b[0m\u001b[0;34m)\u001b[0m\u001b[0;34m\u001b[0m\u001b[0;34m\u001b[0m\u001b[0m\n\u001b[1;32m     37\u001b[0m     \u001b[0mnew_parent_id\u001b[0m \u001b[0;34m=\u001b[0m \u001b[0mparent_chunk_id\u001b[0m \u001b[0;34m|\u001b[0m \u001b[0mnew_parent_seg_id\u001b[0m\u001b[0;34m\u001b[0m\u001b[0;34m\u001b[0m\u001b[0m\n",
      "\u001b[0;32m/workspaces/pcg/pychunkedgraph/graph/chunkedgraph.py\u001b[0m in \u001b[0;36mget_parent_chunk_id\u001b[0;34m(self, node_or_chunk_id, parent_layer)\u001b[0m\n\u001b[1;32m   1124\u001b[0m     ):\n\u001b[1;32m   1125\u001b[0m         return chunk_hierarchy.get_parent_chunk_id(\n\u001b[0;32m-> 1126\u001b[0;31m             \u001b[0mself\u001b[0m\u001b[0;34m.\u001b[0m\u001b[0mmeta\u001b[0m\u001b[0;34m,\u001b[0m \u001b[0mnode_or_chunk_id\u001b[0m\u001b[0;34m,\u001b[0m \u001b[0mparent_layer\u001b[0m\u001b[0;34m\u001b[0m\u001b[0;34m\u001b[0m\u001b[0m\n\u001b[0m\u001b[1;32m   1127\u001b[0m         )\n\u001b[1;32m   1128\u001b[0m \u001b[0;34m\u001b[0m\u001b[0m\n",
      "\u001b[0;32m/workspaces/pcg/pychunkedgraph/graph/chunks/hierarchy.py\u001b[0m in \u001b[0;36mget_parent_chunk_id\u001b[0;34m(meta, node_or_chunk_id, parent_layer)\u001b[0m\n\u001b[1;32m     56\u001b[0m     \u001b[0;34m\"\"\"Creates list of chunk parent ids (upto highest layer).\"\"\"\u001b[0m\u001b[0;34m\u001b[0m\u001b[0;34m\u001b[0m\u001b[0m\n\u001b[1;32m     57\u001b[0m     \u001b[0mx\u001b[0m\u001b[0;34m,\u001b[0m \u001b[0my\u001b[0m\u001b[0;34m,\u001b[0m \u001b[0mz\u001b[0m \u001b[0;34m=\u001b[0m \u001b[0mutils\u001b[0m\u001b[0;34m.\u001b[0m\u001b[0mget_chunk_coordinates\u001b[0m\u001b[0;34m(\u001b[0m\u001b[0mmeta\u001b[0m\u001b[0;34m,\u001b[0m \u001b[0mnode_or_chunk_id\u001b[0m\u001b[0;34m)\u001b[0m\u001b[0;34m\u001b[0m\u001b[0;34m\u001b[0m\u001b[0m\n\u001b[0;32m---> 58\u001b[0;31m     \u001b[0;32mreturn\u001b[0m \u001b[0mutils\u001b[0m\u001b[0;34m.\u001b[0m\u001b[0mget_chunk_id\u001b[0m\u001b[0;34m(\u001b[0m\u001b[0mmeta\u001b[0m\u001b[0;34m,\u001b[0m \u001b[0mlayer\u001b[0m\u001b[0;34m=\u001b[0m\u001b[0mparent_layer\u001b[0m\u001b[0;34m,\u001b[0m \u001b[0mx\u001b[0m\u001b[0;34m=\u001b[0m\u001b[0mx\u001b[0m\u001b[0;34m,\u001b[0m \u001b[0my\u001b[0m\u001b[0;34m=\u001b[0m\u001b[0my\u001b[0m\u001b[0;34m,\u001b[0m \u001b[0mz\u001b[0m\u001b[0;34m=\u001b[0m\u001b[0mz\u001b[0m\u001b[0;34m)\u001b[0m\u001b[0;34m\u001b[0m\u001b[0;34m\u001b[0m\u001b[0m\n\u001b[0m\u001b[1;32m     59\u001b[0m \u001b[0;34m\u001b[0m\u001b[0m\n\u001b[1;32m     60\u001b[0m \u001b[0;34m\u001b[0m\u001b[0m\n",
      "\u001b[0;32m/workspaces/pcg/pychunkedgraph/graph/chunks/utils.py\u001b[0m in \u001b[0;36mget_chunk_id\u001b[0;34m(meta, node_id, layer, x, y, z)\u001b[0m\n\u001b[1;32m     97\u001b[0m         \u001b[0mchunk_offset\u001b[0m \u001b[0;34m=\u001b[0m \u001b[0;36m64\u001b[0m \u001b[0;34m-\u001b[0m \u001b[0mmeta\u001b[0m\u001b[0;34m.\u001b[0m\u001b[0mgraph_config\u001b[0m\u001b[0;34m.\u001b[0m\u001b[0mLAYER_ID_BITS\u001b[0m \u001b[0;34m-\u001b[0m \u001b[0;36m3\u001b[0m \u001b[0;34m*\u001b[0m \u001b[0mbits_per_dim\u001b[0m\u001b[0;34m\u001b[0m\u001b[0;34m\u001b[0m\u001b[0m\n\u001b[1;32m     98\u001b[0m         \u001b[0;32mreturn\u001b[0m \u001b[0mnp\u001b[0m\u001b[0;34m.\u001b[0m\u001b[0muint64\u001b[0m\u001b[0;34m(\u001b[0m\u001b[0;34m(\u001b[0m\u001b[0mint\u001b[0m\u001b[0;34m(\u001b[0m\u001b[0mnode_id\u001b[0m\u001b[0;34m)\u001b[0m \u001b[0;34m>>\u001b[0m \u001b[0mchunk_offset\u001b[0m\u001b[0;34m)\u001b[0m \u001b[0;34m<<\u001b[0m \u001b[0mchunk_offset\u001b[0m\u001b[0;34m)\u001b[0m\u001b[0;34m\u001b[0m\u001b[0;34m\u001b[0m\u001b[0m\n\u001b[0;32m---> 99\u001b[0;31m     \u001b[0;32mreturn\u001b[0m \u001b[0m_compute_chunk_id\u001b[0m\u001b[0;34m(\u001b[0m\u001b[0mmeta\u001b[0m\u001b[0;34m,\u001b[0m \u001b[0mlayer\u001b[0m\u001b[0;34m,\u001b[0m \u001b[0mx\u001b[0m\u001b[0;34m,\u001b[0m \u001b[0my\u001b[0m\u001b[0;34m,\u001b[0m \u001b[0mz\u001b[0m\u001b[0;34m)\u001b[0m\u001b[0;34m\u001b[0m\u001b[0;34m\u001b[0m\u001b[0m\n\u001b[0m\u001b[1;32m    100\u001b[0m \u001b[0;34m\u001b[0m\u001b[0m\n\u001b[1;32m    101\u001b[0m \u001b[0;34m\u001b[0m\u001b[0m\n",
      "\u001b[0;32m/workspaces/pcg/pychunkedgraph/graph/chunks/utils.py\u001b[0m in \u001b[0;36m_compute_chunk_id\u001b[0;34m(meta, layer, x, y, z)\u001b[0m\n\u001b[1;32m    119\u001b[0m             \u001b[0mf\u001b[0m\u001b[0;31m\"\u001b[0m\u001b[0mCoordinate\u001b[0m \u001b[0;32mis\u001b[0m \u001b[0mout\u001b[0m \u001b[0mof\u001b[0m \u001b[0mrange\u001b[0m\u001b[0;31m \u001b[0m\u001b[0;31m\\\u001b[0m\u001b[0;34m\u001b[0m\u001b[0;34m\u001b[0m\u001b[0m\n\u001b[1;32m    120\u001b[0m             \u001b[0mlayer\u001b[0m\u001b[0;34m:\u001b[0m \u001b[0;34m{\u001b[0m\u001b[0mlayer\u001b[0m\u001b[0;34m}\u001b[0m \u001b[0mbits\u001b[0m\u001b[0;34m/\u001b[0m\u001b[0mdim\u001b[0m \u001b[0;34m{\u001b[0m\u001b[0ms_bits_per_dim\u001b[0m\u001b[0;34m}\u001b[0m\u001b[0;34m.\u001b[0m\u001b[0;31m \u001b[0m\u001b[0;31m\\\u001b[0m\u001b[0;34m\u001b[0m\u001b[0;34m\u001b[0m\u001b[0m\n\u001b[0;32m--> 121\u001b[0;31m             \u001b[0;34m[\u001b[0m\u001b[0;34m{\u001b[0m\u001b[0mx\u001b[0m\u001b[0;34m}\u001b[0m\u001b[0;34m,\u001b[0m \u001b[0;34m{\u001b[0m\u001b[0my\u001b[0m\u001b[0;34m}\u001b[0m\u001b[0;34m,\u001b[0m \u001b[0;34m{\u001b[0m\u001b[0mz\u001b[0m\u001b[0;34m}\u001b[0m\u001b[0;34m]\u001b[0m\u001b[0;34m;\u001b[0m \u001b[0mmax\u001b[0m \u001b[0;34m=\u001b[0m \u001b[0;34m{\u001b[0m\u001b[0;36m2\u001b[0m \u001b[0;34m**\u001b[0m \u001b[0ms_bits_per_dim\u001b[0m\u001b[0;34m}\u001b[0m\u001b[0;34m.\u001b[0m\u001b[0;31m\"\u001b[0m\u001b[0;34m\u001b[0m\u001b[0;34m\u001b[0m\u001b[0m\n\u001b[0m\u001b[1;32m    122\u001b[0m         )\n\u001b[1;32m    123\u001b[0m     \u001b[0mlayer_offset\u001b[0m \u001b[0;34m=\u001b[0m \u001b[0;36m64\u001b[0m \u001b[0;34m-\u001b[0m \u001b[0mn_bits_layer_id\u001b[0m\u001b[0;34m\u001b[0m\u001b[0;34m\u001b[0m\u001b[0m\n",
      "\u001b[0;31mValueError\u001b[0m: Coordinate is out of range             layer: 12 bits/dim 1.             [50, 100, 0]; max = 2."
     ]
    }
   ],
   "source": [
    "from pychunkedgraph.graph.edits_v2 import add_edge_v2\n",
    "add_edge_v2(cg, edge=[75582903194484819, 75582903194485753])"
   ]
  }
 ],
 "metadata": {
  "kernelspec": {
   "display_name": "Python 3",
   "language": "python",
   "name": "python3"
  },
  "language_info": {
   "codemirror_mode": {
    "name": "ipython",
    "version": 3
   },
   "file_extension": ".py",
   "mimetype": "text/x-python",
   "name": "python",
   "nbconvert_exporter": "python",
   "pygments_lexer": "ipython3",
   "version": "3.7.4"
  }
 },
 "nbformat": 4,
 "nbformat_minor": 2
}

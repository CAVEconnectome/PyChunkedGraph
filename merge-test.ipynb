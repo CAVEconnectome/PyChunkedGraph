{
 "cells": [
  {
   "cell_type": "code",
   "execution_count": 1,
   "metadata": {},
   "outputs": [],
   "source": [
    "import numpy as np\n",
    "from pychunkedgraph.graph import ChunkedGraph, ChunkedGraphMeta\n",
    "from pychunkedgraph.graph.meta import ChunkedGraphMeta, GraphConfig, DataSource\n",
    "\n",
    "ds = DataSource(\n",
    "  EDGES= \"gs://chunkedgraph/minnie65_0/edges\",\n",
    "  COMPONENTS= \"gs://chunkedgraph/minnie65_0/components\",\n",
    "  WATERSHED= \"gs://microns-seunglab/minnie65/ws_minnie65_0\"\n",
    ")\n",
    "gc = GraphConfig(\n",
    "  CHUNK_SIZE= [256, 256, 512]\n",
    ")\n",
    "cg = ChunkedGraph(graph_id=\"akhilesh-minnie65-1\")"
   ]
  },
  {
   "cell_type": "code",
   "execution_count": 2,
   "metadata": {},
   "outputs": [
    {
     "name": "stdout",
     "output_type": "stream",
     "text": [
      "{864691138338302132: 75582971913961693, 864691137629078617: 75512534450307707, 864691137995403800: 75582903194484819, 864691137995404568: 75582834475009044, 864691138741942725: 75582971913961542, 864691137995404824: 75582903194484963, 864691136334203586: 75582971913961503}\n"
     ]
    }
   ],
   "source": [
    "edges = cg.read_chunk_edges([cg.get_chunk_id(layer=2,x=50,y=100,z=0)])\n",
    "edges = edges[\"between\"].get_pairs()\n",
    "nodes = np.unique(edges)\n",
    "parents = cg.get_roots(nodes)\n",
    "d = dict(zip(parents, nodes))\n",
    "print(d)"
   ]
  },
  {
   "cell_type": "code",
   "execution_count": 3,
   "metadata": {},
   "outputs": [
    {
     "name": "stdout",
     "output_type": "stream",
     "text": [
      "[8]\n",
      "[864691139327226349 864691139527061485]\n"
     ]
    }
   ],
   "source": [
    "# edges = np.array([[94803535283198313, 94803466563722624]],dtype=np.uint64)\n",
    "# between\n",
    "edges = np.array([[94524946524577880, 94595315268752176]],dtype=np.uint64)\n",
    "\n",
    "print(cg.get_cross_chunk_edges_layer(edges))\n",
    "print(cg.get_roots(edges[0]))"
   ]
  },
  {
   "cell_type": "code",
   "execution_count": 4,
   "metadata": {},
   "outputs": [],
   "source": [
    "# parents = np.uint64(edges[0][0])\n",
    "# while parents and parents.size:\n",
    "#     parents = cg.get_parent(parents)\n",
    "#     print(parents)"
   ]
  },
  {
   "cell_type": "code",
   "execution_count": 5,
   "metadata": {},
   "outputs": [
    {
     "name": "stdout",
     "output_type": "stream",
     "text": [
      "Start add_edge\n",
      "   Start get_parents edges\n",
      "   5.0067901611328125e-05\n",
      "\n",
      "2 166582540562336100 [166512171818156502]\n",
      "2 166582540562336100 [166512171818156502]\n",
      "238589352450461093 [166582540562334005 166512171818156502]\n",
      "\n",
      "2 166652909306513319 [166652840587035216 166723278050689566]\n",
      "2 166652909306513319 [166652840587035216 166723278050689566]\n",
      "238730089938816687 [166652840587035216 166723278050689566 166652909306511714]\n",
      "Cannot find root id 238589352450461093, 7, 2020-02-13 20:59:02.005000+00:00\n",
      "\n",
      "3 238730089938816687 [238870827427170695]\n",
      "3 238730089938816687 [238870827427170695]\n",
      "310826448204086209 [238730089938813250 238870827427170695]\n",
      "\n",
      "4 310826448204086209 [311107923180792595]\n",
      "4 310826448204086209 [311107923180792595]\n",
      "382959934314213207 [311107923180792595 310826448204081777]\n",
      "\n",
      "5 382959934314213207 [383522884267609136]\n",
      "5 382959934314213207 [383522884267609136]\n",
      "455162629527435266 [383522884267609136 382959934314207198]\n",
      "Cannot find root id 455162629527435266, 7, 2020-02-13 20:59:06.351000+00:00\n",
      "Cannot find root id 525232306542977836, 12, 2020-02-13 20:59:08.492000+00:00\n",
      "\n",
      "7 527484106356843880 [527554475100710789]\n",
      "7 527484106356843880 [527554475100710789]\n",
      "600104650349470291 [527554475100710789 527484106355855747 527484106356774357]\n",
      "\n",
      "8 600104650349470291 [525232306542977836 595601050720271701]\n",
      "8 600104650349470291 [595601050722147344 595601050720271701]\n",
      "668784544669702322 [600104650348842218 595601050720271701 595601050722147344]\n",
      "Cannot find root id 668784544669702322, 12, 2020-02-13 20:59:13.752000+00:00\n",
      "   [864691128455135245, 864691128455135246]\n",
      "14.564874649047852\n"
     ]
    }
   ],
   "source": [
    "from pychunkedgraph.graph.edits import add_edges\n",
    "from pychunkedgraph.graph.utils.context_managers import TimeIt\n",
    "\n",
    "edges = np.array(edges, dtype=np.uint64)\n",
    "with TimeIt(\"add_edge\"):\n",
    "    print(add_edges(cg, atomic_edges=edges))"
   ]
  },
  {
   "cell_type": "code",
   "execution_count": 7,
   "metadata": {},
   "outputs": [
    {
     "data": {
      "text/plain": [
       "array([864691128455135245, 668784544668828344], dtype=uint64)"
      ]
     },
     "execution_count": 7,
     "metadata": {},
     "output_type": "execute_result"
    }
   ],
   "source": [
    "cg.get_parents(np.array([595601050722147344, 595601050720271701], dtype=np.uint64))"
   ]
  },
  {
   "cell_type": "code",
   "execution_count": 10,
   "metadata": {},
   "outputs": [
    {
     "data": {
      "text/plain": [
       "False"
      ]
     },
     "execution_count": 10,
     "metadata": {},
     "output_type": "execute_result"
    }
   ],
   "source": [
    "595601050720271701 in cg.node_cache"
   ]
  },
  {
   "cell_type": "code",
   "execution_count": 14,
   "metadata": {},
   "outputs": [
    {
     "data": {
      "text/plain": [
       "668784544669702322"
      ]
     },
     "execution_count": 14,
     "metadata": {},
     "output_type": "execute_result"
    }
   ],
   "source": [
    "cg.get_parent(600104650349470291)"
   ]
  }
 ],
 "metadata": {
  "kernelspec": {
   "display_name": "Python 3",
   "language": "python",
   "name": "python3"
  },
  "language_info": {
   "codemirror_mode": {
    "name": "ipython",
    "version": 3
   },
   "file_extension": ".py",
   "mimetype": "text/x-python",
   "name": "python",
   "nbconvert_exporter": "python",
   "pygments_lexer": "ipython3",
   "version": "3.7.4"
  }
 },
 "nbformat": 4,
 "nbformat_minor": 2
}

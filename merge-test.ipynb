{
 "cells": [
  {
   "cell_type": "code",
   "execution_count": 1,
   "metadata": {},
   "outputs": [],
   "source": [
    "import numpy as np\n",
    "from pychunkedgraph.graph import ChunkedGraph, ChunkedGraphMeta\n",
    "from pychunkedgraph.graph.meta import ChunkedGraphMeta, GraphConfig, DataSource\n",
    "\n",
    "ds = DataSource(\n",
    "  EDGES= \"gs://chunkedgraph/minnie65_0/edges\",\n",
    "  COMPONENTS= \"gs://chunkedgraph/minnie65_0/components\",\n",
    "  WATERSHED= \"gs://microns-seunglab/minnie65/ws_minnie65_0\"\n",
    ")\n",
    "gc = GraphConfig(\n",
    "  CHUNK_SIZE= [256, 256, 512]\n",
    ")\n",
    "cg = ChunkedGraph(graph_id=\"akhilesh-minnie65-1\")"
   ]
  },
  {
   "cell_type": "code",
   "execution_count": 2,
   "metadata": {},
   "outputs": [
    {
     "name": "stdout",
     "output_type": "stream",
     "text": [
      "[8]\n",
      "[864691139327226349 864691139527061485]\n"
     ]
    }
   ],
   "source": [
    "# edges = np.array([[94803535283198313, 94803466563722624]],dtype=np.uint64)\n",
    "# between 8\n",
    "edges = np.array([[94524946524577880, 94595315268752176]],dtype=np.uint64)\n",
    "\n",
    "print(cg.get_cross_chunk_edges_layer(edges))\n",
    "print(cg.get_roots(edges[0]))"
   ]
  },
  {
   "cell_type": "code",
   "execution_count": 3,
   "metadata": {
    "scrolled": false
   },
   "outputs": [
    {
     "name": "stdout",
     "output_type": "stream",
     "text": [
      "Start add_edge\n",
      "   Start get_parents edges\n",
      "   3.1948089599609375e-05\n",
      "\n",
      " **************************************************\n",
      "2 [166582540562336125 166652909306513344]\n",
      "self._done set()\n",
      "new_id_ce_layer 2 166582540562336125 {2: array([[166582540562336125, 166512171818156502]], dtype=uint64)}\n",
      "before 2 166582540562336125 [166512171818156502]\n",
      "after 2 166582540562336125 [166512171818156502]\n",
      "238589352450461118 [166512171818156502 166582540562334005 166582540562336125]\n",
      "\n",
      "new_id_ce_layer 2 166652909306513344 {2: array([[166652909306513344, 166652840587035216],\n",
      "       [166652909306513344, 166723278050689566]], dtype=uint64)}\n",
      "before 2 166652909306513344 [166652840587035216 166723278050689566]\n",
      "after 2 166652909306513344 [166652840587035216 166723278050689566]\n",
      "238730089938816711 [166652840587035216 166652909306511714 166652909306513344\n",
      " 166723278050689566]\n",
      "\n",
      "\n",
      " **************************************************\n",
      "3 [238589352450461118 238730089938816711]\n",
      "self._done {166652909306513344, 166652909306511714, 166652840587035216, 166582540562334005, 166512171818156502, 166582540562336125, 166723278050689566}\n",
      "new_id_ce_layer 8 238589352450461118 {8: array([], shape=(0, 2), dtype=uint64)}\n",
      "new_id_ce_layer 8 238730089938816711 {8: array([], shape=(0, 2), dtype=uint64)}\n",
      "\n",
      " **************************************************\n",
      "8 [595601050722147359 600104650349470306]\n",
      "self._done {166652909306513344, 166652909306511714, 238589352450461118, 238730089938816711, 166652840587035216, 166582540562334005, 166512171818156502, 166582540562336125, 166723278050689566}\n",
      "new_id_ce_layer 12 595601050722147359 {12: array([], shape=(0, 2), dtype=uint64)}\n",
      "new_id_ce_layer 12 600104650349470306 {12: array([], shape=(0, 2), dtype=uint64)}\n",
      "   [864691128455135269, 864691128455135270]\n",
      "3.204989433288574\n"
     ]
    }
   ],
   "source": [
    "from pychunkedgraph.graph.edits import add_edges\n",
    "from pychunkedgraph.graph.utils.context_managers import TimeIt\n",
    "\n",
    "edges = np.array(edges, dtype=np.uint64)\n",
    "with TimeIt(\"add_edge\"):\n",
    "    print(add_edges(cg, atomic_edges=edges))"
   ]
  },
  {
   "cell_type": "code",
   "execution_count": 5,
   "metadata": {},
   "outputs": [
    {
     "data": {
      "text/plain": [
       "array([864691128455135269, 864691128455135270], dtype=uint64)"
      ]
     },
     "execution_count": 5,
     "metadata": {},
     "output_type": "execute_result"
    }
   ],
   "source": [
    "cg.get_parents(np.array([595601050722147359, 600104650349470306], dtype=np.uint64))"
   ]
  },
  {
   "cell_type": "code",
   "execution_count": 7,
   "metadata": {},
   "outputs": [
    {
     "data": {
      "text/plain": [
       "{595601050722147359: {12: array([], shape=(0, 2), dtype=uint64)}}"
      ]
     },
     "execution_count": 7,
     "metadata": {},
     "output_type": "execute_result"
    }
   ],
   "source": [
    "nodes = np.array([595601050722147359], dtype=np.uint64)\n",
    "cg.get_cross_chunk_edges(nodes)"
   ]
  },
  {
   "cell_type": "code",
   "execution_count": 9,
   "metadata": {},
   "outputs": [
    {
     "name": "stdout",
     "output_type": "stream",
     "text": [
      "[166512171818156502 166582540562334005 166582540562336125]\n"
     ]
    }
   ],
   "source": [
    "# 238730089938816710\n",
    "nodes = [166652840587035216, 166652909306511714, 166652909306513343, 166723278050689566]\n",
    "nodes = [238589352450461118]\n",
    "for node in nodes:\n",
    "    print(cg.get_children(node))"
   ]
  },
  {
   "cell_type": "code",
   "execution_count": 10,
   "metadata": {},
   "outputs": [
    {
     "name": "stdout",
     "output_type": "stream",
     "text": [
      "{166512171818156502: {12: array([], shape=(0, 2), dtype=uint64)}, 166582540562334005: {12: array([], shape=(0, 2), dtype=uint64)}, 166582540562336125: {2: array([[166582540562336125, 166512171818156502]], dtype=uint64)}}\n"
     ]
    }
   ],
   "source": [
    "nodes = np.array([166512171818156502, 166582540562334005, 166582540562336125], dtype=np.uint64)\n",
    "print(cg.get_cross_chunk_edges(nodes))"
   ]
  }
 ],
 "metadata": {
  "kernelspec": {
   "display_name": "Python 3",
   "language": "python",
   "name": "python3"
  },
  "language_info": {
   "codemirror_mode": {
    "name": "ipython",
    "version": 3
   },
   "file_extension": ".py",
   "mimetype": "text/x-python",
   "name": "python",
   "nbconvert_exporter": "python",
   "pygments_lexer": "ipython3",
   "version": "3.7.4"
  }
 },
 "nbformat": 4,
 "nbformat_minor": 2
}

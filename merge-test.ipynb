{
 "cells": [
  {
   "cell_type": "code",
   "execution_count": 1,
   "metadata": {},
   "outputs": [],
   "source": [
    "import numpy as np\n",
    "from pychunkedgraph.graph import ChunkedGraph, ChunkedGraphMeta\n",
    "from pychunkedgraph.graph.meta import ChunkedGraphMeta, GraphConfig, DataSource\n",
    "\n",
    "ds = DataSource(\n",
    "  EDGES= \"gs://chunkedgraph/minnie65_0/edges\",\n",
    "  COMPONENTS= \"gs://chunkedgraph/minnie65_0/components\",\n",
    "  WATERSHED= \"gs://microns-seunglab/minnie65/ws_minnie65_0\"\n",
    ")\n",
    "gc = GraphConfig(\n",
    "  CHUNK_SIZE= [256, 256, 512]\n",
    ")\n",
    "cg = ChunkedGraph(graph_id=\"akhilesh-minnie65-1\")"
   ]
  },
  {
   "cell_type": "code",
   "execution_count": 2,
   "metadata": {},
   "outputs": [
    {
     "name": "stdout",
     "output_type": "stream",
     "text": [
      "[8]\n",
      "[166582540562334005 166652909306511714]\n",
      "[864691139327226349 864691139527061485]\n"
     ]
    }
   ],
   "source": [
    "# edges = np.array([[94803535283198313, 94803466563722624]],dtype=np.uint64)\n",
    "# between 8\n",
    "edges = np.array([[94524946524577880, 94595315268752176]],dtype=np.uint64)\n",
    "\n",
    "print(cg.get_cross_chunk_edges_layer(edges))\n",
    "print(cg.get_parents(edges[0]))\n",
    "print(cg.get_roots(edges[0]))"
   ]
  },
  {
   "cell_type": "code",
   "execution_count": 3,
   "metadata": {
    "scrolled": false
   },
   "outputs": [
    {
     "name": "stdout",
     "output_type": "stream",
     "text": [
      "Start add_edge\n",
      "   Start get_parents edges\n",
      "   2.5510787963867188e-05\n",
      "\n",
      " **************************************************\n",
      "2 [166582540562336171 166652909306513390]\n",
      "ce_layer 166582540562336171 2\n",
      "before 2 [166512171818156502]\n",
      "after 2 [166512171818156502]\n",
      "238589352450461149 [166512171818156502 166582540562334005 166582540562336171]\n",
      "\n",
      "ce_layer 166652909306513390 2\n",
      "before 2 [166652840587035216 166723278050689566]\n",
      "after 2 [166652840587035216 166723278050689566]\n",
      "238730089938816740 [166652840587035216 166652909306511714 166652909306513390\n",
      " 166723278050689566]\n",
      "\n",
      "\n",
      " **************************************************\n",
      "3 [238589352450461149 238730089938816740]\n",
      "ce_layer 238589352450461149 7\n",
      "525232306542977855 [238589352450461149]\n",
      "\n",
      "ce_layer 238730089938816740 3\n",
      "before 3 [238870827427170695]\n",
      "after 3 [238870827427170695]\n",
      "310826448204086228 [238730089938813250 238730089938816740 238870827427170695]\n",
      "\n",
      "\n",
      " **************************************************\n",
      "4 [310826448204086228]\n",
      "ce_layer 310826448204086228 4\n",
      "before 4 [311107923180792595]\n",
      "after 4 [311107923180792595]\n",
      "382959934314213224 [310826448204081777 310826448204086228 311107923180792595]\n",
      "\n",
      "\n",
      " **************************************************\n",
      "5 [382959934314213224]\n",
      "ce_layer 382959934314213224 5\n",
      "before 5 [383522884267609136]\n",
      "after 5 [383522884267609136]\n",
      "455162629527435283 [382959934314207198 382959934314213224 383522884267609136]\n",
      "\n",
      "\n",
      " **************************************************\n",
      "6 [455162629527435283]\n",
      "ce_layer 455162629527435283 7\n",
      "527484106356843899 [455162629527435283]\n",
      "\n",
      "\n",
      " **************************************************\n",
      "7 [525232306542977855 527484106356843899]\n",
      "ce_layer 525232306542977855 12\n",
      "864691128455135309 [525232306542977855]\n",
      "\n",
      "ce_layer 527484106356843899 7\n",
      "before 7 [527554475100710789]\n",
      "after 7 [527554475100710789]\n",
      "600104650349470327 [527484106355855747 527484106356774357 527484106356843899\n",
      " 527554475100710789]\n",
      "\n",
      "\n",
      " **************************************************\n",
      "8 [600104650349470327]\n",
      "ce_layer 600104650349470327 8\n",
      "before 8 [525232306542977855 595601050720271701]\n",
      "new_sibling_id 525232306542977855 595601050722147374\n",
      "after 8 [595601050722147374 595601050720271701]\n",
      "668784544669702333 [595601050720271701 595601050722147374 600104650348842218\n",
      " 600104650349470327]\n",
      "\n",
      "\n",
      " **************************************************\n",
      "9 [668784544669702333]\n",
      "ce_layer 668784544669702333 12\n",
      "864691128455135310 [668784544669702333]\n",
      "\n",
      "9.695492029190063\n",
      "\n",
      "[864691128455135309, 864691128455135310]\n"
     ]
    }
   ],
   "source": [
    "from pychunkedgraph.graph.edits import add_edges\n",
    "from pychunkedgraph.graph.utils.context_managers import TimeIt\n",
    "\n",
    "edges = np.array(edges, dtype=np.uint64)\n",
    "with TimeIt(\"add_edge\"):\n",
    "    done, roots = add_edges(cg, atomic_edges=edges)\n",
    "    \n",
    "print()\n",
    "print(roots)"
   ]
  },
  {
   "cell_type": "code",
   "execution_count": 8,
   "metadata": {},
   "outputs": [
    {
     "data": {
      "text/plain": [
       "668784544669702333"
      ]
     },
     "execution_count": 8,
     "metadata": {},
     "output_type": "execute_result"
    }
   ],
   "source": [
    "# 595601050722147374 595601050720271701\n",
    "cg.get_parent(595601050722147374, cache_lookup=True)"
   ]
  },
  {
   "cell_type": "code",
   "execution_count": 9,
   "metadata": {},
   "outputs": [
    {
     "data": {
      "text/plain": [
       "668784544669702333"
      ]
     },
     "execution_count": 9,
     "metadata": {},
     "output_type": "execute_result"
    }
   ],
   "source": [
    "cg.get_parent(595601050720271701, cache_lookup=True)"
   ]
  },
  {
   "cell_type": "code",
   "execution_count": 10,
   "metadata": {},
   "outputs": [
    {
     "data": {
      "text/plain": [
       "array([595601050720271701, 595601050722147374, 600104650348842218,\n",
       "       600104650349470327], dtype=uint64)"
      ]
     },
     "execution_count": 10,
     "metadata": {},
     "output_type": "execute_result"
    }
   ],
   "source": [
    "cg.get_children(668784544669702333, cache_lookup=True)"
   ]
  },
  {
   "cell_type": "code",
   "execution_count": 4,
   "metadata": {},
   "outputs": [
    {
     "name": "stdout",
     "output_type": "stream",
     "text": [
      "166582540562336171\n",
      "238589352450461149\n",
      "True [166512171818156502 166582540562334005 166582540562336171]\n",
      "\n",
      "166652909306513390\n",
      "238730089938816740\n",
      "True [166652840587035216 166652909306511714 166652909306513390\n",
      " 166723278050689566]\n",
      "\n",
      "238589352450461149\n",
      "525232306542977855\n",
      "True [238589352450461149]\n",
      "\n",
      "238730089938816740\n",
      "310826448204086228\n",
      "True [238730089938813250 238730089938816740 238870827427170695]\n",
      "\n",
      "310826448204086228\n",
      "382959934314213224\n",
      "True [310826448204081777 310826448204086228 311107923180792595]\n",
      "\n",
      "382959934314213224\n",
      "455162629527435283\n",
      "True [382959934314207198 382959934314213224 383522884267609136]\n",
      "\n",
      "455162629527435283\n",
      "527484106356843899\n",
      "True [455162629527435283]\n",
      "\n",
      "525232306542977855\n",
      "595601050722147374\n",
      "True [525232306542977855]\n",
      "\n",
      "527484106356843899\n",
      "600104650349470327\n",
      "True [527484106355855747 527484106356774357 527484106356843899\n",
      " 527554475100710789]\n",
      "\n",
      "600104650349470327\n",
      "668784544669702333\n",
      "True [595601050720271701 595601050722147374 600104650348842218\n",
      " 600104650349470327]\n",
      "\n",
      "668784544669702333\n",
      "864691128455135310\n",
      "True [668784544669702333]\n",
      "\n"
     ]
    }
   ],
   "source": [
    "nodes = np.sort(np.array(list(done), dtype=np.uint64))\n",
    "for node in nodes:\n",
    "    print(node)\n",
    "    p = cg.get_parent(node, cache_lookup=True)\n",
    "    print(p)\n",
    "    c = cg.get_children(p, cache_lookup=True)\n",
    "    print(node in c ,c)\n",
    "    print()"
   ]
  },
  {
   "cell_type": "code",
   "execution_count": 5,
   "metadata": {},
   "outputs": [
    {
     "data": {
      "text/plain": [
       "array([], dtype=uint64)"
      ]
     },
     "execution_count": 5,
     "metadata": {},
     "output_type": "execute_result"
    }
   ],
   "source": [
    "cg.get_parent(668784544669702325, cache_lookup=True)\n",
    "cg.get_children(864691128455135294, cache_lookup=True)"
   ]
  },
  {
   "cell_type": "code",
   "execution_count": 6,
   "metadata": {},
   "outputs": [
    {
     "data": {
      "text/plain": [
       "{}"
      ]
     },
     "execution_count": 6,
     "metadata": {},
     "output_type": "execute_result"
    }
   ],
   "source": [
    "node = 310826448204086212\n",
    "children=cg.get_children(node)\n",
    "cg.get_children(children)"
   ]
  },
  {
   "cell_type": "code",
   "execution_count": 7,
   "metadata": {
    "scrolled": false
   },
   "outputs": [
    {
     "name": "stdout",
     "output_type": "stream",
     "text": [
      "{310826448204086212: array([], dtype=uint64)}\n"
     ]
    }
   ],
   "source": [
    "nodes = cg._get_bounding_l2_children([node])\n",
    "print(nodes)\n",
    "edges = cg.get_atomic_cross_edges(nodes[node])\n",
    "for k,v in edges.items():\n",
    "    print(k)\n",
    "    for a,b in v.items():\n",
    "        print(a, len(b))\n",
    "    print()"
   ]
  }
 ],
 "metadata": {
  "kernelspec": {
   "display_name": "Python 3",
   "language": "python",
   "name": "python3"
  },
  "language_info": {
   "codemirror_mode": {
    "name": "ipython",
    "version": 3
   },
   "file_extension": ".py",
   "mimetype": "text/x-python",
   "name": "python",
   "nbconvert_exporter": "python",
   "pygments_lexer": "ipython3",
   "version": "3.7.4"
  }
 },
 "nbformat": 4,
 "nbformat_minor": 2
}

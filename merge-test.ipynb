{
 "cells": [
  {
   "cell_type": "code",
   "execution_count": 1,
   "metadata": {},
   "outputs": [],
   "source": [
    "import numpy as np\n",
    "from pychunkedgraph.graph import ChunkedGraph, ChunkedGraphMeta\n",
    "from pychunkedgraph.graph.meta import ChunkedGraphMeta, GraphConfig, DataSource\n",
    "\n",
    "ds = DataSource(\n",
    "  EDGES= \"gs://chunkedgraph/minnie65_0/edges\",\n",
    "  COMPONENTS= \"gs://chunkedgraph/minnie65_0/components\",\n",
    "  WATERSHED= \"gs://microns-seunglab/minnie65/ws_minnie65_0\"\n",
    ")\n",
    "gc = GraphConfig(\n",
    "  CHUNK_SIZE= [256, 256, 512]\n",
    ")\n",
    "cg = ChunkedGraph(graph_id=\"akhilesh-minnie65-1\")"
   ]
  },
  {
   "cell_type": "code",
   "execution_count": 2,
   "metadata": {},
   "outputs": [
    {
     "data": {
      "text/plain": [
       "{}"
      ]
     },
     "execution_count": 2,
     "metadata": {},
     "output_type": "execute_result"
    }
   ],
   "source": [
    "cg.node_cache"
   ]
  },
  {
   "cell_type": "code",
   "execution_count": 8,
   "metadata": {},
   "outputs": [
    {
     "name": "stdout",
     "output_type": "stream",
     "text": [
      "[<Cell value=668784544668258860 timestamp=2019-11-04 23:05:04.874000+00:00>, <Cell value=668784544666950194 timestamp=2019-11-04 02:38:55.729000+00:00>]\n"
     ]
    },
    {
     "data": {
      "text/plain": [
       "668784544668258860"
      ]
     },
     "execution_count": 8,
     "metadata": {},
     "output_type": "execute_result"
    }
   ],
   "source": [
    "cg.get_parent(595601050719748126)"
   ]
  },
  {
   "cell_type": "code",
   "execution_count": 15,
   "metadata": {},
   "outputs": [
    {
     "data": {
      "text/plain": [
       "{_Attribute(key=b'counter', family_id='1', serializer=<pychunkedgraph.graph.utils.serializers.NumPyValue object at 0x7f76e5bf30d0>): [<Cell value=30 timestamp=2020-02-13 16:34:49.002000+00:00>,\n",
       "  <Cell value=29 timestamp=2020-02-13 16:34:38.686000+00:00>,\n",
       "  <Cell value=28 timestamp=2020-02-13 16:34:21.737000+00:00>,\n",
       "  <Cell value=27 timestamp=2020-02-13 16:31:56.053000+00:00>,\n",
       "  <Cell value=26 timestamp=2020-02-13 15:33:50.084000+00:00>,\n",
       "  <Cell value=25 timestamp=2020-02-13 15:32:01.845000+00:00>,\n",
       "  <Cell value=24 timestamp=2020-02-13 15:27:20.504000+00:00>,\n",
       "  <Cell value=23 timestamp=2020-02-13 15:27:20.465000+00:00>,\n",
       "  <Cell value=23 timestamp=2020-02-13 15:25:02.354000+00:00>,\n",
       "  <Cell value=22 timestamp=2020-02-13 15:14:15.090000+00:00>,\n",
       "  <Cell value=21 timestamp=2020-02-13 15:04:08.131000+00:00>,\n",
       "  <Cell value=20 timestamp=2020-02-13 15:02:00.637000+00:00>,\n",
       "  <Cell value=19 timestamp=2020-02-13 14:58:51.131000+00:00>,\n",
       "  <Cell value=18 timestamp=2020-02-13 14:56:45.886000+00:00>,\n",
       "  <Cell value=17 timestamp=2020-02-13 14:56:26.567000+00:00>,\n",
       "  <Cell value=16 timestamp=2020-02-13 04:13:08.212000+00:00>,\n",
       "  <Cell value=15 timestamp=2020-02-13 04:03:59.245000+00:00>,\n",
       "  <Cell value=14 timestamp=2020-02-13 04:02:40.603000+00:00>,\n",
       "  <Cell value=13 timestamp=2020-02-13 03:29:35.054000+00:00>,\n",
       "  <Cell value=12 timestamp=2020-02-13 03:25:03.585000+00:00>,\n",
       "  <Cell value=11 timestamp=2020-02-13 03:19:58.871000+00:00>,\n",
       "  <Cell value=10 timestamp=2020-02-13 03:18:37.349000+00:00>,\n",
       "  <Cell value=9 timestamp=2020-02-13 03:15:31.708000+00:00>,\n",
       "  <Cell value=8 timestamp=2020-02-13 03:14:26.139000+00:00>,\n",
       "  <Cell value=7 timestamp=2020-02-12 21:04:03.025000+00:00>,\n",
       "  <Cell value=6 timestamp=2020-02-04 20:52:40.211000+00:00>]}"
      ]
     },
     "execution_count": 15,
     "metadata": {},
     "output_type": "execute_result"
    }
   ],
   "source": [
    "cg.id_client.read_node(595601050719748096)"
   ]
  },
  {
   "cell_type": "code",
   "execution_count": 14,
   "metadata": {},
   "outputs": [
    {
     "data": {
      "text/plain": [
       "30"
      ]
     },
     "execution_count": 14,
     "metadata": {},
     "output_type": "execute_result"
    }
   ],
   "source": [
    "cg.get_segment_id(np.uint64(595601050719748126))"
   ]
  },
  {
   "cell_type": "code",
   "execution_count": 7,
   "metadata": {},
   "outputs": [
    {
     "name": "stdout",
     "output_type": "stream",
     "text": [
      "\n",
      "595601050719748126 595601050719748126\n"
     ]
    },
    {
     "data": {
      "text/plain": [
       "595601050719748126"
      ]
     },
     "execution_count": 7,
     "metadata": {},
     "output_type": "execute_result"
    }
   ],
   "source": [
    "cg.id_client.create_node_id(np.uint64(595601050719748096))"
   ]
  },
  {
   "cell_type": "code",
   "execution_count": 11,
   "metadata": {},
   "outputs": [
    {
     "name": "stdout",
     "output_type": "stream",
     "text": [
      "[<Cell value=668784544668258860 timestamp=2019-11-04 23:05:04.874000+00:00>, <Cell value=668784544666950194 timestamp=2019-11-04 02:38:55.729000+00:00>]\n",
      "[<Cell value=864691139344265709 timestamp=2019-11-07 21:19:58.970000+00:00>]\n"
     ]
    },
    {
     "data": {
      "text/plain": [
       "{9: 668784544668258860, 12: 864691139344265709}"
      ]
     },
     "execution_count": 11,
     "metadata": {},
     "output_type": "execute_result"
    }
   ],
   "source": [
    "cg.get_all_parents_dict(595601050719748126)"
   ]
  },
  {
   "cell_type": "code",
   "execution_count": 4,
   "metadata": {},
   "outputs": [
    {
     "name": "stdout",
     "output_type": "stream",
     "text": [
      "{864691138338302132: 75582971913961693, 864691137629078617: 75512534450307707, 864691137995403800: 75582903194484819, 864691137995404568: 75582834475009044, 864691138741942725: 75582971913961542, 864691137995404824: 75582903194484963, 864691136334203586: 75582971913961503}\n"
     ]
    }
   ],
   "source": [
    "edges = cg.read_chunk_edges([cg.get_chunk_id(layer=2,x=50,y=100,z=0)])\n",
    "edges = edges[\"between\"].get_pairs()\n",
    "nodes = np.unique(edges)\n",
    "parents = cg.get_roots(nodes)\n",
    "d = dict(zip(parents, nodes))\n",
    "print(d)"
   ]
  },
  {
   "cell_type": "code",
   "execution_count": 5,
   "metadata": {},
   "outputs": [
    {
     "name": "stdout",
     "output_type": "stream",
     "text": [
      "[8]\n",
      "[864691139327226349 864691139527061485]\n"
     ]
    }
   ],
   "source": [
    "# edges = np.array([[94803535283198313, 94803466563722624]],dtype=np.uint64)\n",
    "# between\n",
    "edges = np.array([[94524946524577880, 94595315268752176]],dtype=np.uint64)\n",
    "\n",
    "print(cg.get_cross_chunk_edges_layer(edges))\n",
    "print(cg.get_roots(edges[0]))"
   ]
  },
  {
   "cell_type": "code",
   "execution_count": 6,
   "metadata": {},
   "outputs": [],
   "source": [
    "# parents = np.uint64(edges[0][0])\n",
    "# while parents and parents.size:\n",
    "#     parents = cg.get_parent(parents)\n",
    "#     print(parents)"
   ]
  },
  {
   "cell_type": "code",
   "execution_count": 7,
   "metadata": {},
   "outputs": [
    {
     "name": "stdout",
     "output_type": "stream",
     "text": [
      "Start add_edge\n",
      "   Start get_parents edges\n",
      "   3.0279159545898438e-05\n",
      "\n",
      "166582540562333752 166582540562333752\n",
      "\n",
      "166652909306511416 166652909306511416\n",
      "\n",
      "238589352450457653 238589352450457653\n",
      "\n",
      "238730089938812979 238730089938812979\n",
      "Cannot find root id 238589352450457653, 7, 2020-02-13 16:31:44.426000+00:00\n",
      "\n",
      "525232306542084142 525232306542084142\n",
      "\n",
      "310826448204070958 310826448204070958\n",
      "\n",
      "382959934314119214 382959934314119214\n",
      "\n",
      "455162629527175214 455162629527175214\n",
      "Cannot find root id 455162629527175214, 7, 2020-02-13 16:31:49.256000+00:00\n",
      "\n",
      "527484106355769390 527484106355769390\n",
      "Cannot find root id 525232306542084142, 12, 2020-02-13 16:31:51.493000+00:00\n",
      "\n",
      "864691128455135381 864691128455135381\n",
      "\n",
      "600104650347118638 600104650347118638\n",
      "\n",
      "668784544664518702 668784544664518702\n",
      "\n",
      "595601050719748123 595601050719748123\n",
      "Cannot find root id 668784544664518702, 12, 2020-02-13 16:31:58.354000+00:00\n",
      "\n",
      "864691128455135382 864691128455135382\n",
      "   [864691128455135381, 864691128455135382]\n",
      "16.664423942565918\n"
     ]
    }
   ],
   "source": [
    "from pychunkedgraph.graph.edits import add_edges\n",
    "from pychunkedgraph.graph.utils.context_managers import TimeIt\n",
    "\n",
    "edges = np.array(edges, dtype=np.uint64)\n",
    "with TimeIt(\"add_edge\"):\n",
    "    print(add_edges(cg, atomic_edges=edges))"
   ]
  },
  {
   "cell_type": "code",
   "execution_count": 8,
   "metadata": {},
   "outputs": [
    {
     "name": "stdout",
     "output_type": "stream",
     "text": [
      "[<Cell value=595601050721427346 timestamp=2019-11-04 02:14:16.043000+00:00>, <Cell value=595601050720696680 timestamp=2019-11-04 00:15:57.627000+00:00>]\n"
     ]
    },
    {
     "data": {
      "text/plain": [
       "595601050721427346"
      ]
     },
     "execution_count": 8,
     "metadata": {},
     "output_type": "execute_result"
    }
   ],
   "source": [
    "cg.get_parent(525232306542084136)"
   ]
  },
  {
   "cell_type": "code",
   "execution_count": 9,
   "metadata": {},
   "outputs": [
    {
     "data": {
      "text/plain": [
       "525232306542084142"
      ]
     },
     "execution_count": 9,
     "metadata": {},
     "output_type": "execute_result"
    }
   ],
   "source": [
    "cg.id_client.get_max_node_id(cg.get_chunk_id(525232306542084136))"
   ]
  },
  {
   "cell_type": "code",
   "execution_count": 10,
   "metadata": {},
   "outputs": [
    {
     "data": {
      "text/plain": [
       "array([164399529414623584], dtype=uint64)"
      ]
     },
     "execution_count": 10,
     "metadata": {},
     "output_type": "execute_result"
    }
   ],
   "source": [
    "cg.get_children(525232306542084135)"
   ]
  }
 ],
 "metadata": {
  "kernelspec": {
   "display_name": "Python 3",
   "language": "python",
   "name": "python3"
  },
  "language_info": {
   "codemirror_mode": {
    "name": "ipython",
    "version": 3
   },
   "file_extension": ".py",
   "mimetype": "text/x-python",
   "name": "python",
   "nbconvert_exporter": "python",
   "pygments_lexer": "ipython3",
   "version": "3.7.4"
  }
 },
 "nbformat": 4,
 "nbformat_minor": 2
}

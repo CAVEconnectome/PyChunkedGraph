{
 "cells": [
  {
   "cell_type": "code",
   "execution_count": 1,
   "metadata": {},
   "outputs": [],
   "source": [
    "import numpy as np\n",
    "from pychunkedgraph.graph import ChunkedGraph, ChunkedGraphMeta\n",
    "from pychunkedgraph.graph.meta import ChunkedGraphMeta, GraphConfig, DataSource\n",
    "\n",
    "ds = DataSource(\n",
    "  EDGES= \"gs://chunkedgraph/minnie65_0/edges\",\n",
    "  COMPONENTS= \"gs://chunkedgraph/minnie65_0/components\",\n",
    "  WATERSHED= \"gs://microns-seunglab/minnie65/ws_minnie65_0\"\n",
    ")\n",
    "gc = GraphConfig(\n",
    "  CHUNK_SIZE= [256, 256, 512]\n",
    ")\n",
    "cg = ChunkedGraph(graph_id=\"akhilesh-minnie65-1\")"
   ]
  },
  {
   "cell_type": "code",
   "execution_count": 2,
   "metadata": {},
   "outputs": [
    {
     "name": "stdout",
     "output_type": "stream",
     "text": [
      "{864691138338302132: 75582971913961693, 864691137629078617: 75512534450307707, 864691137995403800: 75582903194484819, 864691137995404568: 75582834475009044, 864691138741942725: 75582971913961542, 864691137995404824: 75582903194484963, 864691136334203586: 75582971913961503}\n"
     ]
    }
   ],
   "source": [
    "edges = cg.read_chunk_edges([cg.get_chunk_id(layer=2,x=50,y=100,z=0)])\n",
    "edges = edges[\"between\"].get_pairs()\n",
    "nodes = np.unique(edges)\n",
    "parents = cg.get_roots(nodes)\n",
    "d = dict(zip(parents, nodes))\n",
    "print(d)"
   ]
  },
  {
   "cell_type": "code",
   "execution_count": 3,
   "metadata": {},
   "outputs": [
    {
     "name": "stdout",
     "output_type": "stream",
     "text": [
      "[1]\n",
      "[864691139630589421 864691133787377379]\n"
     ]
    }
   ],
   "source": [
    "edges = np.array([[95372463227012287, 95372463227012312]])\n",
    "print(cg.get_cross_chunk_edges_layer(edges))\n",
    "print(cg.get_roots(edges[0]))"
   ]
  },
  {
   "cell_type": "code",
   "execution_count": 4,
   "metadata": {},
   "outputs": [
    {
     "name": "stdout",
     "output_type": "stream",
     "text": [
      "167430057264939027\n",
      "239440097424965679\n",
      "311402583707100284\n",
      "383549238186954306\n",
      "455215406085692589\n",
      "600386125324760614\n",
      "668784544669452312\n",
      "864691139630589421\n",
      "None\n"
     ]
    }
   ],
   "source": [
    "parents = np.uint64(edges[0][0])\n",
    "while parents and parents.size:\n",
    "    parents = cg.get_parent(parents)\n",
    "    print(parents)"
   ]
  },
  {
   "cell_type": "code",
   "execution_count": 5,
   "metadata": {},
   "outputs": [
    {
     "name": "stdout",
     "output_type": "stream",
     "text": [
      "167430057264939029\n",
      "864691133787377379\n",
      "None\n"
     ]
    }
   ],
   "source": [
    "parents = np.uint64(edges[0][1])\n",
    "while parents and parents.size:\n",
    "    parents = cg.get_parent(parents)\n",
    "    print(parents)"
   ]
  },
  {
   "cell_type": "code",
   "execution_count": 6,
   "metadata": {
    "scrolled": false
   },
   "outputs": [
    {
     "name": "stdout",
     "output_type": "stream",
     "text": [
      "Start add_edge\n",
      "   Start get_parents edges\n",
      "   4.220008850097656e-05\n",
      "{167430057264939027: {2: array([[95372463227022388, 95302094482845948],\n",
      "       [95372463227022388, 95302094482843792],\n",
      "       [95372463227022383, 95302094482845950],\n",
      "       [95372463227022383, 95302094482845948],\n",
      "       [95372463227023310, 95302094482845948],\n",
      "       [95372463227023310, 95302094482844793],\n",
      "       [95372463227027495, 95302094482844793],\n",
      "       [95372463227027495, 95302094482845948],\n",
      "       [95372463227027495, 95302094482845950]], dtype=uint64)}, 167430057264939029: {}}\n",
      "Cannot find root id 455215406085308417, 8, 2020-02-06 16:23:49.260000+00:00\n",
      "Cannot find root id 600386125323829249, 12, 2020-02-06 16:23:51.622000+00:00\n",
      "   [864691128455135296]\n",
      "8.280265092849731\n"
     ]
    }
   ],
   "source": [
    "from pychunkedgraph.graph.edits import add_edges\n",
    "from pychunkedgraph.graph.utils.context_managers import TimeIt\n",
    "\n",
    "edges = np.array(edges, dtype=np.uint64)\n",
    "with TimeIt(\"add_edge\"):\n",
    "    print(add_edges(cg, atomic_edges=edges))"
   ]
  }
 ],
 "metadata": {
  "kernelspec": {
   "display_name": "Python 3",
   "language": "python",
   "name": "python3"
  },
  "language_info": {
   "codemirror_mode": {
    "name": "ipython",
    "version": 3
   },
   "file_extension": ".py",
   "mimetype": "text/x-python",
   "name": "python",
   "nbconvert_exporter": "python",
   "pygments_lexer": "ipython3",
   "version": "3.7.4"
  }
 },
 "nbformat": 4,
 "nbformat_minor": 2
}

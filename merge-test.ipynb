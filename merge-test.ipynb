{
 "cells": [
  {
   "cell_type": "code",
   "execution_count": 1,
   "metadata": {},
   "outputs": [],
   "source": [
    "import numpy as np\n",
    "from pychunkedgraph.graph import ChunkedGraph, ChunkedGraphMeta\n",
    "from pychunkedgraph.graph.meta import ChunkedGraphMeta, GraphConfig, DataSource\n",
    "\n",
    "ds = DataSource(\n",
    "  EDGES= \"gs://chunkedgraph/minnie65_0/edges\",\n",
    "  COMPONENTS= \"gs://chunkedgraph/minnie65_0/components\",\n",
    "  WATERSHED= \"gs://microns-seunglab/minnie65/ws_minnie65_0\"\n",
    ")\n",
    "gc = GraphConfig(\n",
    "  CHUNK_SIZE= [256, 256, 512]\n",
    ")\n",
    "cg = ChunkedGraph(graph_id=\"akhilesh-minnie65-1\")"
   ]
  },
  {
   "cell_type": "code",
   "execution_count": 2,
   "metadata": {},
   "outputs": [
    {
     "name": "stdout",
     "output_type": "stream",
     "text": [
      "{864691138338302132: 75582971913961693, 864691137629078617: 75512534450307707, 864691137995403800: 75582903194484819, 864691137995404568: 75582834475009044, 864691138741942725: 75582971913961542, 864691137995404824: 75582903194484963, 864691136334203586: 75582971913961503}\n"
     ]
    }
   ],
   "source": [
    "edges = cg.read_chunk_edges([cg.get_chunk_id(layer=2,x=50,y=100,z=0)])\n",
    "edges = edges[\"between\"].get_pairs()\n",
    "nodes = np.unique(edges)\n",
    "parents = cg.get_roots(nodes)\n",
    "d = dict(zip(parents, nodes))\n",
    "print(d)"
   ]
  },
  {
   "cell_type": "code",
   "execution_count": 3,
   "metadata": {},
   "outputs": [
    {
     "name": "stdout",
     "output_type": "stream",
     "text": [
      "[1]\n",
      "[147640565951889409 147640565951889410]\n"
     ]
    }
   ],
   "source": [
    "edges = [[75582971913961693, 75582971913961503]]\n",
    "print(cg.get_cross_chunk_edges_layer(edges))\n",
    "print(cg.get_parents(edges[0]))"
   ]
  },
  {
   "cell_type": "code",
   "execution_count": 4,
   "metadata": {},
   "outputs": [
    {
     "name": "stdout",
     "output_type": "stream",
     "text": [
      "147640565951889409\n",
      "219704963218014230\n",
      "291635563662936192\n",
      "363718446468361184\n",
      "435828817064694903\n",
      "506866064312035921\n",
      "576742227280767262\n",
      "864691138338302132\n",
      "None\n"
     ]
    }
   ],
   "source": [
    "parents = np.array(edges[0][0])\n",
    "while parents and parents.size:\n",
    "    parents = cg.get_parent(parents)\n",
    "    print(parents)"
   ]
  },
  {
   "cell_type": "code",
   "execution_count": 5,
   "metadata": {
    "scrolled": false
   },
   "outputs": [
    {
     "name": "stdout",
     "output_type": "stream",
     "text": [
      "2 [147640565951889438]\n",
      "node_l2ids_d.values() dict_values([array([147640565951889438, 147640497232412673, 147710934696067076,\n",
      "       147640497232412683, 147640565951889409, 147640565951889410,\n",
      "       147640497232412684], dtype=uint64)])\n",
      "add_edge 0.832636833190918\n"
     ]
    },
    {
     "ename": "TypeError",
     "evalue": "The first input argument needs to be a sequence",
     "output_type": "error",
     "traceback": [
      "\u001b[0;31m---------------------------------------------------------------------------\u001b[0m",
      "\u001b[0;31mTypeError\u001b[0m                                 Traceback (most recent call last)",
      "\u001b[0;32m<ipython-input-5-ca3b63d47a33>\u001b[0m in \u001b[0;36m<module>\u001b[0;34m\u001b[0m\n\u001b[1;32m      4\u001b[0m \u001b[0medges\u001b[0m \u001b[0;34m=\u001b[0m \u001b[0mnp\u001b[0m\u001b[0;34m.\u001b[0m\u001b[0marray\u001b[0m\u001b[0;34m(\u001b[0m\u001b[0medges\u001b[0m\u001b[0;34m,\u001b[0m \u001b[0mdtype\u001b[0m\u001b[0;34m=\u001b[0m\u001b[0mnp\u001b[0m\u001b[0;34m.\u001b[0m\u001b[0muint64\u001b[0m\u001b[0;34m)\u001b[0m\u001b[0;34m\u001b[0m\u001b[0;34m\u001b[0m\u001b[0m\n\u001b[1;32m      5\u001b[0m \u001b[0;32mwith\u001b[0m \u001b[0mTimeIt\u001b[0m\u001b[0;34m(\u001b[0m\u001b[0;34m\"add_edge\"\u001b[0m\u001b[0;34m)\u001b[0m\u001b[0;34m:\u001b[0m\u001b[0;34m\u001b[0m\u001b[0;34m\u001b[0m\u001b[0m\n\u001b[0;32m----> 6\u001b[0;31m     \u001b[0mprint\u001b[0m\u001b[0;34m(\u001b[0m\u001b[0madd_edges\u001b[0m\u001b[0;34m(\u001b[0m\u001b[0mcg\u001b[0m\u001b[0;34m,\u001b[0m \u001b[0matomic_edges\u001b[0m\u001b[0;34m=\u001b[0m\u001b[0medges\u001b[0m\u001b[0;34m)\u001b[0m\u001b[0;34m)\u001b[0m\u001b[0;34m\u001b[0m\u001b[0;34m\u001b[0m\u001b[0m\n\u001b[0m",
      "\u001b[0;32m/workspaces/sl-pychunkedgraph/pychunkedgraph/graph/edits.py\u001b[0m in \u001b[0;36madd_edges\u001b[0;34m(cg, atomic_edges, operation_id, source_coords, sink_coords, time_stamp)\u001b[0m\n\u001b[1;32m    169\u001b[0m         \u001b[0mnew_cross_edges_d_d\u001b[0m\u001b[0;34m.\u001b[0m\u001b[0mcopy\u001b[0m\u001b[0;34m(\u001b[0m\u001b[0;34m)\u001b[0m\u001b[0;34m,\u001b[0m\u001b[0;34m\u001b[0m\u001b[0;34m\u001b[0m\u001b[0m\n\u001b[1;32m    170\u001b[0m         \u001b[0moperation_id\u001b[0m\u001b[0;34m=\u001b[0m\u001b[0moperation_id\u001b[0m\u001b[0;34m,\u001b[0m\u001b[0;34m\u001b[0m\u001b[0;34m\u001b[0m\u001b[0m\n\u001b[0;32m--> 171\u001b[0;31m         \u001b[0mtime_stamp\u001b[0m\u001b[0;34m=\u001b[0m\u001b[0mtime_stamp\u001b[0m\u001b[0;34m,\u001b[0m\u001b[0;34m\u001b[0m\u001b[0;34m\u001b[0m\u001b[0m\n\u001b[0m\u001b[1;32m    172\u001b[0m     )\n\u001b[1;32m    173\u001b[0m \u001b[0;34m\u001b[0m\u001b[0m\n",
      "\u001b[0;32m/workspaces/sl-pychunkedgraph/pychunkedgraph/graph/edits.py\u001b[0m in \u001b[0;36m_create_parents\u001b[0;34m(cg, new_cross_edges_d_d, operation_id, time_stamp)\u001b[0m\n\u001b[1;32m     80\u001b[0m         new_cross_edges_d_d.update(\n\u001b[1;32m     81\u001b[0m             cg.get_cross_chunk_edges(\n\u001b[0;32m---> 82\u001b[0;31m                 \u001b[0mnew_ids\u001b[0m\u001b[0;34m[\u001b[0m\u001b[0;34m~\u001b[0m\u001b[0mnp\u001b[0m\u001b[0;34m.\u001b[0m\u001b[0min1d\u001b[0m\u001b[0;34m(\u001b[0m\u001b[0mnew_ids\u001b[0m\u001b[0;34m,\u001b[0m \u001b[0mnew_ids_\u001b[0m\u001b[0;34m)\u001b[0m\u001b[0;34m]\u001b[0m\u001b[0;34m,\u001b[0m \u001b[0mnodes_cache\u001b[0m\u001b[0;34m=\u001b[0m\u001b[0mnew_nodes_d\u001b[0m\u001b[0;34m\u001b[0m\u001b[0;34m\u001b[0m\u001b[0m\n\u001b[0m\u001b[1;32m     83\u001b[0m             )\n\u001b[1;32m     84\u001b[0m         )\n",
      "\u001b[0;32m/workspaces/sl-pychunkedgraph/pychunkedgraph/graph/chunkedgraph.py\u001b[0m in \u001b[0;36mget_cross_chunk_edges\u001b[0;34m(self, node_ids, nodes_cache)\u001b[0m\n\u001b[1;32m    285\u001b[0m         \u001b[0mnode_l2ids_d\u001b[0m \u001b[0;34m=\u001b[0m \u001b[0mself\u001b[0m\u001b[0;34m.\u001b[0m\u001b[0m_get_bounding_l2_children\u001b[0m\u001b[0;34m(\u001b[0m\u001b[0mnode_ids\u001b[0m\u001b[0;34m,\u001b[0m \u001b[0mcache\u001b[0m\u001b[0;34m=\u001b[0m\u001b[0mnodes_cache\u001b[0m\u001b[0;34m)\u001b[0m\u001b[0;34m\u001b[0m\u001b[0;34m\u001b[0m\u001b[0m\n\u001b[1;32m    286\u001b[0m         \u001b[0mprint\u001b[0m\u001b[0;34m(\u001b[0m\u001b[0;34m\"node_l2ids_d.values()\"\u001b[0m\u001b[0;34m,\u001b[0m \u001b[0mnode_l2ids_d\u001b[0m\u001b[0;34m.\u001b[0m\u001b[0mvalues\u001b[0m\u001b[0;34m(\u001b[0m\u001b[0;34m)\u001b[0m\u001b[0;34m)\u001b[0m\u001b[0;34m\u001b[0m\u001b[0;34m\u001b[0m\u001b[0m\n\u001b[0;32m--> 287\u001b[0;31m         \u001b[0mall_children\u001b[0m \u001b[0;34m=\u001b[0m \u001b[0mnp\u001b[0m\u001b[0;34m.\u001b[0m\u001b[0mconcatenate\u001b[0m\u001b[0;34m(\u001b[0m\u001b[0mnode_l2ids_d\u001b[0m\u001b[0;34m.\u001b[0m\u001b[0mvalues\u001b[0m\u001b[0;34m(\u001b[0m\u001b[0;34m)\u001b[0m\u001b[0;34m)\u001b[0m\u001b[0;34m\u001b[0m\u001b[0;34m\u001b[0m\u001b[0m\n\u001b[0m\u001b[1;32m    288\u001b[0m         \u001b[0ml2_edges_d_d\u001b[0m \u001b[0;34m=\u001b[0m \u001b[0mself\u001b[0m\u001b[0;34m.\u001b[0m\u001b[0mget_atomic_cross_edges\u001b[0m\u001b[0;34m(\u001b[0m\u001b[0mall_children\u001b[0m\u001b[0;34m)\u001b[0m\u001b[0;34m\u001b[0m\u001b[0;34m\u001b[0m\u001b[0m\n\u001b[1;32m    289\u001b[0m         \u001b[0;32mfor\u001b[0m \u001b[0mnode_id\u001b[0m \u001b[0;32min\u001b[0m \u001b[0mnode_ids\u001b[0m\u001b[0;34m:\u001b[0m\u001b[0;34m\u001b[0m\u001b[0;34m\u001b[0m\u001b[0m\n",
      "\u001b[0;32m<__array_function__ internals>\u001b[0m in \u001b[0;36mconcatenate\u001b[0;34m(*args, **kwargs)\u001b[0m\n",
      "\u001b[0;31mTypeError\u001b[0m: The first input argument needs to be a sequence"
     ]
    }
   ],
   "source": [
    "from pychunkedgraph.graph.edits import add_edges\n",
    "from pychunkedgraph.graph.utils.context_managers import TimeIt\n",
    "\n",
    "edges = np.array(edges, dtype=np.uint64)\n",
    "with TimeIt(\"add_edge\"):\n",
    "    print(add_edges(cg, atomic_edges=edges))"
   ]
  }
 ],
 "metadata": {
  "kernelspec": {
   "display_name": "Python 3",
   "language": "python",
   "name": "python3"
  },
  "language_info": {
   "codemirror_mode": {
    "name": "ipython",
    "version": 3
   },
   "file_extension": ".py",
   "mimetype": "text/x-python",
   "name": "python",
   "nbconvert_exporter": "python",
   "pygments_lexer": "ipython3",
   "version": "3.7.4"
  }
 },
 "nbformat": 4,
 "nbformat_minor": 2
}

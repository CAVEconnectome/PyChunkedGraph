{
 "cells": [
  {
   "cell_type": "code",
   "execution_count": null,
   "metadata": {},
   "outputs": [],
   "source": [
    "import numpy as np\n",
    "from pychunkedgraph.graph import ChunkedGraph, ChunkedGraphMeta\n",
    "from pychunkedgraph.graph.meta import ChunkedGraphMeta, GraphConfig, DataSource\n",
    "\n",
    "ds = DataSource(\n",
    "  EDGES= \"gs://chunkedgraph/minnie65_0/edges\",\n",
    "  COMPONENTS= \"gs://chunkedgraph/minnie65_0/components\",\n",
    "  WATERSHED= \"gs://microns-seunglab/minnie65/ws_minnie65_0\"\n",
    ")\n",
    "gc = GraphConfig(\n",
    "  CHUNK_SIZE= [256, 256, 512]\n",
    ")\n",
    "cg = ChunkedGraph(graph_id=\"akhilesh-minnie65-1\")"
   ]
  },
  {
   "cell_type": "code",
   "execution_count": null,
   "metadata": {},
   "outputs": [],
   "source": [
    "# edges = np.array([[94803535283198313, 94803466563722624]],dtype=np.uint64)\n",
    "# between 8\n",
    "edges = np.array([[94524946524577880, 94595315268752176]],dtype=np.uint64)\n",
    "\n",
    "print(cg.get_cross_chunk_edges_layer(edges))\n",
    "print(cg.get_parents(edges[0]))\n",
    "print(cg.get_roots(edges[0]))"
   ]
  },
  {
   "cell_type": "code",
   "execution_count": null,
   "metadata": {
    "scrolled": false
   },
   "outputs": [],
   "source": [
    "from pychunkedgraph.graph.edits import add_edges\n",
    "from pychunkedgraph.graph.utils.context_managers import TimeIt\n",
    "\n",
    "edges = np.array(edges, dtype=np.uint64)\n",
    "with TimeIt(\"add_edge\"):\n",
    "    done, roots = add_edges(cg, atomic_edges=edges)\n",
    "    \n",
    "print()\n",
    "print(roots)"
   ]
  },
  {
   "cell_type": "code",
   "execution_count": null,
   "metadata": {
    "scrolled": false
   },
   "outputs": [],
   "source": [
    "def dfs_print(cg, node, limit=2):\n",
    "    stack = [(node, 0)]\n",
    "    while stack:\n",
    "        node, indent = stack.pop()\n",
    "        print(\"    |\" * indent, node)\n",
    "        children = cg.get_children(node)\n",
    "        if cg.get_chunk_layer(children[0]) < limit:\n",
    "            continue\n",
    "        for c in children:\n",
    "            stack.append((c, indent+1))\n",
    "\n",
    "dfs_print(cg, 864691128455135328)"
   ]
  },
  {
   "cell_type": "code",
   "execution_count": null,
   "metadata": {},
   "outputs": [],
   "source": [
    "nodes = np.sort(np.array(list(done), dtype=np.uint64))\n",
    "for node in nodes:\n",
    "    print(node)\n",
    "    p = cg.get_parent(node)\n",
    "    print(p)\n",
    "    c = cg.get_children(p)\n",
    "    print(node in c ,c)\n",
    "    print()"
   ]
  },
  {
   "cell_type": "code",
   "execution_count": null,
   "metadata": {},
   "outputs": [],
   "source": [
    "node = 310826448204086212\n",
    "children=cg.get_children(node)\n",
    "cg.get_children(children)"
   ]
  },
  {
   "cell_type": "code",
   "execution_count": null,
   "metadata": {
    "scrolled": false
   },
   "outputs": [],
   "source": [
    "nodes = cg._get_bounding_l2_children([node])\n",
    "print(nodes)\n",
    "edges = cg.get_atomic_cross_edges(nodes[node])\n",
    "for k,v in edges.items():\n",
    "    print(k)\n",
    "    for a,b in v.items():\n",
    "        print(a, len(b))\n",
    "    print()"
   ]
  }
 ],
 "metadata": {
  "kernelspec": {
   "display_name": "Python 3",
   "language": "python",
   "name": "python3"
  },
  "language_info": {
   "codemirror_mode": {
    "name": "ipython",
    "version": 3
   },
   "file_extension": ".py",
   "mimetype": "text/x-python",
   "name": "python",
   "nbconvert_exporter": "python",
   "pygments_lexer": "ipython3",
   "version": "3.7.4"
  }
 },
 "nbformat": 4,
 "nbformat_minor": 2
}

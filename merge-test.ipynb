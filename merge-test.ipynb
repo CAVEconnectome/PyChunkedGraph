{
 "cells": [
  {
   "cell_type": "code",
   "execution_count": 1,
   "metadata": {},
   "outputs": [],
   "source": [
    "import numpy as np\n",
    "from pychunkedgraph.graph import ChunkedGraph, ChunkedGraphMeta\n",
    "from pychunkedgraph.graph.meta import ChunkedGraphMeta, GraphConfig, DataSource\n",
    "\n",
    "ds = DataSource(\n",
    "  EDGES= \"gs://chunkedgraph/minnie65_0/edges\",\n",
    "  COMPONENTS= \"gs://chunkedgraph/minnie65_0/components\",\n",
    "  WATERSHED= \"gs://microns-seunglab/minnie65/ws_minnie65_0\"\n",
    ")\n",
    "gc = GraphConfig(\n",
    "  CHUNK_SIZE= [256, 256, 512]\n",
    ")\n",
    "cg = ChunkedGraph(graph_id=\"akhilesh-minnie65-1\")"
   ]
  },
  {
   "cell_type": "code",
   "execution_count": 2,
   "metadata": {},
   "outputs": [
    {
     "name": "stdout",
     "output_type": "stream",
     "text": [
      "{864691138338302132: 75582971913961693, 864691137629078617: 75512534450307707, 864691137995403800: 75582903194484819, 864691137995404568: 75582834475009044, 864691138741942725: 75582971913961542, 864691137995404824: 75582903194484963, 864691136334203586: 75582971913961503}\n"
     ]
    }
   ],
   "source": [
    "edges = cg.read_chunk_edges([cg.get_chunk_id(layer=2,x=50,y=100,z=0)])\n",
    "edges = edges[\"between\"].get_pairs()\n",
    "nodes = np.unique(edges)\n",
    "parents = cg.get_roots(nodes)\n",
    "d = dict(zip(parents, nodes))\n",
    "print(d)"
   ]
  },
  {
   "cell_type": "code",
   "execution_count": 3,
   "metadata": {},
   "outputs": [
    {
     "name": "stdout",
     "output_type": "stream",
     "text": [
      "[1]\n",
      "[147640565951889409 147640565951889410]\n"
     ]
    }
   ],
   "source": [
    "edges = np.array([[75582971913961693, 75582971913961503]])\n",
    "print(cg.get_cross_chunk_edges_layer(edges))\n",
    "print(cg.get_parents(edges[0]))"
   ]
  },
  {
   "cell_type": "code",
   "execution_count": 4,
   "metadata": {},
   "outputs": [
    {
     "name": "stdout",
     "output_type": "stream",
     "text": [
      "147640565951889409\n",
      "219704963218014230\n",
      "291635563662936192\n",
      "363718446468361184\n",
      "435828817064694903\n",
      "506866064312035921\n",
      "576742227280767262\n",
      "864691138338302132\n",
      "None\n"
     ]
    }
   ],
   "source": [
    "parents = np.uint64(edges[0][0])\n",
    "while parents and parents.size:\n",
    "    parents = cg.get_parent(parents)\n",
    "    print(parents)"
   ]
  },
  {
   "cell_type": "code",
   "execution_count": 5,
   "metadata": {
    "scrolled": false
   },
   "outputs": [
    {
     "name": "stdout",
     "output_type": "stream",
     "text": [
      "2 [147640565951889449]\n",
      "[147640497232412673 147640497232412683 147640497232412684\n",
      " 147710934696067076] [147640497232412673 147710934696067076 147640497232412683\n",
      " 147640565951889409 147640565951889410 147640497232412684]\n",
      "3 [219704963218014267]\n",
      "[219564225729658884] [219564225729658884 219704963218014230]\n",
      "4 [291635563662934043]\n",
      "[291634464151307295] [291634464151307295 291635563662936192 291635563662934656]\n",
      "5 [363718446468300825]\n",
      "Cannot find root id 363718446468300825, 6, 2020-01-30 19:32:41.518000+00:00\n",
      "6 [435828817064362009]\n",
      "[434702917157524103 434702917157630643] [435828817064694903 434702917157630643 434702917157524103]\n",
      "7 [506866064311713817]\n",
      "[506795695567722869] [506795695567722869 506866064312035921]\n",
      "8 [576742227280134169]\n",
      "Cannot find root id 576742227280134169, 12, 2020-01-30 19:32:47.001000+00:00\n",
      "9 []\n",
      "10 []\n",
      "11 []\n",
      "[864691128455135274]\n",
      "add_edge 9.471481084823608\n"
     ]
    }
   ],
   "source": [
    "from pychunkedgraph.graph.edits import add_edges\n",
    "from pychunkedgraph.graph.utils.context_managers import TimeIt\n",
    "\n",
    "edges = np.array(edges, dtype=np.uint64)\n",
    "with TimeIt(\"add_edge\"):\n",
    "    print(add_edges(cg, atomic_edges=edges))"
   ]
  }
 ],
 "metadata": {
  "kernelspec": {
   "display_name": "Python 3",
   "language": "python",
   "name": "python3"
  },
  "language_info": {
   "codemirror_mode": {
    "name": "ipython",
    "version": 3
   },
   "file_extension": ".py",
   "mimetype": "text/x-python",
   "name": "python",
   "nbconvert_exporter": "python",
   "pygments_lexer": "ipython3",
   "version": "3.7.4"
  }
 },
 "nbformat": 4,
 "nbformat_minor": 2
}

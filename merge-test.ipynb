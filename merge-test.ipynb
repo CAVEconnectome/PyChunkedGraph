{
 "cells": [
  {
   "cell_type": "code",
   "execution_count": 1,
   "metadata": {},
   "outputs": [],
   "source": [
    "import copy\n",
    "import numpy as np\n",
    "from pychunkedgraph.graph import ChunkedGraph, ChunkedGraphMeta\n",
    "from pychunkedgraph.graph.meta import ChunkedGraphMeta, GraphConfig, DataSource\n",
    "from pychunkedgraph.graph.utils.inspect import dfs_print_node"
   ]
  },
  {
   "cell_type": "code",
   "execution_count": 2,
   "metadata": {},
   "outputs": [
    {
     "name": "stdout",
     "output_type": "stream",
     "text": [
      "[8]\n",
      "[166582540562334005 166652909306511714]\n",
      "[864691139327226349 864691139527061485]\n"
     ]
    }
   ],
   "source": [
    "ds = DataSource(\n",
    "  EDGES= \"gs://chunkedgraph/minnie65_0/edges\",\n",
    "  COMPONENTS= \"gs://chunkedgraph/minnie65_0/components\",\n",
    "  WATERSHED= \"gs://microns-seunglab/minnie65/ws_minnie65_0\"\n",
    ")\n",
    "gc = GraphConfig(\n",
    "  CHUNK_SIZE= [256, 256, 512]\n",
    ")\n",
    "cg = ChunkedGraph(graph_id=\"akhilesh-minnie65-1\")\n",
    "\n",
    "# edges = np.array([[94803535283198313, 94803466563722624]],dtype=np.uint64)\n",
    "# between 8\n",
    "edges = np.array([[94524946524577880, 94595315268752176]],dtype=np.uint64)\n",
    "\n",
    "print(cg.get_cross_chunk_edges_layer(edges))\n",
    "print(cg.get_parents(edges[0]))\n",
    "roots_old = cg.get_roots(edges[0])\n",
    "print(roots_old)"
   ]
  },
  {
   "cell_type": "code",
   "execution_count": 7,
   "metadata": {},
   "outputs": [
    {
     "data": {
      "text/plain": [
       "{525302675286511348: array([], dtype=uint64),\n",
       " 525232306542348059: array([], dtype=uint64)}"
      ]
     },
     "execution_count": 7,
     "metadata": {},
     "output_type": "execute_result"
    }
   ],
   "source": [
    "nodes = np.array([525302675286511348, 525232306542348059])\n",
    "cg._get_bounding_l2_children(nodes)"
   ]
  },
  {
   "cell_type": "code",
   "execution_count": 8,
   "metadata": {},
   "outputs": [
    {
     "name": "stdout",
     "output_type": "stream",
     "text": [
      "166582540562334005\n",
      "2 4\n",
      "8 28\n",
      "\n",
      "166512171818156502\n",
      "2 4\n",
      "7 5\n",
      "\n"
     ]
    }
   ],
   "source": [
    "nodes = np.array([166512309257110024, 166512309257110018, 166512240537633089])\n",
    "nodes = np.array([166582540562334005, 166512171818156502])\n",
    "acx = cg.get_atomic_cross_edges(nodes)\n",
    "\n",
    "for k,v in acx.items():\n",
    "    print(k)\n",
    "    for i,j in v.items():\n",
    "        print(i, len(j))\n",
    "    print()"
   ]
  },
  {
   "cell_type": "code",
   "execution_count": null,
   "metadata": {},
   "outputs": [],
   "source": [
    "from pychunkedgraph.graph.edits import add_edges\n",
    "from pychunkedgraph.graph.utils.context_managers import TimeIt\n",
    "\n",
    "edges = np.array(edges, dtype=np.uint64)\n",
    "with TimeIt(\"add_edge\"):\n",
    "    done, roots = add_edges(cg, atomic_edges=edges)\n",
    "    \n",
    "print()\n",
    "print(roots)"
   ]
  },
  {
   "cell_type": "code",
   "execution_count": null,
   "metadata": {},
   "outputs": [],
   "source": [
    "# dfs_print_node(cg, roots_old[1], limit=2, sep=\"    \")"
   ]
  },
  {
   "cell_type": "code",
   "execution_count": null,
   "metadata": {},
   "outputs": [],
   "source": [
    "limit = 1\n",
    "leaves = []\n",
    "for root in [*roots_old, roots[1]]:\n",
    "    print(root)\n",
    "    leaves.append([])\n",
    "    children = np.array([root], dtype=np.uint64)\n",
    "    mask = cg.get_chunk_layers(children) > limit\n",
    "    while np.any(mask):\n",
    "        children = cg.get_children(children[mask], flatten=True)\n",
    "        mask = cg.get_chunk_layers(children) > limit\n",
    "        leaves[-1].append(children[~mask])\n",
    "    leaves[-1] = np.concatenate(leaves[-1])\n",
    "    print(len(leaves[-1]))\n",
    "    \n",
    "print()    \n",
    "print([len(x) for x in leaves])\n",
    "    \n",
    "old = np.unique(np.concatenate([leaves[0], leaves[1]]))\n",
    "new = np.unique(leaves[2])\n",
    "print(len(old), len(new))"
   ]
  },
  {
   "cell_type": "code",
   "execution_count": null,
   "metadata": {},
   "outputs": [],
   "source": [
    "print(len(np.setdiff1d(old, new)))\n",
    "diff = np.setdiff1d(old, new)\n",
    "roots = cg.get_parents(diff)\n",
    "print(np.unique(roots, return_counts=True))"
   ]
  }
 ],
 "metadata": {
  "kernelspec": {
   "display_name": "Python 3",
   "language": "python",
   "name": "python3"
  },
  "language_info": {
   "codemirror_mode": {
    "name": "ipython",
    "version": 3
   },
   "file_extension": ".py",
   "mimetype": "text/x-python",
   "name": "python",
   "nbconvert_exporter": "python",
   "pygments_lexer": "ipython3",
   "version": "3.7.4"
  }
 },
 "nbformat": 4,
 "nbformat_minor": 2
}

{
 "cells": [
  {
   "cell_type": "code",
   "execution_count": 1,
   "metadata": {},
   "outputs": [],
   "source": [
    "import numpy as np\n",
    "from pychunkedgraph.graph import ChunkedGraph, ChunkedGraphMeta\n",
    "from pychunkedgraph.graph.meta import ChunkedGraphMeta, GraphConfig, DataSource\n",
    "\n",
    "ds = DataSource(\n",
    "  EDGES= \"gs://chunkedgraph/minnie65_0/edges\",\n",
    "  COMPONENTS= \"gs://chunkedgraph/minnie65_0/components\",\n",
    "  WATERSHED= \"gs://microns-seunglab/minnie65/ws_minnie65_0\"\n",
    ")\n",
    "gc = GraphConfig(\n",
    "  CHUNK_SIZE= [256, 256, 512]\n",
    ")\n",
    "cg = ChunkedGraph(graph_id=\"akhilesh-minnie65-1\")"
   ]
  },
  {
   "cell_type": "code",
   "execution_count": 2,
   "metadata": {},
   "outputs": [
    {
     "name": "stdout",
     "output_type": "stream",
     "text": [
      "{864691138338302132: 75582971913961693, 864691137629078617: 75512534450307707, 864691137995403800: 75582903194484819, 864691137995404568: 75582834475009044, 864691138741942725: 75582971913961542, 864691137995404824: 75582903194484963, 864691136334203586: 75582971913961503}\n"
     ]
    }
   ],
   "source": [
    "edges = cg.read_chunk_edges([cg.get_chunk_id(layer=2,x=50,y=100,z=0)])\n",
    "edges = edges[\"between\"].get_pairs()\n",
    "nodes = np.unique(edges)\n",
    "parents = cg.get_roots(nodes)\n",
    "d = dict(zip(parents, nodes))\n",
    "print(d)"
   ]
  },
  {
   "cell_type": "code",
   "execution_count": 3,
   "metadata": {},
   "outputs": [
    {
     "name": "stdout",
     "output_type": "stream",
     "text": [
      "[1]\n",
      "[147640565951889409 147640565951889410]\n"
     ]
    }
   ],
   "source": [
    "edges = [[75582971913961693, 75582971913961503]]\n",
    "print(cg.get_cross_chunk_edges_layer(edges))\n",
    "print(cg.get_parents(edges[0]))"
   ]
  },
  {
   "cell_type": "code",
   "execution_count": 4,
   "metadata": {},
   "outputs": [
    {
     "name": "stdout",
     "output_type": "stream",
     "text": [
      "147640565951889409\n",
      "219704963218014230\n",
      "291635563662936192\n",
      "363718446468361184\n",
      "435828817064694903\n",
      "506866064312035921\n",
      "576742227280767262\n",
      "864691138338302132\n",
      "None\n"
     ]
    }
   ],
   "source": [
    "parents = np.array(edges[0][0])\n",
    "while parents and parents.size:\n",
    "    parents = cg.get_parent(parents)\n",
    "    print(parents)"
   ]
  },
  {
   "cell_type": "code",
   "execution_count": 5,
   "metadata": {
    "scrolled": false
   },
   "outputs": [
    {
     "name": "stdout",
     "output_type": "stream",
     "text": [
      "2 [147640565951889443]\n",
      "2 [147640565951889443]\n",
      "3 [219704963218014264]\n",
      "[219704963218014264] {219704963218014264: array([147640565951889443, 147640497232412673, 147710934696067076,\n",
      "       147640497232412683, 147640565951889409, 147640565951889410,\n",
      "       147640497232412684], dtype=uint64)} {147640497232412673: {2: array([[75582903194485753, 75582971913961501],\n",
      "       [75582903194485544, 75582971913961501],\n",
      "       [75582903194485544, 75582971913961488],\n",
      "       [75582903194485720, 75582971913961693],\n",
      "       [75582903194485720, 75582971913961473],\n",
      "       [75582903194485767, 75582971913961693]], dtype=uint64), 3: array([[75582903194485200, 75512534450307435],\n",
      "       [75582903194485200, 75512534450307545],\n",
      "       [75582903194485330, 75512534450307653],\n",
      "       [75582903194485481, 75512534450307737],\n",
      "       [75582903194485490, 75512534450307910],\n",
      "       [75582903194485528, 75512534450307957],\n",
      "       [75582903194485720, 75512534450307957],\n",
      "       [75582903194485720, 75512534450308044],\n",
      "       [75582903194485163, 75512534450307435],\n",
      "       [75582903194485077, 75512534450307285],\n",
      "       [75582903194484912, 75512534450307165],\n",
      "       [75582903194485109, 75512534450307419]], dtype=uint64), 4: array([[75582903194484746, 75582834475009094],\n",
      "       [75582903194484873, 75582834475009193],\n",
      "       [75582903194484873, 75582834475009191],\n",
      "       [75582903194484774, 75582834475009300],\n",
      "       [75582903194484766, 75582834475009207],\n",
      "       [75582903194484777, 75582834475008913],\n",
      "       [75582903194484757, 75582834475009060],\n",
      "       [75582903194484912, 75582834475009316],\n",
      "       [75582903194484798, 75582834475009027],\n",
      "       [75582903194484849, 75582834475009105],\n",
      "       [75582903194484755, 75582834475009193]], dtype=uint64)}, 147640497232412683: {2: array([[75582903194485586, 75582971913961513],\n",
      "       [75582903194485666, 75582971913961509]], dtype=uint64)}, 147640497232412684: {2: array([[75582903194485708, 75582971913961503]], dtype=uint64)}, 147640565951889409: {2: array([[75582971913961473, 75582903194485720],\n",
      "       [75582971913961915, 75653340658139747],\n",
      "       [75582971913961956, 75653340658139747],\n",
      "       [75582971913961509, 75582903194485666],\n",
      "       [75582971913961488, 75582903194485544],\n",
      "       [75582971913961513, 75582903194485586],\n",
      "       [75582971913961693, 75582903194485720],\n",
      "       [75582971913961693, 75582903194485767],\n",
      "       [75582971913961501, 75582903194485544],\n",
      "       [75582971913961501, 75582903194485753]], dtype=uint64), 3: array([[75582971913961473, 75512603169783884],\n",
      "       [75582971913961693, 75512603169783884],\n",
      "       [75582971913961693, 75512603169784102]], dtype=uint64)}, 147640565951889410: {2: array([[75582971913961503, 75582903194485708]], dtype=uint64)}, 147710934696067076: {2: array([[75653340658139747, 75582971913961956],\n",
      "       [75653340658139747, 75582971913961915]], dtype=uint64)}}\n",
      "add_edge 0.9544060230255127\n"
     ]
    },
    {
     "ename": "KeyError",
     "evalue": "147640565951889443",
     "output_type": "error",
     "traceback": [
      "\u001b[0;31m---------------------------------------------------------------------------\u001b[0m",
      "\u001b[0;31mKeyError\u001b[0m                                  Traceback (most recent call last)",
      "\u001b[0;32m<ipython-input-5-ca3b63d47a33>\u001b[0m in \u001b[0;36m<module>\u001b[0;34m\u001b[0m\n\u001b[1;32m      4\u001b[0m \u001b[0medges\u001b[0m \u001b[0;34m=\u001b[0m \u001b[0mnp\u001b[0m\u001b[0;34m.\u001b[0m\u001b[0marray\u001b[0m\u001b[0;34m(\u001b[0m\u001b[0medges\u001b[0m\u001b[0;34m,\u001b[0m \u001b[0mdtype\u001b[0m\u001b[0;34m=\u001b[0m\u001b[0mnp\u001b[0m\u001b[0;34m.\u001b[0m\u001b[0muint64\u001b[0m\u001b[0;34m)\u001b[0m\u001b[0;34m\u001b[0m\u001b[0;34m\u001b[0m\u001b[0m\n\u001b[1;32m      5\u001b[0m \u001b[0;32mwith\u001b[0m \u001b[0mTimeIt\u001b[0m\u001b[0;34m(\u001b[0m\u001b[0;34m\"add_edge\"\u001b[0m\u001b[0;34m)\u001b[0m\u001b[0;34m:\u001b[0m\u001b[0;34m\u001b[0m\u001b[0;34m\u001b[0m\u001b[0m\n\u001b[0;32m----> 6\u001b[0;31m     \u001b[0mprint\u001b[0m\u001b[0;34m(\u001b[0m\u001b[0madd_edges\u001b[0m\u001b[0;34m(\u001b[0m\u001b[0mcg\u001b[0m\u001b[0;34m,\u001b[0m \u001b[0matomic_edges\u001b[0m\u001b[0;34m=\u001b[0m\u001b[0medges\u001b[0m\u001b[0;34m)\u001b[0m\u001b[0;34m)\u001b[0m\u001b[0;34m\u001b[0m\u001b[0;34m\u001b[0m\u001b[0m\n\u001b[0m",
      "\u001b[0;32m/workspaces/sl-pychunkedgraph/pychunkedgraph/graph/edits.py\u001b[0m in \u001b[0;36madd_edges\u001b[0;34m(cg, atomic_edges, operation_id, source_coords, sink_coords, time_stamp)\u001b[0m\n\u001b[1;32m    170\u001b[0m         \u001b[0mnew_cross_edges_d_d\u001b[0m\u001b[0;34m.\u001b[0m\u001b[0mcopy\u001b[0m\u001b[0;34m(\u001b[0m\u001b[0;34m)\u001b[0m\u001b[0;34m,\u001b[0m\u001b[0;34m\u001b[0m\u001b[0;34m\u001b[0m\u001b[0m\n\u001b[1;32m    171\u001b[0m         \u001b[0moperation_id\u001b[0m\u001b[0;34m=\u001b[0m\u001b[0moperation_id\u001b[0m\u001b[0;34m,\u001b[0m\u001b[0;34m\u001b[0m\u001b[0;34m\u001b[0m\u001b[0m\n\u001b[0;32m--> 172\u001b[0;31m         \u001b[0mtime_stamp\u001b[0m\u001b[0;34m=\u001b[0m\u001b[0mtime_stamp\u001b[0m\u001b[0;34m,\u001b[0m\u001b[0;34m\u001b[0m\u001b[0;34m\u001b[0m\u001b[0m\n\u001b[0m\u001b[1;32m    173\u001b[0m     )\n\u001b[1;32m    174\u001b[0m \u001b[0;34m\u001b[0m\u001b[0m\n",
      "\u001b[0;32m/workspaces/sl-pychunkedgraph/pychunkedgraph/graph/edits.py\u001b[0m in \u001b[0;36m_create_parents\u001b[0;34m(cg, new_cross_edges_d_d, operation_id, time_stamp)\u001b[0m\n\u001b[1;32m     81\u001b[0m         new_cross_edges_d_d.update(\n\u001b[1;32m     82\u001b[0m             cg.get_cross_chunk_edges(\n\u001b[0;32m---> 83\u001b[0;31m                 \u001b[0mnew_ids\u001b[0m\u001b[0;34m[\u001b[0m\u001b[0;34m~\u001b[0m\u001b[0mnp\u001b[0m\u001b[0;34m.\u001b[0m\u001b[0min1d\u001b[0m\u001b[0;34m(\u001b[0m\u001b[0mnew_ids\u001b[0m\u001b[0;34m,\u001b[0m \u001b[0mnew_ids_\u001b[0m\u001b[0;34m)\u001b[0m\u001b[0;34m]\u001b[0m\u001b[0;34m,\u001b[0m \u001b[0mnodes_cache\u001b[0m\u001b[0;34m=\u001b[0m\u001b[0mnew_nodes_d\u001b[0m\u001b[0;34m\u001b[0m\u001b[0;34m\u001b[0m\u001b[0m\n\u001b[0m\u001b[1;32m     84\u001b[0m             )\n\u001b[1;32m     85\u001b[0m         )\n",
      "\u001b[0;32m/workspaces/sl-pychunkedgraph/pychunkedgraph/graph/chunkedgraph.py\u001b[0m in \u001b[0;36mget_cross_chunk_edges\u001b[0;34m(self, node_ids, nodes_cache)\u001b[0m\n\u001b[1;32m    288\u001b[0m         \u001b[0mprint\u001b[0m\u001b[0;34m(\u001b[0m\u001b[0mnode_ids\u001b[0m\u001b[0;34m,\u001b[0m \u001b[0mnode_l2ids_d\u001b[0m\u001b[0;34m,\u001b[0m \u001b[0ml2_edges_d_d\u001b[0m\u001b[0;34m)\u001b[0m\u001b[0;34m\u001b[0m\u001b[0;34m\u001b[0m\u001b[0m\n\u001b[1;32m    289\u001b[0m         \u001b[0;32mfor\u001b[0m \u001b[0mnode_id\u001b[0m \u001b[0;32min\u001b[0m \u001b[0mnode_ids\u001b[0m\u001b[0;34m:\u001b[0m\u001b[0;34m\u001b[0m\u001b[0;34m\u001b[0m\u001b[0m\n\u001b[0;32m--> 290\u001b[0;31m             \u001b[0ml2_edges_ds\u001b[0m \u001b[0;34m=\u001b[0m \u001b[0;34m[\u001b[0m\u001b[0ml2_edges_d_d\u001b[0m\u001b[0;34m[\u001b[0m\u001b[0ml2_id\u001b[0m\u001b[0;34m]\u001b[0m \u001b[0;32mfor\u001b[0m \u001b[0ml2_id\u001b[0m \u001b[0;32min\u001b[0m \u001b[0mnode_l2ids_d\u001b[0m\u001b[0;34m[\u001b[0m\u001b[0mnode_id\u001b[0m\u001b[0;34m]\u001b[0m\u001b[0;34m]\u001b[0m\u001b[0;34m\u001b[0m\u001b[0;34m\u001b[0m\u001b[0m\n\u001b[0m\u001b[1;32m    291\u001b[0m             \u001b[0mresult\u001b[0m\u001b[0;34m[\u001b[0m\u001b[0mnode_id\u001b[0m\u001b[0;34m]\u001b[0m \u001b[0;34m=\u001b[0m \u001b[0mself\u001b[0m\u001b[0;34m.\u001b[0m\u001b[0mget_min_layer_cross_edges\u001b[0m\u001b[0;34m(\u001b[0m\u001b[0mnode_id\u001b[0m\u001b[0;34m,\u001b[0m \u001b[0ml2_edges_ds\u001b[0m\u001b[0;34m)\u001b[0m\u001b[0;34m\u001b[0m\u001b[0;34m\u001b[0m\u001b[0m\n\u001b[1;32m    292\u001b[0m         \u001b[0;32mreturn\u001b[0m \u001b[0mresult\u001b[0m\u001b[0;34m\u001b[0m\u001b[0;34m\u001b[0m\u001b[0m\n",
      "\u001b[0;32m/workspaces/sl-pychunkedgraph/pychunkedgraph/graph/chunkedgraph.py\u001b[0m in \u001b[0;36m<listcomp>\u001b[0;34m(.0)\u001b[0m\n\u001b[1;32m    288\u001b[0m         \u001b[0mprint\u001b[0m\u001b[0;34m(\u001b[0m\u001b[0mnode_ids\u001b[0m\u001b[0;34m,\u001b[0m \u001b[0mnode_l2ids_d\u001b[0m\u001b[0;34m,\u001b[0m \u001b[0ml2_edges_d_d\u001b[0m\u001b[0;34m)\u001b[0m\u001b[0;34m\u001b[0m\u001b[0;34m\u001b[0m\u001b[0m\n\u001b[1;32m    289\u001b[0m         \u001b[0;32mfor\u001b[0m \u001b[0mnode_id\u001b[0m \u001b[0;32min\u001b[0m \u001b[0mnode_ids\u001b[0m\u001b[0;34m:\u001b[0m\u001b[0;34m\u001b[0m\u001b[0;34m\u001b[0m\u001b[0m\n\u001b[0;32m--> 290\u001b[0;31m             \u001b[0ml2_edges_ds\u001b[0m \u001b[0;34m=\u001b[0m \u001b[0;34m[\u001b[0m\u001b[0ml2_edges_d_d\u001b[0m\u001b[0;34m[\u001b[0m\u001b[0ml2_id\u001b[0m\u001b[0;34m]\u001b[0m \u001b[0;32mfor\u001b[0m \u001b[0ml2_id\u001b[0m \u001b[0;32min\u001b[0m \u001b[0mnode_l2ids_d\u001b[0m\u001b[0;34m[\u001b[0m\u001b[0mnode_id\u001b[0m\u001b[0;34m]\u001b[0m\u001b[0;34m]\u001b[0m\u001b[0;34m\u001b[0m\u001b[0;34m\u001b[0m\u001b[0m\n\u001b[0m\u001b[1;32m    291\u001b[0m             \u001b[0mresult\u001b[0m\u001b[0;34m[\u001b[0m\u001b[0mnode_id\u001b[0m\u001b[0;34m]\u001b[0m \u001b[0;34m=\u001b[0m \u001b[0mself\u001b[0m\u001b[0;34m.\u001b[0m\u001b[0mget_min_layer_cross_edges\u001b[0m\u001b[0;34m(\u001b[0m\u001b[0mnode_id\u001b[0m\u001b[0;34m,\u001b[0m \u001b[0ml2_edges_ds\u001b[0m\u001b[0;34m)\u001b[0m\u001b[0;34m\u001b[0m\u001b[0;34m\u001b[0m\u001b[0m\n\u001b[1;32m    292\u001b[0m         \u001b[0;32mreturn\u001b[0m \u001b[0mresult\u001b[0m\u001b[0;34m\u001b[0m\u001b[0;34m\u001b[0m\u001b[0m\n",
      "\u001b[0;31mKeyError\u001b[0m: 147640565951889443"
     ]
    }
   ],
   "source": [
    "from pychunkedgraph.graph.edits import add_edges\n",
    "from pychunkedgraph.graph.utils.context_managers import TimeIt\n",
    "\n",
    "edges = np.array(edges, dtype=np.uint64)\n",
    "with TimeIt(\"add_edge\"):\n",
    "    print(add_edges(cg, atomic_edges=edges))"
   ]
  }
 ],
 "metadata": {
  "kernelspec": {
   "display_name": "Python 3",
   "language": "python",
   "name": "python3"
  },
  "language_info": {
   "codemirror_mode": {
    "name": "ipython",
    "version": 3
   },
   "file_extension": ".py",
   "mimetype": "text/x-python",
   "name": "python",
   "nbconvert_exporter": "python",
   "pygments_lexer": "ipython3",
   "version": "3.7.4"
  }
 },
 "nbformat": 4,
 "nbformat_minor": 2
}
